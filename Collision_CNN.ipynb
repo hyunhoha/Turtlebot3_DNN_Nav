{
 "cells": [
  {
   "cell_type": "code",
   "execution_count": 1,
   "id": "9cf0caa6",
   "metadata": {},
   "outputs": [],
   "source": [
    "import tensorflow as tf\n",
    "import numpy as np\n",
    "import matplotlib.pyplot as plt\n",
    "# from selenium import webdriver\n",
    "import os\n",
    "import requests\n",
    "import re\n",
    "import pandas as pd\n",
    "from tensorflow import keras\n",
    "from tensorflow.keras.models import Sequential\n",
    "from tensorflow.keras.layers import LSTM, Dropout, Dense, Activation\n",
    "from tensorflow.keras.layers import BatchNormalization\n",
    "import datetime\n",
    "import cv2"
   ]
  },
  {
   "cell_type": "code",
   "execution_count": 2,
   "id": "98425281",
   "metadata": {},
   "outputs": [],
   "source": [
    "# 이미 저장된 이미지를 읽어오는 함수입니다. 경로 수정 필요\n",
    "# 흑백 이미지도, jpeg로 저장하면 3채널이 됩니다. 그래서 단일 채널로 변환이 필요.\n",
    "def get_image(number):\n",
    "    img_name = 'camera_image'+str(number)+'.jpeg'\n",
    "    image = cv2.imread(os.path.join(os.getcwd(), 'images3_resized', img_name))[:,:,0]\n",
    "#     image = cv2.imread(os.path.join('/','home','hyun','catkin_ws','src','knu_prj','images3_resized',img_name), cv2.IMREAD_ANYCOLOR)\n",
    "    return image   "
   ]
  },
  {
   "cell_type": "code",
   "execution_count": 3,
   "id": "3eaddf01",
   "metadata": {
    "scrolled": true
   },
   "outputs": [
    {
     "name": "stdout",
     "output_type": "stream",
     "text": [
      "1000\n",
      "2000\n",
      "3000\n",
      "4000\n",
      "5000\n",
      "6000\n",
      "7000\n",
      "8000\n",
      "9000\n",
      "10000\n",
      "11000\n",
      "Image load Completed!  11677 driving image loaded\n"
     ]
    },
    {
     "data": {
      "text/plain": [
       "(11677, 224, 224)"
      ]
     },
     "execution_count": 3,
     "metadata": {},
     "output_type": "execute_result"
    }
   ],
   "source": [
    "# 폴더에 존재하는 모든 이미지를 load하는 부분입니다. (총 11677장)\n",
    "# 매번 numpy array에 vstack으로 붙이면 속도가 상당히 느린데,\n",
    "# 100장을 붙인 뒤 이것을 한 번에 붙이면 속도가 빨라집니다.\n",
    "\n",
    "cnt = 0\n",
    "number = 2\n",
    "train_images = np.array(get_image(1))\n",
    "\n",
    "while True:\n",
    "    try:\n",
    "        image = get_image(number)\n",
    "        if cnt == 0:\n",
    "            tmp = image\n",
    "        else:\n",
    "            tmp = np.vstack((tmp,image))\n",
    "            if cnt == 100:\n",
    "                train_images = np.vstack((train_images, tmp))\n",
    "                cnt = -1\n",
    "        cnt += 1\n",
    "        number += 1\n",
    "        if(number%1000 == 0):\n",
    "            print(number)\n",
    "    except:\n",
    "        train_images = np.vstack((train_images, tmp))\n",
    "        print(\"Image load Completed! \", number-1, \"driving image loaded\")\n",
    "        break\n",
    "        \n",
    "drive_x = np.reshape(train_images, [int(train_images.shape[0]/224),224, 224])\n",
    "drive_x.shape "
   ]
  },
  {
   "cell_type": "code",
   "execution_count": 4,
   "id": "dae5c4a1",
   "metadata": {},
   "outputs": [
    {
     "data": {
      "text/plain": [
       "<matplotlib.image.AxesImage at 0x7fa967131f70>"
      ]
     },
     "execution_count": 4,
     "metadata": {},
     "output_type": "execute_result"
    },
    {
     "data": {
      "image/png": "[encoded data removed]",
      "text/plain": [
       "<Figure size 432x288 with 1 Axes>"
      ]
     },
     "metadata": {
      "needs_background": "light"
     },
     "output_type": "display_data"
    }
   ],
   "source": [
    "# load된 이미지 테스트\n",
    "imag1 = drive_x[0]\n",
    "plt.imshow(imag1, 'gray')"
   ]
  },
  {
   "cell_type": "code",
   "execution_count": 5,
   "id": "63e1270c",
   "metadata": {},
   "outputs": [],
   "source": [
    "# 이미지를 큰 사이즈로 새로 획득한 경우, 작은 사이즈로 resize 후 다시 저장하는 코드\n",
    "# for i in range(train_set.shape[0]):\n",
    "#     num = i+1\n",
    "#     img_name = \"camera_image\" + str(num) + \".jpeg\"\n",
    "#     cv2.imwrite(os.path.join('/','home','hyun','catkin_ws','src','knu_prj',[path to save],img_name), train_set[i])"
   ]
  },
  {
   "cell_type": "code",
   "execution_count": 6,
   "id": "eca64248",
   "metadata": {},
   "outputs": [
    {
     "data": {
      "text/plain": [
       "'0.15 -0.04\\n0.15 -0.04\\n0.15 -0.05\\n0.15 -0.05\\n0.15 -0.05\\n0.15 -0.05\\n0.15 -0.02\\n0.15 -0.02\\n0.15 -0.02\\n0.15 -0.02\\n0.0 0.0\\n0.22 0.32\\n0.22 0.32\\n0.23 0.4\\n0.23 0.4\\n0.23 0.4\\n0.23 0.4\\n0.23 0.4\\n0.25 0.47\\n0.25 0.47\\n0.25 0.47\\n0.25 0.47\\n0.25 0.46\\n0.25 0.46\\n0.25 0.46\\n0.25 0.41\\n0.25 0.41\\n0.25 0.41\\n0.25 0.41\\n0.25 0.41\\n0.25 0.41\\n0.25 0.41\\n0.25 0.41\\n0.25 0.41\\n0.25 0.41\\n0.25 0.4\\n0.25 0.4\\n0.25 0.4\\n0.25 0.4\\n0.25 0.4\\n0.25 0.44\\n0.25 0.44\\n0.25 0.44\\n0.25 0.44\\n0.25 0.44\\n0.25 0.43\\n0.25 0.43\\n0.25 0.43\\n0.24 0.38\\n0.24 0.38\\n0.24 0.38\\n0.25 0.41\\n0.25 0.41\\n0.25 0.41\\n0.25 0.41\\n0.25 0.39\\n0.25 0.39\\n0.25 0.39\\n0.25 0.39\\n0.25 0.39\\n0.25 0.45\\n0.25 0.45\\n0.25 0.45\\n0.25 0.45\\n0.25 0.42\\n0.25 0.33\\n0.25 0.33\\n0.25 0.33\\n0.25 0.33\\n0.25 0.4\\n0.25 0.4\\n0.25 0.4\\n0.25 0.4\\n0.25 0.37\\n0.25 0.37\\n0.25 0.37\\n0.25 0.37\\n0.25 0.37\\n0.23 0.35\\n0.23 0.35\\n0.23 0.35\\n0.23 0.35\\n0.23 0.35\\n0.23 0.35\\n0.23 0.35\\n0.23 0.35\\n0.22 0.32\\n0.22 0.32\\n0.22 0.32\\n0.23 0.23\\n0.23 0.23\\n0.23 0.23\\n0.23 0.23\\n0.23 0.27\\n0.23 0.27\\n0.23 0.27\\n0.23 0.27\\n0.19 0.29\\n0.19 0.29\\n0.19 0.29\\n0.19 0.29\\n0.19 0.29\\n0.17 0.28\\n0.17 0.28\\n0.17 0.28\\n0.17 0.28\\n0.16 0.27\\n0.16 0.27\\n0.16 0.27\\n0.16 0.27\\n0.2 0.18\\n0.2 0.18\\n0.2 0.18\\n0.2 0.18\\n0.2 0.18\\n0.14 0.24\\n0.14 0.24\\n0.14 0.24\\n0.14 0.24\\n0.16 0.19\\n0.16 0.19\\n0.16 0.19\\n0.16 0.19\\n0.19 0.12\\n0.19 0.12\\n0.19 0.12\\n0.19 0.12\\n0.19 0.12\\n0.19 0.12\\n0.17 0.11\\n0.17 0.11\\n0.17 0.11\\n0.15 0.08\\n0.15 0.08\\n0.15 0.08\\n0.15 0.08\\n0.15 0.08\\n0.15 0.08\\n0.15 0.08\\n0.15 0.08\\n0.15 0.11\\n0.15 0.11\\n0.15 0.11\\n0.15 0.11\\n0.15 0.11\\n0.15 0.11\\n0.14 0.08\\n0.14 0.08\\n0.14 0.08\\n0.14 0.08\\n0.14 0.08\\n0.14 0.08\\n0.14 0.08\\n0.14 0.08\\n0.14 0.08\\n0.25 -0.17\\n0.25 -0.17\\n0.25 -0.17\\n0.25 -0.17\\n0.25 -0.23\\n0.25 -0.23\\n0.25 -0.23\\n0.25 -0.23\\n0.24 -0.22\\n0.24 -0.22\\n0.24 -0.22\\n0.24 -0.22\\n0.25 -0.28\\n0.25 -0.28\\n0.25 -0.28\\n0.25 -0.28\\n0.25 -0.28\\n0.25 -0.31\\n0.25 -0.31\\n0.25 -0.31\\n0.25 -0.31\\n0.25 -0.25\\n0.25 -0.25\\n0.25 -0.25\\n0.25 -0.25\\n0.25 -0.34\\n0.25 -0.34\\n0.25 -0.34\\n0.25 -0.34\\n0.25 -0.3\\n0.25 -0.3\\n0.25 -0.3\\n0.25 -0.3\\n0.25 -0.29\\n0.25 -0.29\\n0.25 -0.29\\n0.25 -0.29\\n0.25 -0.29\\n0.25 -0.29\\n0.25 -0.29\\n0.25 -0.29\\n0.25 -0.29\\n0.25 -0.29\\n0.25 -0.33\\n0.25 -0.33\\n0.25 -0.33\\n0.25 -0.33\\n0.25 -0.24\\n0.25 -0.24\\n0.25 -0.24\\n0.25 -0.26\\n0.25 -0.26\\n0.25 -0.26\\n0.25 -0.26\\n0.25 -0.26\\n0.25 -0.27\\n0.25 -0.27\\n0.25 -0.27\\n0.25 -0.27\\n0.25 -0.27\\n0.25 -0.27\\n0.25 -0.27\\n0.25 -0.27\\n0.25 -0.27\\n0.25 -0.27\\n0.25 -0.32\\n0.25 -0.32\\n0.25 -0.32\\n0.25 -0.32\\n0.25 -0.31\\n0.25 -0.31\\n0.25 -0.31\\n0.25 -0.34\\n0.25 -0.34\\n0.25 -0.34\\n0.25 -0.34\\n0.25 -0.3\\n0.25 -0.3\\n0.25 -0.3\\n0.25 -0.3\\n0.25 -0.3\\n0.25 -0.38\\n0.25 -0.38\\n0.25 -0.38\\n0.25 -0.38\\n0.25 -0.36\\n0.25 -0.36\\n0.25 -0.36\\n0.25 -0.33\\n0.25 -0.33\\n0.25 -0.33\\n0.25 -0.33\\n0.25 -0.37\\n0.25 -0.37\\n0.25 -0.37\\n0.25 -0.37\\n0.25 -0.37\\n0.25 -0.36\\n0.25 -0.36\\n0.25 -0.36\\n0.25 -0.36\\n0.25 -0.36\\n0.25 -0.33\\n0.25 -0.33\\n0.25 -0.33\\n0.25 -0.33\\n0.25 -0.33\\n0.25 -0.33\\n0.25 -0.33\\n0.25 -0.33\\n0.25 -0.33\\n0.25 -0.33\\n0.25 -0.33\\n0.25 -0.1\\n0.25 -0.1\\n0.25 -0.1\\n0.25 -0.05\\n0.25 -0.05\\n0.25 -0.05\\n0.25 -0.05\\n0.25 -0.14\\n0.25 -0.14\\n0.25 -0.14\\n0.25 -0.14\\n0.25 -0.14\\n0.25 -0.14\\n0.25 -0.14\\n0.25 -0.14\\n0.25 -0.14\\n0.25 -0.14\\n0.25 -0.14\\n0.25 -0.14\\n0.25 -0.14\\n0.25 -0.13\\n0.25 -0.13\\n0.25 -0.13\\n0.25 -0.13\\n0.25 -0.17\\n0.25 -0.17\\n0.25 -0.17\\n0.25 -0.17\\n0.25 -0.17\\n0.25 -0.16\\n0.25 -0.16\\n0.25 -0.16\\n0.25 -0.17\\n0.25 -0.17\\n0.25 -0.17\\n0.25 -0.17\\n0.25 -0.19\\n0.25 -0.19\\n0.25 -0.19\\n0.25 -0.19\\n0.25 -0.2\\n0.25 -0.2\\n0.25 -0.2\\n0.25 -0.2\\n0.25 -0.23\\n0.25 -0.23\\n0.25 -0.23\\n0.25 -0.23\\n0.25 -0.22\\n0.25 -0.22\\n0.25 -0.22\\n0.25 -0.22\\n0.25 -0.21\\n0.25 -0.21\\n0.25 -0.21\\n0.25 -0.21\\n0.25 -0.21\\n0.25 -0.2\\n0.25 -0.2\\n0.25 -0.2\\n0.25 -0.2\\n0.25 -0.26\\n0.25 -0.26\\n0.25 -0.26\\n0.25 -0.26\\n0.25 -0.26\\n0.25 -0.27\\n0.25 -0.27\\n0.25 -0.27\\n0.25 -0.27\\n0.25 -0.24\\n0.25 -0.24\\n0.25 -0.24\\n0.25 -0.24\\n0.25 -0.24\\n0.25 -0.33\\n0.25 -0.33\\n0.25 -0.33\\n0.25 -0.33\\n0.25 -0.32\\n0.25 -0.32\\n0.25 -0.32\\n0.25 -0.32\\n0.25 -0.32\\n0.25 -0.33\\n0.25 -0.33\\n0.25 -0.33\\n0.25 -0.33\\n0.25 -0.33\\n0.25 -0.33\\n0.25 -0.33\\n0.25 -0.33\\n0.25 -0.33\\n0.25 -0.25\\n0.25 -0.25\\n0.25 -0.25\\n0.25 -0.25\\n0.25 -0.26\\n0.25 -0.26\\n0.25 -0.26\\n0.25 -0.24\\n0.25 -0.24\\n0.25 -0.24\\n0.25 -0.24\\n0.25 -0.3\\n0.25 -0.3\\n0.25 -0.3\\n0.25 -0.3\\n0.25 -0.3\\n0.25 -0.29\\n0.25 -0.29\\n0.25 -0.29\\n0.25 -0.29\\n0.25 -0.21\\n0.25 -0.21\\n0.25 -0.21\\n0.25 -0.21\\n0.25 -0.21\\n0.25 -0.2\\n0.25 -0.2\\n0.25 -0.2\\n0.25 -0.2\\n0.25 -0.2\\n0.25 -0.2\\n0.25 -0.2\\n0.25 -0.2\\n0.25 -0.25\\n0.25 -0.25\\n0.25 -0.25\\n0.25 -0.25\\n0.25 -0.24\\n0.25 -0.24\\n0.25 -0.24\\n0.25 -0.24\\n0.25 -0.24\\n0.23 -0.23\\n0.23 -0.23\\n0.23 -0.23\\n0.23 -0.23\\n0.23 -0.23\\n0.25 -0.29\\n0.25 -0.29\\n0.25 -0.29\\n0.25 -0.29\\n0.23 -0.33\\n0.23 -0.33\\n0.23 -0.33\\n0.23 -0.33\\n0.23 -0.33\\n0.23 -0.33\\n0.22 -0.32\\n0.22 -0.32\\n0.22 -0.32\\n0.22 -0.32\\n0.2 -0.29\\n0.2 -0.29\\n0.2 -0.29\\n0.2 -0.29\\n0.2 -0.28\\n0.2 -0.28\\n0.2 -0.28\\n0.2 -0.28\\n0.18 -0.27\\n0.18 -0.27\\n0.18 -0.27\\n0.18 -0.27\\n0.17 -0.27\\n0.17 -0.27\\n0.17 -0.27\\n0.17 -0.27\\n0.17 -0.27\\n0.21 -0.14\\n0.21 -0.14\\n0.21 -0.14\\n0.15 -0.25\\n0.15 -0.25\\n0.15 -0.25\\n0.15 -0.25\\n0.15 -0.22\\n0.15 -0.22\\n0.15 -0.22\\n0.15 -0.22\\n0.15 -0.08\\n0.15 -0.08\\n0.15 -0.08\\n0.15 -0.08\\n0.17 -0.07\\n0.17 -0.07\\n0.17 -0.07\\n0.17 -0.07\\n0.15 -0.07\\n0.15 -0.07\\n0.15 -0.07\\n0.15 -0.07\\n0.15 -0.07\\n0.15 -0.07\\n0.15 -0.07\\n0.25 -0.39\\n0.25 -0.39\\n0.25 -0.39\\n0.25 -0.39\\n0.25 -0.39\\n0.14 -0.25\\n0.14 -0.25\\n0.14 -0.25\\n0.14 -0.25\\n0.21 -0.37\\n0.21 -0.37\\n0.21 -0.37\\n0.21 -0.37\\n0.21 -0.37\\n0.24 -0.5\\n0.24 -0.5\\n0.24 -0.5\\n0.24 -0.5\\n0.25 -0.54\\n0.25 -0.54\\n0.25 -0.54\\n0.25 -0.54\\n0.25 -0.51\\n0.25 -0.51\\n0.25 -0.51\\n0.25 -0.51\\n0.25 -0.59\\n0.25 -0.59\\n0.25 -0.59\\n0.25 -0.57\\n0.25 -0.57\\n0.25 -0.57\\n0.25 -0.54\\n0.25 -0.54\\n0.25 -0.56\\n0.25 -0.56\\n0.25 -0.56\\n0.25 -0.56\\n0.25 -0.56\\n0.25 -0.53\\n0.25 -0.53\\n0.25 -0.53\\n0.25 -0.53\\n0.25 -0.51\\n0.25 -0.51\\n0.25 -0.51\\n0.25 -0.46\\n0.25 -0.46\\n0.25 -0.46\\n0.25 -0.45\\n0.25 -0.45\\n0.25 -0.45\\n0.25 -0.45\\n0.25 -0.45\\n0.25 -0.43\\n0.25 -0.43\\n0.25 -0.43\\n0.25 -0.43\\n0.25 -0.43\\n0.25 -0.43\\n0.25 -0.43\\n0.25 -0.43\\n0.25 -0.44\\n0.25 -0.44\\n0.25 -0.44\\n0.25 -0.44\\n0.25 -0.4\\n0.25 -0.4\\n0.25 -0.4\\n0.25 -0.4\\n0.25 -0.4\\n0.25 -0.4\\n0.25 -0.4\\n0.25 -0.4\\n0.25 -0.44\\n0.25 -0.44\\n0.25 -0.44\\n0.25 -0.44\\n0.25 -0.38\\n0.25 -0.38\\n0.25 -0.38\\n0.25 -0.38\\n0.25 -0.38\\n0.25 -0.38\\n0.25 -0.38\\n0.25 -0.37\\n0.25 -0.37\\n0.25 -0.37\\n0.25 -0.37\\n0.25 -0.37\\n0.25 -0.37\\n0.25 -0.36\\n0.25 -0.36\\n0.25 -0.36\\n0.25 -0.36\\n0.25 -0.36\\n0.25 -0.25\\n0.25 -0.25\\n0.25 -0.25\\n0.25 -0.41\\n0.25 -0.41\\n0.25 -0.41\\n0.25 -0.41\\n0.25 -0.29\\n0.25 -0.29\\n0.25 -0.29\\n0.25 -0.29\\n0.25 -0.29\\n0.25 -0.26\\n0.25 -0.26\\n0.25 -0.26\\n0.25 -0.35\\n0.25 -0.35\\n0.25 -0.35\\n0.25 -0.35\\n0.25 -0.27\\n0.25 -0.27\\n0.25 -0.27\\n0.25 -0.27\\n0.25 -0.25\\n0.25 -0.25\\n0.25 -0.25\\n0.25 -0.25\\n0.23 -0.24\\n0.23 -0.24\\n0.23 -0.24\\n0.25 -0.24\\n0.25 -0.24\\n0.25 -0.24\\n0.25 -0.24\\n0.25 -0.21\\n0.25 -0.21\\n0.25 -0.21\\n0.25 -0.21\\n0.23 -0.21\\n0.23 -0.21\\n0.23 -0.21\\n0.23 -0.21\\n0.22 -0.19\\n0.22 -0.19\\n0.22 -0.19\\n0.22 -0.19\\n0.2 -0.2\\n0.2 -0.2\\n0.2 -0.2\\n0.2 -0.2\\n0.2 -0.18\\n0.2 -0.18\\n0.2 -0.18\\n0.2 -0.18\\n0.19 -0.24\\n0.19 -0.24\\n0.19 -0.24\\n0.19 -0.24\\n0.18 -0.21\\n0.18 -0.21\\n0.18 -0.21\\n0.18 -0.21\\n0.17 -0.2\\n0.17 -0.2\\n0.17 -0.2\\n0.17 -0.2\\n0.17 -0.2\\n0.15 -0.16\\n0.15 -0.16\\n0.15 -0.16\\n0.15 -0.16\\n0.15 -0.16\\n0.15 -0.16\\n0.15 -0.16\\n0.15 -0.17\\n0.15 -0.17\\n0.15 -0.17\\n0.15 -0.17\\n0.15 -0.17\\n0.15 -0.18\\n0.15 -0.18\\n0.15 -0.18\\n0.15 -0.18\\n0.15 -0.14\\n0.15 -0.14\\n0.15 -0.14\\n0.15 -0.14\\n0.15 -0.11\\n0.15 -0.11\\n0.15 -0.11\\n0.15 -0.18\\n0.15 -0.18\\n0.15 -0.18\\n0.15 -0.18\\n0.15 -0.18\\n0.13 -0.08\\n0.13 -0.08\\n0.13 -0.08\\n0.14 -0.23\\n0.14 -0.23\\n0.14 -0.23\\n0.14 -0.19\\n0.14 -0.19\\n0.14 -0.19\\n0.14 -0.19\\n0.25 -0.31\\n0.25 -0.31\\n0.25 -0.31\\n0.25 -0.31\\n0.25 -0.29\\n0.25 -0.29\\n0.25 -0.29\\n0.25 -0.29\\n0.25 -0.23\\n0.25 -0.23\\n0.25 -0.23\\n0.25 -0.23\\n0.25 -0.17\\n0.25 -0.17\\n0.25 -0.17\\n0.25 -0.17\\n0.25 -0.22\\n0.25 -0.22\\n0.25 -0.18\\n0.25 -0.18\\n0.25 -0.18\\n0.25 -0.18\\n0.25 -0.01\\n0.25 -0.01\\n0.25 -0.01\\n0.25 -0.01\\n0.25 -0.01\\n0.25 -0.12\\n0.25 -0.12\\n0.25 -0.03\\n0.25 -0.03\\n0.25 -0.03\\n0.25 -0.03\\n0.25 -0.02\\n0.25 -0.02\\n0.25 -0.02\\n0.25 -0.02\\n0.25 -0.06\\n0.25 -0.06\\n0.25 -0.06\\n0.25 0.01\\n0.25 0.01\\n0.25 0.01\\n0.25 0.01\\n0.25 -0.08\\n0.25 -0.08\\n0.25 -0.08\\n0.25 -0.08\\n0.25 0.02\\n0.25 0.02\\n0.25 0.02\\n0.25 0.02\\n0.25 0.02\\n0.25 0.02\\n0.25 0.02\\n0.25 0.02\\n0.25 0.02\\n0.25 -0.01\\n0.25 -0.01\\n0.25 -0.01\\n0.25 -0.01\\n0.25 0.03\\n0.25 0.03\\n0.25 0.03\\n0.25 0.07\\n0.25 0.07\\n0.25 0.07\\n0.25 -0.02\\n0.25 -0.02\\n0.25 -0.02\\n0.25 -0.02\\n0.25 -0.02\\n0.25 0.03\\n0.25 0.03\\n0.25 0.03\\n0.25 0.03\\n0.25 -0.01\\n0.25 -0.01\\n0.25 -0.01\\n0.25 -0.01\\n0.25 -0.01\\n0.25 0.03\\n0.25 0.03\\n0.25 0.03\\n0.25 0.03\\n0.25 0.03\\n0.25 0.03\\n0.25 0.03\\n0.25 0.07\\n0.25 0.07\\n0.25 0.07\\n0.25 0.04\\n0.25 0.04\\n0.25 0.04\\n0.25 0.04\\n0.25 0.02\\n0.25 0.02\\n0.25 0.02\\n0.25 0.02\\n0.25 0.04\\n0.25 0.04\\n0.25 0.04\\n0.25 0.07\\n0.25 0.07\\n0.25 0.07\\n0.25 0.07\\n0.25 0.03\\n0.25 0.03\\n0.25 0.03\\n0.25 0.03\\n0.25 0.0\\n0.25 0.0\\n0.25 0.0\\n0.25 0.05\\n0.25 0.05\\n0.25 0.05\\n0.25 0.05\\n0.25 0.05\\n0.25 0.0\\n0.25 0.0\\n0.25 0.0\\n0.25 0.09\\n0.25 0.09\\n0.25 0.09\\n0.25 0.04\\n0.25 0.04\\n0.25 0.04\\n0.25 0.04\\n0.25 0.04\\n0.25 -0.0\\n0.25 -0.0\\n0.25 -0.06\\n0.25 -0.06\\n0.25 -0.05\\n0.25 -0.05\\n0.25 -0.05\\n0.25 -0.06\\n0.25 -0.06\\n0.25 -0.06\\n0.25 -0.06\\n0.25 -0.03\\n0.25 -0.03\\n0.25 -0.03\\n0.25 -0.03\\n0.25 -0.03\\n0.25 -0.07\\n0.25 -0.07\\n0.25 -0.07\\n0.25 -0.07\\n0.25 -0.07\\n0.25 -0.1\\n0.25 -0.1\\n0.25 -0.1\\n0.25 -0.1\\n0.25 -0.1\\n0.25 -0.01\\n0.25 -0.01\\n0.25 -0.01\\n0.25 -0.01\\n0.25 -0.03\\n0.25 -0.03\\n0.25 -0.08\\n0.25 -0.08\\n0.25 -0.08\\n0.25 -0.08\\n0.25 -0.12\\n0.25 -0.12\\n0.25 -0.12\\n0.25 -0.12\\n0.25 -0.01\\n0.25 -0.01\\n0.25 -0.01\\n0.25 -0.01\\n0.25 -0.16\\n0.25 -0.16\\n0.25 -0.16\\n0.25 -0.16\\n0.25 -0.07\\n0.25 -0.07\\n0.25 -0.07\\n0.25 -0.07\\n0.25 -0.11\\n0.25 -0.11\\n0.25 -0.11\\n0.25 -0.11\\n0.25 -0.11\\n0.25 -0.1\\n0.25 -0.1\\n0.25 -0.1\\n0.25 -0.1\\n0.25 -0.13\\n0.25 -0.13\\n0.25 -0.13\\n0.25 -0.05\\n0.25 -0.05\\n0.25 -0.05\\n0.25 -0.05\\n0.25 -0.15\\n0.25 -0.15\\n0.25 -0.15\\n0.25 -0.15\\n0.25 -0.1\\n0.25 -0.1\\n0.25 -0.1\\n0.25 -0.1\\n0.25 -0.1\\n0.25 -0.13\\n0.25 -0.13\\n0.25 -0.13\\n0.25 -0.15\\n0.25 -0.15\\n0.25 -0.16\\n0.25 -0.16\\n0.25 -0.16\\n0.25 -0.16\\n0.25 -0.16\\n0.25 -0.17\\n0.25 -0.17\\n0.25 -0.17\\n0.25 -0.18\\n0.25 -0.18\\n0.25 -0.18\\n0.25 -0.18\\n0.25 -0.18\\n0.25 -0.18\\n0.25 -0.18\\n0.25 -0.18\\n0.25 -0.17\\n0.25 -0.17\\n0.25 -0.17\\n0.25 -0.17\\n0.25 -0.18\\n0.25 -0.18\\n0.25 -0.18\\n0.25 -0.18\\n0.25 -0.18\\n0.25 -0.18\\n0.25 -0.12\\n0.25 -0.12\\n0.25 -0.12\\n0.25 -0.12\\n0.25 -0.11\\n0.25 -0.11\\n0.25 -0.11\\n0.25 -0.11\\n0.25 -0.11\\n0.25 -0.11\\n0.25 -0.11\\n0.25 -0.12\\n0.25 -0.12\\n0.25 -0.12\\n0.25 -0.12\\n0.25 -0.12\\n0.25 -0.12\\n0.25 -0.12\\n0.25 -0.08\\n0.25 -0.08\\n0.25 -0.08\\n0.25 -0.08\\n0.25 -0.07\\n0.25 -0.07\\n0.25 -0.07\\n0.25 -0.07\\n0.25 -0.08\\n0.25 -0.08\\n0.25 -0.08\\n0.25 -0.08\\n0.25 -0.08\\n0.25 -0.07\\n0.25 -0.07\\n0.25 -0.07\\n0.25 -0.02\\n0.25 -0.02\\n0.25 -0.02\\n0.25 -0.02\\n0.25 -0.04\\n0.25 -0.04\\n0.25 -0.04\\n0.25 -0.04\\n0.25 0.01\\n0.25 0.01\\n0.25 0.0\\n0.25 0.0\\n0.25 0.0\\n0.25 0.0\\n0.25 0.0\\n0.25 0.0\\n0.25 0.0\\n0.25 0.0\\n0.25 0.03\\n0.25 0.03\\n0.25 0.03\\n0.25 0.03\\n0.25 0.03\\n0.25 0.04\\n0.25 0.04\\n0.25 0.04\\n0.25 0.07\\n0.25 0.07\\n0.25 0.07\\n0.25 0.07\\n0.25 0.11\\n0.25 0.11\\n0.25 0.11\\n0.25 0.11\\n0.25 0.07\\n0.25 0.07\\n0.25 0.07\\n0.25 0.07\\n0.25 0.11\\n0.25 0.11\\n0.25 0.11\\n0.25 0.11\\n0.25 0.11\\n0.25 0.12\\n0.25 0.12\\n0.25 0.12\\n0.25 0.16\\n0.25 0.16\\n0.25 0.16\\n0.25 0.16\\n0.25 0.15\\n0.25 0.15\\n0.25 0.15\\n0.25 0.15\\n0.25 0.11\\n0.25 0.11\\n0.25 0.11\\n0.25 0.14\\n0.25 0.14\\n0.25 0.14\\n0.25 0.18\\n0.25 0.18\\n0.25 0.18\\n0.25 0.18\\n0.25 0.15\\n0.25 0.15\\n0.25 0.15\\n0.25 0.15\\n0.25 0.15\\n0.25 0.19\\n0.25 0.19\\n0.25 0.19\\n0.25 0.19\\n0.25 0.17\\n0.25 0.17\\n0.25 0.17\\n0.25 0.17\\n0.25 0.16\\n0.25 0.16\\n0.25 0.16\\n0.25 0.16\\n0.25 0.16\\n0.25 0.16\\n0.25 0.21\\n0.25 0.21\\n0.25 0.21\\n0.25 0.17\\n0.25 0.17\\n0.25 0.17\\n0.25 0.17\\n0.25 0.22\\n0.25 0.22\\n0.25 0.22\\n0.25 0.22\\n0.25 0.11\\n0.25 0.11\\n0.25 0.11\\n0.25 0.11\\n0.25 0.11\\n0.25 0.18\\n0.25 0.18\\n0.25 0.18\\n0.25 0.2\\n0.25 0.2\\n0.25 0.2\\n0.25 0.27\\n0.25 0.27\\n0.25 0.27\\n0.25 0.27\\n0.25 0.27\\n0.25 0.27\\n0.25 0.27\\n0.25 0.27\\n0.25 0.31\\n0.25 0.31\\n0.25 0.31\\n0.25 0.31\\n0.25 0.16\\n0.25 0.16\\n0.25 0.16\\n0.25 0.16\\n0.25 0.24\\n0.25 0.24\\n0.25 0.24\\n0.25 0.26\\n0.25 0.26\\n0.25 0.26\\n0.25 0.26\\n0.25 0.17\\n0.25 0.17\\n0.25 0.17\\n0.25 0.17\\n0.25 0.3\\n0.25 0.3\\n0.25 0.3\\n0.25 0.3\\n0.25 0.3\\n0.25 0.3\\n0.25 0.21\\n0.25 0.21\\n0.25 0.21\\n0.25 0.26\\n0.25 0.26\\n0.25 0.26\\n0.25 0.26\\n0.25 0.26\\n0.25 0.26\\n0.25 0.26\\n0.25 0.26\\n0.25 0.26\\n0.25 0.26\\n0.25 0.26\\n0.25 0.26\\n0.25 0.26\\n0.25 0.26\\n0.25 0.26\\n0.25 0.26\\n0.25 0.26\\n0.25 0.25\\n0.25 0.25\\n0.25 0.25\\n0.25 0.26\\n0.25 0.26\\n0.25 0.26\\n0.25 0.26\\n0.25 0.25\\n0.25 0.25\\n0.25 0.25\\n0.25 0.28\\n0.25 0.28\\n0.25 0.28\\n0.25 0.22\\n0.25 0.22\\n0.25 0.22\\n0.25 0.22\\n0.25 0.22\\n0.25 0.22\\n0.25 0.21\\n0.25 0.21\\n0.25 0.21\\n0.25 0.22\\n0.25 0.22\\n0.25 0.22\\n0.25 0.22\\n0.25 0.22\\n0.25 0.22\\n0.25 0.22\\n0.25 0.22\\n0.25 0.23\\n0.25 0.23\\n0.25 0.23\\n0.25 0.23\\n0.25 0.23\\n0.25 0.21\\n0.25 0.21\\n0.25 0.21\\n0.25 0.22\\n0.25 0.22\\n0.25 0.22\\n0.25 0.22\\n0.25 0.2\\n0.25 0.2\\n0.23 0.23\\n0.23 0.23\\n0.23 0.23\\n0.23 0.23\\n0.23 0.19\\n0.23 0.19\\n0.23 0.19\\n0.23 0.19\\n0.22 0.13\\n0.22 0.13\\n0.22 0.13\\n0.2 0.11\\n0.2 0.11\\n0.2 0.11\\n0.2 0.11\\n0.2 0.11\\n0.19 0.11\\n0.19 0.11\\n0.19 0.11\\n0.19 0.05\\n0.19 0.05\\n0.19 0.05\\n0.19 0.05\\n0.18 0.11\\n0.18 0.11\\n0.18 0.11\\n0.18 0.11\\n0.17 0.1\\n0.17 0.1\\n0.17 0.06\\n0.17 0.06\\n0.17 0.06\\n0.17 0.06\\n0.15 0.02\\n0.15 0.02\\n0.15 0.02\\n0.15 0.02\\n0.15 0.02\\n0.15 0.02\\n0.15 0.34\\n0.15 0.34\\n0.15 0.34\\n0.15 0.34\\n0.13 0.49\\n0.13 0.49\\n0.13 0.49\\n0.13 0.49\\n0.15 0.61\\n0.15 0.61\\n0.15 0.61\\n0.24 0.87\\n0.24 0.87\\n0.24 0.87\\n0.16 0.81\\n0.16 0.81\\n0.16 0.81\\n0.16 0.81\\n0.25 0.87\\n0.25 0.87\\n0.25 0.87\\n0.25 0.87\\n0.25 0.84\\n0.25 0.84\\n0.25 0.84\\n0.25 0.87\\n0.25 0.87\\n0.25 0.87\\n0.25 0.83\\n0.25 0.83\\n0.25 0.83\\n0.25 0.83\\n0.25 0.79\\n0.25 0.79\\n0.25 0.79\\n0.25 0.79\\n0.23 0.75\\n0.23 0.75\\n0.23 0.75\\n0.23 0.75\\n0.22 0.71\\n0.22 0.71\\n0.22 0.71\\n0.22 0.71\\n0.22 0.71\\n0.25 0.68\\n0.25 0.68\\n0.25 0.64\\n0.25 0.64\\n0.25 0.64\\n0.25 0.64\\n0.25 0.63\\n0.25 0.63\\n0.25 0.63\\n0.25 0.59\\n0.25 0.59\\n0.25 0.59\\n0.25 0.59\\n0.25 0.59\\n0.25 0.6\\n0.25 0.6\\n0.25 0.6\\n0.25 0.58\\n0.25 0.58\\n0.25 0.58\\n0.25 0.55\\n0.25 0.55\\n0.25 0.55\\n0.25 0.55\\n0.25 0.54\\n0.25 0.54\\n0.25 0.54\\n0.25 0.51\\n0.25 0.51\\n0.25 0.51\\n0.25 0.51\\n0.25 0.5\\n0.25 0.5\\n0.25 0.5\\n0.25 0.5\\n0.25 0.5\\n0.25 0.47\\n0.25 0.47\\n0.25 0.47\\n0.25 0.45\\n0.25 0.45\\n0.25 0.45\\n0.25 0.45\\n0.25 0.42\\n0.25 0.42\\n0.25 0.42\\n0.25 0.41\\n0.25 0.41\\n0.25 0.41\\n0.25 0.41\\n0.25 0.39\\n0.25 0.39\\n0.25 0.39\\n0.25 0.36\\n0.25 0.36\\n0.25 0.36\\n0.25 0.36\\n0.25 0.33\\n0.25 0.33\\n0.25 0.33\\n0.25 0.32\\n0.25 0.32\\n0.25 0.32\\n0.25 0.32\\n0.25 0.3\\n0.25 0.3\\n0.25 0.3\\n0.25 0.27\\n0.25 0.27\\n0.25 0.27\\n0.25 0.21\\n0.25 0.21\\n0.25 0.21\\n0.25 0.23\\n0.25 0.23\\n0.25 0.23\\n0.25 0.23\\n0.25 0.21\\n0.25 0.21\\n0.25 0.21\\n0.25 0.21\\n0.25 0.2\\n0.25 0.2\\n0.25 0.2\\n0.25 0.2\\n0.25 0.16\\n0.25 0.16\\n0.25 0.16\\n0.25 0.15\\n0.25 0.15\\n0.25 0.15\\n0.25 0.13\\n0.25 0.13\\n0.25 0.13\\n0.25 0.13\\n0.25 0.13\\n0.25 0.13\\n0.25 0.11\\n0.25 0.11\\n0.25 0.11\\n0.25 0.11\\n0.25 0.1\\n0.25 0.1\\n0.25 0.1\\n0.25 0.1\\n0.25 0.09\\n0.25 0.09\\n0.25 0.09\\n0.25 0.09\\n0.25 0.08\\n0.25 0.08\\n0.25 0.08\\n0.25 0.07\\n0.25 0.07\\n0.25 0.07\\n0.25 0.07\\n0.25 0.06\\n0.25 0.06\\n0.25 0.06\\n0.25 0.06\\n0.25 0.06\\n0.25 0.06\\n0.25 0.06\\n0.25 0.06\\n0.25 0.06\\n0.25 0.06\\n0.25 0.06\\n0.25 0.06\\n0.25 0.06\\n0.25 0.06\\n0.25 0.06\\n0.25 0.06\\n0.25 0.13\\n0.25 0.13\\n0.25 0.13\\n0.25 0.13\\n0.25 0.12\\n0.25 0.12\\n0.25 0.12\\n0.25 0.11\\n0.25 0.11\\n0.25 0.11\\n0.25 0.09\\n0.25 0.09\\n0.25 0.09\\n0.25 0.09\\n0.25 0.0\\n0.25 0.0\\n0.25 0.0\\n0.25 0.0\\n0.25 0.05\\n0.25 0.05\\n0.25 0.05\\n0.25 0.04\\n0.25 0.04\\n0.25 0.04\\n0.25 0.04\\n0.25 0.04\\n0.25 0.04\\n0.25 -0.02\\n0.25 -0.02\\n0.25 -0.02\\n0.25 0.02\\n0.25 0.02\\n0.25 0.02\\n0.25 0.02\\n0.25 0.01\\n0.25 0.01\\n0.25 0.01\\n0.25 0.01\\n0.25 -0.0\\n0.25 -0.0\\n0.25 -0.0\\n0.25 -0.02\\n0.25 -0.02\\n0.25 -0.02\\n0.25 -0.08\\n0.25 -0.08\\n0.25 -0.08\\n0.25 -0.09\\n0.25 -0.09\\n0.25 -0.09\\n0.25 -0.09\\n0.25 -0.09\\n0.25 -0.09\\n0.25 -0.09\\n0.25 -0.09\\n0.25 -0.09\\n0.25 -0.08\\n0.25 -0.08\\n0.25 -0.08\\n0.25 -0.08\\n0.25 -0.08\\n0.25 -0.08\\n0.25 -0.08\\n0.25 -0.08\\n0.25 -0.08\\n0.25 -0.09\\n0.25 -0.09\\n0.25 -0.09\\n0.25 -0.09\\n0.25 -0.09\\n0.25 -0.09\\n0.25 -0.09\\n0.15 0.24\\n0.15 0.24\\n0.15 0.24\\n0.14 0.31\\n0.14 0.31\\n0.14 0.31\\n0.14 0.31\\n0.16 0.29\\n0.16 0.29\\n0.16 0.29\\n0.16 0.41\\n0.16 0.41\\n0.16 0.41\\n0.16 0.41\\n0.18 0.48\\n0.18 0.48\\n0.18 0.48\\n0.25 0.66\\n0.25 0.66\\n0.25 0.66\\n0.25 0.66\\n0.25 0.65\\n0.25 0.65\\n0.25 0.65\\n0.25 0.67\\n0.25 0.67\\n0.25 0.67\\n0.25 0.67\\n0.25 0.67\\n0.25 0.66\\n0.25 0.66\\n0.25 0.66\\n0.25 0.66\\n0.25 0.65\\n0.25 0.65\\n0.25 0.65\\n0.25 0.65\\n0.25 0.65\\n0.25 0.54\\n0.25 0.54\\n0.25 0.53\\n0.25 0.53\\n0.25 0.53\\n0.25 0.51\\n0.25 0.51\\n0.25 0.51\\n0.25 0.5\\n0.25 0.5\\n0.25 0.5\\n0.25 0.5\\n0.25 0.5\\n0.25 0.49\\n0.25 0.49\\n0.25 0.49\\n0.25 0.49\\n0.25 0.46\\n0.25 0.46\\n0.25 0.46\\n0.25 0.45\\n0.25 0.45\\n0.25 0.45\\n0.25 0.44\\n0.25 0.44\\n0.25 0.44\\n0.25 0.43\\n0.25 0.43\\n0.25 0.43\\n0.25 0.43\\n0.25 0.44\\n0.25 0.44\\n0.25 0.44\\n0.25 0.44\\n0.25 0.43\\n0.25 0.43\\n0.25 0.43\\n0.25 0.43\\n0.25 0.4\\n0.25 0.4\\n0.25 0.4\\n0.25 0.4\\n0.25 0.39\\n0.25 0.39\\n0.25 0.39\\n0.25 0.39\\n0.25 0.39\\n0.25 0.39\\n0.25 0.39\\n0.25 0.32\\n0.25 0.32\\n0.25 0.32\\n0.25 0.32\\n0.25 0.29\\n0.25 0.29\\n0.25 0.29\\n0.25 0.29\\n0.25 0.29\\n0.25 0.35\\n0.25 0.35\\n0.25 0.35\\n0.25 0.35\\n0.25 0.34\\n0.25 0.34\\n0.25 0.34\\n0.25 0.34\\n0.25 0.33\\n0.25 0.33\\n0.25 0.33\\n0.25 0.32\\n0.25 0.32\\n0.25 0.32\\n0.25 0.3\\n0.25 0.3\\n0.25 0.3\\n0.25 0.3\\n0.25 0.28\\n0.25 0.28\\n0.25 0.28\\n0.25 0.28\\n0.25 0.28\\n0.25 0.29\\n0.25 0.29\\n0.25 0.29\\n0.25 0.29\\n0.25 0.23\\n0.25 0.23\\n0.25 0.23\\n0.25 0.23\\n0.25 0.25\\n0.25 0.25\\n0.25 0.25\\n0.25 0.25\\n0.25 0.25\\n0.25 0.24\\n0.25 0.24\\n0.25 0.24\\n0.25 0.24\\n0.25 0.24\\n0.25 0.18\\n0.25 0.18\\n0.25 0.18\\n0.25 0.18\\n0.25 0.18\\n0.25 0.21\\n0.25 0.21\\n0.25 0.21\\n0.25 0.15\\n0.25 0.15\\n0.25 0.15\\n0.25 0.15\\n0.25 0.19\\n0.25 0.19\\n0.25 0.19\\n0.25 0.19\\n0.25 0.19\\n0.25 0.18\\n0.25 0.18\\n0.25 0.18\\n0.25 0.18\\n0.23 0.17\\n0.23 0.17\\n0.23 0.17\\n0.23 0.17\\n0.23 0.17\\n0.25 0.2\\n0.25 0.2\\n0.25 0.2\\n0.25 0.2\\n0.25 0.18\\n0.25 0.18\\n0.25 0.18\\n0.25 0.18\\n0.25 0.06\\n0.25 0.06\\n0.25 0.06\\n0.25 0.1\\n0.25 0.1\\n0.25 0.1\\n0.25 0.09\\n0.25 0.09\\n0.25 0.14\\n0.25 0.14\\n0.25 0.14\\n0.25 0.14\\n0.25 0.14\\n0.25 0.13\\n0.25 0.13\\n0.25 0.13\\n0.25 0.11\\n0.25 0.11\\n0.25 0.11\\n0.25 0.07\\n0.25 0.07\\n0.25 0.06\\n0.25 0.06\\n0.25 0.06\\n0.25 0.06\\n0.25 0.03\\n0.25 0.03\\n0.25 0.03\\n0.25 0.03\\n0.25 0.03\\n0.25 0.03\\n0.25 0.03\\n0.25 0.03\\n0.25 0.03\\n0.25 0.04\\n0.25 0.04\\n0.25 0.04\\n0.25 0.04\\n0.25 0.03\\n0.25 0.03\\n0.25 0.03\\n0.25 0.03\\n0.25 -0.01\\n0.25 -0.01\\n0.25 -0.01\\n0.25 -0.01\\n0.25 -0.01\\n0.25 0.0\\n0.25 0.0\\n0.25 0.0\\n0.25 0.0\\n0.25 -0.01\\n0.25 -0.01\\n0.25 -0.01\\n0.25 -0.01\\n0.25 -0.01\\n0.25 -0.01\\n0.25 -0.04\\n0.25 -0.04\\n0.25 -0.04\\n0.25 -0.04\\n0.25 -0.04\\n0.25 -0.04\\n0.25 -0.1\\n0.25 -0.1\\n0.25 -0.1\\n0.25 -0.1\\n0.25 -0.09\\n0.25 -0.09\\n0.25 -0.09\\n0.25 -0.09\\n0.25 -0.09\\n0.25 -0.1\\n0.25 -0.1\\n0.25 -0.09\\n0.25 -0.09\\n0.25 -0.09\\n0.25 -0.09\\n0.25 -0.08\\n0.25 -0.08\\n0.25 -0.08\\n0.25 -0.11\\n0.25 -0.11\\n0.25 -0.11\\n0.25 -0.11\\n0.25 -0.11\\n0.25 -0.13\\n0.25 -0.13\\n0.25 -0.12\\n0.25 -0.12\\n0.25 -0.12\\n0.25 -0.12\\n0.25 -0.11\\n0.25 -0.11\\n0.25 -0.11\\n0.25 -0.16\\n0.25 -0.16\\n0.25 -0.16\\n0.25 -0.16\\n0.25 -0.16\\n0.25 -0.15\\n0.25 -0.15\\n0.25 -0.15\\n0.25 -0.15\\n0.25 -0.15\\n0.25 -0.15\\n0.25 -0.15\\n0.25 -0.19\\n0.25 -0.19\\n0.25 -0.2\\n0.25 -0.2\\n0.25 -0.2\\n0.25 -0.2\\n0.25 -0.21\\n0.25 -0.21\\n0.25 -0.21\\n0.25 -0.3\\n0.25 -0.3\\n0.25 -0.3\\n0.25 -0.26\\n0.25 -0.26\\n0.25 -0.26\\n0.25 -0.26\\n0.25 -0.25\\n0.25 -0.25\\n0.25 -0.25\\n0.25 -0.24\\n0.25 -0.24\\n0.25 -0.24\\n0.25 -0.2\\n0.25 -0.2\\n0.25 -0.2\\n0.25 -0.2\\n0.25 -0.29\\n0.25 -0.29\\n0.25 -0.29\\n0.25 -0.27\\n0.25 -0.27\\n0.25 -0.27\\n0.25 -0.28\\n0.25 -0.28\\n0.25 -0.28\\n0.25 -0.28\\n0.25 -0.3\\n0.25 -0.3\\n0.25 -0.3\\n0.25 -0.3\\n0.25 -0.23\\n0.25 -0.23\\n0.25 -0.29\\n0.25 -0.29\\n0.25 -0.29\\n0.25 -0.29\\n0.25 -0.29\\n0.25 -0.29\\n0.25 -0.29\\n0.25 -0.29\\n0.25 -0.24\\n0.25 -0.24\\n0.25 -0.24\\n0.25 -0.29\\n0.25 -0.29\\n0.25 -0.29\\n0.25 -0.29\\n0.25 -0.29\\n0.25 -0.29\\n0.25 -0.29\\n0.25 -0.3\\n0.25 -0.3\\n0.25 -0.3\\n0.25 -0.3\\n0.25 -0.3\\n0.25 -0.27\\n0.25 -0.27\\n0.25 -0.27\\n0.25 -0.27\\n0.25 -0.3\\n0.25 -0.3\\n0.25 -0.3\\n0.25 -0.3\\n0.25 -0.25\\n0.25 -0.25\\n0.25 -0.25\\n0.25 -0.25\\n0.25 -0.24\\n0.25 -0.24\\n0.25 -0.24\\n0.25 -0.24\\n0.25 -0.27\\n0.25 -0.27\\n0.25 -0.27\\n0.25 -0.26\\n0.25 -0.26\\n0.25 -0.26\\n0.25 -0.22\\n0.25 -0.22\\n0.25 -0.22\\n0.25 -0.22\\n0.25 -0.18\\n0.25 -0.18\\n0.25 -0.18\\n0.25 -0.18\\n0.25 -0.18\\n0.25 -0.18\\n0.25 -0.18\\n0.25 -0.18\\n0.25 -0.19\\n0.25 -0.19\\n0.25 -0.19\\n0.25 -0.2\\n0.25 -0.2\\n0.25 -0.16\\n0.25 -0.16\\n0.25 -0.16\\n0.25 -0.16\\n0.25 -0.19\\n0.25 -0.19\\n0.25 -0.19\\n0.25 -0.19\\n0.25 -0.12\\n0.25 -0.12\\n0.25 -0.12\\n0.25 -0.12\\n0.25 -0.12\\n0.25 -0.07\\n0.25 -0.07\\n0.25 -0.07\\n0.25 -0.07\\n0.25 -0.03\\n0.25 -0.03\\n0.25 -0.03\\n0.25 -0.05\\n0.25 -0.05\\n0.25 -0.05\\n0.25 -0.05\\n0.25 -0.06\\n0.25 -0.06\\n0.25 -0.06\\n0.25 -0.06\\n0.25 -0.06\\n0.25 -0.02\\n0.25 -0.02\\n0.25 -0.02\\n0.25 -0.02\\n0.25 -0.02\\n0.25 -0.02\\n0.25 -0.02\\n0.25 0.0\\n0.25 0.0\\n0.25 0.0\\n0.25 0.05\\n0.25 0.05\\n0.25 0.05\\n0.25 0.05\\n0.25 0.05\\n0.25 -0.01\\n0.25 -0.01\\n0.25 0.02\\n0.25 0.02\\n0.25 0.02\\n0.25 0.02\\n0.25 0.03\\n0.25 0.03\\n0.25 0.03\\n0.25 0.01\\n0.25 0.01\\n0.25 0.01\\n0.25 0.01\\n0.25 0.05\\n0.25 0.05\\n0.25 0.05\\n0.25 0.05\\n0.25 0.11\\n0.25 0.11\\n0.25 0.11\\n0.25 0.11\\n0.25 0.15\\n0.25 0.15\\n0.25 0.15\\n0.25 0.06\\n0.25 0.06\\n0.25 0.06\\n0.25 0.09\\n0.25 0.09\\n0.25 0.11\\n0.25 0.11\\n0.25 0.11\\n0.25 0.17\\n0.25 0.17\\n0.25 0.17\\n0.25 0.17\\n0.25 0.17\\n0.25 0.17\\n0.25 0.21\\n0.25 0.21\\n0.25 0.21\\n0.25 0.21\\n0.25 0.18\\n0.25 0.18\\n0.25 0.18\\n0.25 0.2\\n0.25 0.2\\n0.25 0.2\\n0.25 0.14\\n0.25 0.14\\n0.25 0.14\\n0.25 0.13\\n0.25 0.13\\n0.25 0.13\\n0.25 0.13\\n0.25 0.19\\n0.25 0.19\\n0.25 0.19\\n0.25 0.19\\n0.25 0.18\\n0.25 0.18\\n0.25 0.18\\n0.25 0.18\\n0.25 0.18\\n0.25 0.21\\n0.25 0.21\\n0.25 0.21\\n0.25 0.21\\n0.25 0.21\\n0.25 0.2\\n0.25 0.2\\n0.25 0.2\\n0.25 0.2\\n0.25 0.2\\n0.25 0.2\\n0.25 0.2\\n0.25 0.2\\n0.25 0.19\\n0.25 0.19\\n0.25 0.19\\n0.25 0.19\\n0.25 0.15\\n0.25 0.15\\n0.25 0.14\\n0.25 0.14\\n0.25 0.14\\n0.25 0.14\\n0.25 0.15\\n0.25 0.15\\n0.25 0.15\\n0.25 0.15\\n0.25 0.14\\n0.25 0.14\\n0.25 0.21\\n0.25 0.21\\n0.25 0.21\\n0.25 0.21\\n0.25 0.21\\n0.25 0.21\\n0.25 0.21\\n0.25 0.21\\n0.25 0.21\\n0.23 0.2\\n0.23 0.2\\n0.23 0.2\\n0.23 0.2\\n0.23 0.2\\n0.23 0.2\\n0.23 0.2\\n0.23 0.2\\n0.23 0.2\\n0.22 0.18\\n0.22 0.18\\n0.22 0.18\\n0.22 0.18\\n0.22 0.18\\n0.2 0.16\\n0.2 0.16\\n0.2 0.16\\n0.2 0.16\\n0.2 0.16\\n0.2 0.16\\n0.2 0.16\\n0.2 0.16\\n0.2 0.16\\n0.18 0.46\\n0.18 0.46\\n0.18 0.46\\n0.23 0.56\\n0.23 0.56\\n0.23 0.56\\n0.25 0.71\\n0.25 0.71\\n0.25 0.71\\n0.25 0.71\\n0.25 0.66\\n0.25 0.66\\n0.25 0.66\\n0.25 0.66\\n0.25 0.66\\n0.25 0.64\\n0.25 0.64\\n0.25 0.64\\n0.25 0.64\\n0.25 0.64\\n0.23 0.61\\n0.23 0.61\\n0.23 0.57\\n0.23 0.57\\n0.23 0.57\\n0.23 0.57\\n0.23 0.57\\n0.25 0.62\\n0.25 0.62\\n0.25 0.62\\n0.25 0.62\\n0.25 0.56\\n0.25 0.56\\n0.25 0.56\\n0.25 0.56\\n0.25 0.64\\n0.25 0.64\\n0.25 0.64\\n0.25 0.54\\n0.25 0.54\\n0.25 0.58\\n0.25 0.58\\n0.25 0.58\\n0.25 0.58\\n0.25 0.53\\n0.25 0.53\\n0.25 0.53\\n0.25 0.53\\n0.25 0.51\\n0.25 0.51\\n0.25 0.51\\n0.25 0.51\\n0.25 0.48\\n0.25 0.48\\n0.25 0.48\\n0.25 0.48\\n0.25 0.46\\n0.25 0.46\\n0.25 0.46\\n0.25 0.46\\n0.25 0.46\\n0.25 0.46\\n0.25 0.46\\n0.25 0.46\\n0.25 0.46\\n0.25 0.45\\n0.25 0.45\\n0.25 0.45\\n0.25 0.44\\n0.25 0.44\\n0.25 0.44\\n0.25 0.44\\n0.25 0.44\\n0.25 0.44\\n0.25 0.44\\n0.25 0.44\\n0.25 0.42\\n0.25 0.42\\n0.25 0.42\\n0.25 0.41\\n0.25 0.41\\n0.25 0.41\\n0.25 0.4\\n0.25 0.4\\n0.25 0.4\\n0.25 0.4\\n0.25 0.4\\n0.25 0.39\\n0.25 0.39\\n0.25 0.39\\n0.25 0.37\\n0.25 0.37\\n0.25 0.37\\n0.25 0.37\\n0.25 0.37\\n0.25 0.36\\n0.25 0.36\\n0.25 0.36\\n0.25 0.36\\n0.25 0.36\\n0.25 0.35\\n0.25 0.35\\n0.25 0.35\\n0.25 0.35\\n0.25 0.35\\n0.25 0.35\\n0.25 0.35\\n0.25 0.35\\n0.25 0.35\\n0.25 0.34\\n0.25 0.34\\n0.25 0.34\\n0.25 0.33\\n0.25 0.33\\n0.25 0.33\\n0.25 0.33\\n0.25 0.33\\n0.25 0.33\\n0.25 0.33\\n0.25 0.33\\n0.25 0.33\\n0.25 0.32\\n0.25 0.32\\n0.25 0.32\\n0.25 0.32\\n0.25 0.31\\n0.25 0.31\\n0.25 0.31\\n0.25 0.31\\n0.25 0.3\\n0.25 0.3\\n0.25 0.3\\n0.25 0.3\\n0.25 0.27\\n0.25 0.27\\n0.25 0.27\\n0.25 0.27\\n0.25 0.26\\n0.25 0.26\\n0.25 0.26\\n0.25 0.26\\n0.25 0.25\\n0.25 0.25\\n0.25 0.25\\n0.25 0.25\\n0.25 0.29\\n0.25 0.29\\n0.25 0.29\\n0.25 0.28\\n0.25 0.28\\n0.25 0.28\\n0.25 0.28\\n0.25 0.25\\n0.25 0.25\\n0.25 0.25\\n0.25 0.29\\n0.25 0.29\\n0.25 0.29\\n0.25 0.29\\n0.25 0.28\\n0.25 0.28\\n0.25 0.28\\n0.25 0.28\\n0.25 0.25\\n0.25 0.25\\n0.25 0.22\\n0.25 0.22\\n0.25 0.22\\n0.25 0.22\\n0.25 0.22\\n0.25 0.3\\n0.25 0.3\\n0.25 0.3\\n0.25 0.3\\n0.25 0.29\\n0.25 0.29\\n0.25 0.29\\n0.25 0.29\\n0.25 0.23\\n0.25 0.23\\n0.25 0.23\\n0.25 0.2\\n0.25 0.2\\n0.25 0.18\\n0.25 0.18\\n0.25 0.18\\n0.25 0.18\\n0.25 0.17\\n0.25 0.17\\n0.25 0.17\\n0.25 0.16\\n0.25 0.16\\n0.25 0.16\\n0.25 0.16\\n0.25 0.15\\n0.25 0.15\\n0.25 0.15\\n0.23 0.17\\n0.23 0.17\\n0.23 0.17\\n0.23 0.17\\n0.25 0.12\\n0.25 0.12\\n0.25 0.12\\n0.25 0.12\\n0.23 0.11\\n0.23 0.11\\n0.23 0.11\\n0.23 0.11\\n0.25 0.17\\n0.25 0.17\\n0.25 0.17\\n0.25 0.17\\n0.25 0.14\\n0.25 0.14\\n0.23 0.15\\n0.23 0.15\\n0.23 0.15\\n0.23 0.15\\n0.22 0.15\\n0.22 0.15\\n0.22 0.15\\n0.25 0.17\\n0.25 0.17\\n0.25 0.17\\n0.25 0.18\\n0.25 0.18\\n0.25 0.18\\n0.25 0.18\\n0.25 0.18\\n0.25 0.18\\n0.25 0.16\\n0.25 0.16\\n0.25 0.16\\n0.23 0.14\\n0.23 0.14\\n0.23 0.14\\n0.23 0.14\\n0.23 0.06\\n0.23 0.06\\n0.23 0.06\\n0.2 0.1\\n0.2 0.1\\n0.2 0.1\\n0.2 0.1\\n0.2 0.1\\n0.2 0.1\\n0.25 0.32\\n0.25 0.32\\n0.25 0.32\\n0.25 0.32\\n0.24 0.26\\n0.24 0.26\\n0.24 0.26\\n0.24 0.26\\n0.24 0.26\\n0.25 0.26\\n0.25 0.26\\n0.25 0.26\\n0.25 0.26\\n0.25 0.24\\n0.25 0.24\\n0.25 0.24\\n0.25 0.28\\n0.25 0.28\\n0.25 0.28\\n0.25 0.24\\n0.25 0.24\\n0.25 0.24\\n0.25 0.24\\n0.25 0.24\\n0.25 0.26\\n0.25 0.26\\n0.25 0.26\\n0.25 0.26\\n0.25 0.25\\n0.25 0.25\\n0.25 0.25\\n0.25 0.25\\n0.25 0.24\\n0.25 0.24\\n0.25 0.24\\n0.25 0.22\\n0.25 0.22\\n0.25 0.22\\n0.25 0.18\\n0.25 0.18\\n0.25 0.18\\n0.25 0.16\\n0.25 0.16\\n0.25 0.16\\n0.25 0.16\\n0.25 0.2\\n0.25 0.2\\n0.25 0.2\\n0.25 0.16\\n0.25 0.16\\n0.25 0.16\\n0.25 0.15\\n0.25 0.15\\n0.25 0.15\\n0.25 0.16\\n0.25 0.16\\n0.25 0.16\\n0.25 0.16\\n0.25 0.12\\n0.25 0.12\\n0.25 0.12\\n0.25 0.12\\n0.25 0.11\\n0.25 0.11\\n0.25 0.11\\n0.25 0.11\\n0.25 0.16\\n0.25 0.16\\n0.25 0.16\\n0.25 0.08\\n0.25 0.08\\n0.25 0.08\\n0.25 0.07\\n0.25 0.07\\n0.25 0.07\\n0.25 0.06\\n0.25 0.06\\n0.25 0.06\\n0.25 0.05\\n0.25 0.05\\n0.25 0.05\\n0.25 0.05\\n0.25 -0.0\\n0.25 -0.0\\n0.25 -0.0\\n0.25 -0.04\\n0.25 -0.04\\n0.25 -0.04\\n0.25 0.05\\n0.25 0.05\\n0.25 0.05\\n0.25 -0.01\\n0.25 -0.01\\n0.25 -0.01\\n0.25 -0.01\\n0.25 -0.01\\n0.25 -0.05\\n0.25 -0.05\\n0.25 -0.09\\n0.25 -0.09\\n0.25 -0.09\\n0.25 -0.09\\n0.25 -0.13\\n0.25 -0.13\\n0.25 -0.13\\n0.25 -0.13\\n0.25 -0.04\\n0.25 -0.04\\n0.25 -0.04\\n0.25 -0.04\\n0.25 -0.07\\n0.25 -0.07\\n0.25 -0.07\\n0.25 0.02\\n0.25 0.02\\n0.25 0.02\\n0.25 0.02\\n0.25 -0.14\\n0.25 -0.14\\n0.25 -0.14\\n0.25 -0.14\\n0.25 -0.14\\n0.25 -0.07\\n0.25 -0.07\\n0.25 -0.07\\n0.25 -0.09\\n0.25 -0.09\\n0.25 -0.09\\n0.25 -0.13\\n0.25 -0.13\\n0.25 -0.13\\n0.25 -0.13\\n0.25 -0.02\\n0.25 -0.02\\n0.25 -0.02\\n0.25 -0.18\\n0.25 -0.18\\n0.25 -0.18\\n0.25 -0.18\\n0.25 -0.09\\n0.25 -0.09\\n0.25 -0.09\\n0.25 -0.09\\n0.25 -0.13\\n0.25 -0.13\\n0.25 -0.13\\n0.25 -0.12\\n0.25 -0.12\\n0.25 -0.12\\n0.25 -0.12\\n0.25 -0.11\\n0.25 -0.11\\n0.25 -0.11\\n0.25 -0.11\\n0.25 -0.1\\n0.25 -0.1\\n0.25 -0.1\\n0.25 -0.1\\n0.25 -0.1\\n0.25 -0.11\\n0.25 -0.11\\n0.25 -0.11\\n0.25 -0.11\\n0.25 -0.11\\n0.25 -0.11\\n0.25 -0.11\\n0.25 -0.11\\n0.25 -0.13\\n0.25 -0.13\\n0.25 -0.13\\n0.25 -0.13\\n0.25 -0.08\\n0.25 -0.08\\n0.25 -0.08\\n0.25 -0.08\\n0.25 -0.14\\n0.25 -0.14\\n0.25 -0.14\\n0.25 -0.14\\n0.25 -0.05\\n0.25 -0.05\\n0.25 -0.05\\n0.25 -0.04\\n0.25 -0.04\\n0.25 -0.04\\n0.25 -0.04\\n0.25 -0.07\\n0.25 -0.07\\n0.25 -0.07\\n0.25 -0.07\\n0.25 -0.06\\n0.25 -0.06\\n0.25 -0.06\\n0.25 -0.08\\n0.25 -0.08\\n0.25 -0.08\\n0.25 -0.08\\n0.25 -0.04\\n0.25 -0.04\\n0.25 -0.04\\n0.25 -0.04\\n0.25 -0.04\\n0.25 -0.04\\n0.25 -0.0\\n0.25 -0.0\\n0.25 -0.0\\n0.25 -0.0\\n0.25 -0.07\\n0.25 -0.07\\n0.25 -0.07\\n0.25 -0.07\\n0.25 -0.03\\n0.25 -0.03\\n0.25 -0.03\\n0.25 0.03\\n0.25 0.03\\n0.25 0.03\\n0.25 0.0\\n0.25 0.0\\n0.25 0.0\\n0.25 0.0\\n0.25 -0.0\\n0.25 -0.0\\n0.25 -0.0\\n0.25 -0.01\\n0.25 -0.01\\n0.25 -0.01\\n0.25 -0.01\\n0.25 0.02\\n0.25 0.02\\n0.25 0.02\\n0.25 0.02\\n0.25 0.0\\n0.25 0.0\\n0.25 0.0\\n0.25 0.07\\n0.25 0.07\\n0.25 0.07\\n0.25 0.07\\n0.25 -0.02\\n0.25 -0.02\\n0.25 -0.02\\n0.25 -0.02\\n0.25 0.07\\n0.25 0.07\\n0.25 0.07\\n0.25 0.07\\n0.25 0.12\\n0.25 0.12\\n0.25 0.12\\n0.25 0.05\\n0.25 0.05\\n0.25 0.05\\n0.25 0.05\\n0.25 0.08\\n0.25 0.08\\n0.25 0.08\\n0.25 0.08\\n0.25 0.12\\n0.25 0.12\\n0.25 0.12\\n0.25 0.12\\n0.25 0.09\\n0.25 0.09\\n0.25 0.09\\n0.25 0.09\\n0.25 0.09\\n0.25 0.1\\n0.25 0.1\\n0.25 0.1\\n0.25 0.12\\n0.25 0.12\\n0.25 0.12\\n0.25 0.09\\n0.25 0.09\\n0.25 0.09\\n0.25 0.12\\n0.25 0.12\\n0.25 0.12\\n0.25 0.12\\n0.25 0.09\\n0.25 0.09\\n0.25 0.09\\n0.25 0.09\\n0.25 0.09\\n0.25 0.15\\n0.25 0.15\\n0.25 0.15\\n0.25 0.11\\n0.25 0.11\\n0.25 0.11\\n0.25 0.11\\n0.25 0.08\\n0.25 0.08\\n0.25 0.08\\n0.25 0.08\\n0.25 0.13\\n0.25 0.13\\n0.25 0.13\\n0.25 0.13\\n0.25 0.13\\n0.25 0.1\\n0.25 0.1\\n0.25 0.08\\n0.25 0.08\\n0.25 0.08\\n0.25 0.1\\n0.25 0.1\\n0.25 0.1\\n0.25 0.1\\n0.25 0.16\\n0.25 0.16\\n0.25 0.16\\n0.25 0.16\\n0.25 0.16\\n0.25 0.11\\n0.25 0.11\\n0.25 0.11\\n0.25 0.1\\n0.25 0.1\\n0.25 0.1\\n0.25 0.14\\n0.25 0.14\\n0.25 0.14\\n0.25 0.12\\n0.25 0.12\\n0.25 0.12\\n0.25 0.12\\n0.25 0.12\\n0.25 0.16\\n0.25 0.16\\n0.25 0.16\\n0.25 0.1\\n0.25 0.1\\n0.25 0.1\\n0.25 0.1\\n0.25 0.12\\n0.25 0.12\\n0.25 0.12\\n0.25 0.12\\n0.25 0.12\\n0.25 0.12\\n0.25 0.14\\n0.25 0.14\\n0.25 0.14\\n0.25 0.14\\n0.25 0.14\\n0.25 0.15\\n0.25 0.15\\n0.25 0.09\\n0.25 0.09\\n0.25 0.09\\n0.25 0.11\\n0.25 0.11\\n0.25 0.11\\n0.25 0.11\\n0.25 0.14\\n0.25 0.14\\n0.25 0.14\\n0.25 0.14\\n0.25 0.14\\n0.25 0.14\\n0.25 0.15\\n0.25 0.15\\n0.25 0.15\\n0.25 0.15\\n0.25 0.15\\n0.25 0.15\\n0.25 0.15\\n0.25 0.15\\n0.25 0.15\\n0.25 0.15\\n0.25 0.15\\n0.25 0.14\\n0.25 0.14\\n0.25 0.14\\n0.25 0.14\\n0.25 0.15\\n0.25 0.15\\n0.25 0.15\\n0.25 0.15\\n0.25 0.14\\n0.25 0.14\\n0.25 0.14\\n0.25 0.14\\n0.25 0.14\\n0.25 0.17\\n0.25 0.17\\n0.25 0.17\\n0.25 0.16\\n0.25 0.16\\n0.25 0.16\\n0.25 0.16\\n0.25 0.16\\n0.25 0.16\\n0.25 0.16\\n0.25 0.16\\n0.25 0.1\\n0.25 0.1\\n0.25 0.1\\n0.25 0.1\\n0.25 0.11\\n0.25 0.11\\n0.25 0.11\\n0.25 0.11\\n0.25 0.18\\n0.25 0.18\\n0.25 0.18\\n0.25 0.18\\n0.25 0.18\\n0.25 0.18\\n0.25 0.18\\n0.25 0.18\\n0.25 0.18\\n0.25 0.18\\n0.25 0.18\\n0.25 0.18\\n0.25 0.18\\n0.25 0.17\\n0.25 0.17\\n0.25 0.17\\n0.25 0.17\\n0.25 0.09\\n0.25 0.09\\n0.25 0.09\\n0.25 0.13\\n0.25 0.13\\n0.25 0.13\\n0.25 0.13\\n0.25 0.13\\n0.25 0.14\\n0.25 0.14\\n0.25 0.14\\n0.25 0.14\\n0.25 0.14\\n0.25 0.14\\n0.25 0.14\\n0.25 0.15\\n0.25 0.15\\n0.25 0.15\\n0.25 0.15\\n0.25 0.14\\n0.25 0.14\\n0.25 0.14\\n0.25 0.15\\n0.25 0.15\\n0.25 0.15\\n0.25 0.15\\n0.25 0.14\\n0.25 0.14\\n0.25 0.14\\n0.25 0.15\\n0.25 0.15\\n0.25 0.15\\n0.25 0.15\\n0.25 0.15\\n0.25 0.15\\n0.25 0.15\\n0.25 0.15\\n0.25 0.09\\n0.25 0.09\\n0.25 0.09\\n0.25 0.09\\n0.25 0.1\\n0.25 0.1\\n0.25 0.1\\n0.25 0.14\\n0.25 0.14\\n0.25 0.14\\n0.25 0.14\\n0.25 0.15\\n0.25 0.15\\n0.25 0.15\\n0.25 0.14\\n0.25 0.14\\n0.25 0.14\\n0.25 0.13\\n0.25 0.13\\n0.25 0.13\\n0.25 0.13\\n0.25 0.14\\n0.25 0.14\\n0.25 0.14\\n0.25 0.14\\n0.25 0.14\\n0.25 0.14\\n0.25 0.14\\n0.25 0.14\\n0.25 0.13\\n0.25 0.13\\n0.25 0.13\\n0.25 0.13\\n0.25 0.13\\n0.25 0.13\\n0.25 0.13\\n0.25 0.12\\n0.25 0.12\\n0.25 0.12\\n0.25 0.12\\n0.25 0.12\\n0.25 0.13\\n0.25 0.13\\n0.25 0.13\\n0.25 0.13\\n0.25 0.13\\n0.25 0.13\\n0.25 0.13\\n0.25 0.13\\n0.25 0.13\\n0.25 0.13\\n0.25 0.12\\n0.25 0.12\\n0.25 0.12\\n0.25 0.12\\n0.25 0.11\\n0.25 0.11\\n0.25 0.11\\n0.25 0.11\\n0.25 0.11\\n0.25 0.11\\n0.25 0.11\\n0.25 0.11\\n0.23 0.1\\n0.23 0.1\\n0.23 0.1\\n0.22 0.1\\n0.22 0.1\\n0.22 0.1\\n0.22 0.1\\n0.21 0.1\\n0.21 0.1\\n0.21 0.1\\n0.2 0.1\\n0.2 0.1\\n0.19 0.09\\n0.19 0.09\\n0.19 0.09\\n0.19 0.09\\n0.18 0.08\\n0.18 0.08\\n0.18 0.08\\n0.18 0.08\\n0.17 0.09\\n0.17 0.09\\n0.17 0.09\\n0.17 0.09\\n0.17 0.09\\n0.17 0.09\\n0.17 0.09\\n0.17 0.09\\n0.25 0.13\\n0.25 0.13\\n0.25 0.13\\n0.25 0.13\\n0.25 0.14\\n0.25 0.14\\n0.25 0.14\\n0.25 0.13\\n0.25 0.13\\n0.25 0.13\\n0.25 0.19\\n0.25 0.19\\n0.25 0.19\\n0.25 0.18\\n0.25 0.18\\n0.25 0.18\\n0.25 0.18\\n0.25 0.15\\n0.25 0.15\\n0.25 0.15\\n0.25 0.15\\n0.25 0.15\\n0.25 0.19\\n0.25 0.19\\n0.25 0.19\\n0.25 0.19\\n0.25 0.18\\n0.25 0.18\\n0.25 0.18\\n0.25 0.18\\n0.25 0.22\\n0.25 0.22\\n0.25 0.22\\n0.25 0.22\\n0.25 0.22\\n0.25 0.22\\n0.25 0.19\\n0.25 0.19\\n0.25 0.19\\n0.25 0.19\\n0.25 0.19\\n0.25 0.27\\n0.25 0.27\\n0.25 0.27\\n0.25 0.22\\n0.25 0.22\\n0.25 0.22\\n0.25 0.25\\n0.25 0.25\\n0.25 0.25\\n0.25 0.25\\n0.25 0.27\\n0.25 0.27\\n0.25 0.27\\n0.25 0.27\\n0.25 0.24\\n0.25 0.24\\n0.25 0.24\\n0.25 0.24\\n0.25 0.17\\n0.25 0.17\\n0.25 0.17\\n0.25 0.17\\n0.25 0.26\\n0.25 0.26\\n0.25 0.26\\n0.25 0.26\\n0.25 0.29\\n0.25 0.29\\n0.25 0.29\\n0.25 0.21\\n0.25 0.21\\n0.25 0.29\\n0.25 0.29\\n0.25 0.29\\n0.25 0.29\\n0.25 0.28\\n0.25 0.28\\n0.25 0.28\\n0.25 0.28\\n0.25 0.24\\n0.25 0.24\\n0.25 0.24\\n0.25 0.24\\n0.25 0.26\\n0.25 0.26\\n0.25 0.26\\n0.25 0.26\\n0.25 0.26\\n0.25 0.25\\n0.25 0.25\\n0.25 0.25\\n0.25 0.26\\n0.25 0.26\\n0.25 0.26\\n0.25 0.26\\n0.25 0.29\\n0.25 0.29\\n0.25 0.29\\n0.25 0.3\\n0.25 0.3\\n0.25 0.3\\n0.25 0.22\\n0.25 0.22\\n0.25 0.22\\n0.25 0.26\\n0.25 0.26\\n0.25 0.27\\n0.25 0.27\\n0.25 0.27\\n0.25 0.27\\n0.25 0.33\\n0.25 0.33\\n0.25 0.33\\n0.25 0.33\\n0.25 0.33\\n0.25 0.32\\n0.25 0.32\\n0.25 0.32\\n0.25 0.34\\n0.25 0.34\\n0.25 0.34\\n0.25 0.33\\n0.25 0.33\\n0.25 0.33\\n0.25 0.33\\n0.25 0.34\\n0.25 0.34\\n0.25 0.34\\n0.25 0.34\\n0.15 0.47\\n0.15 0.47\\n0.15 0.47\\n0.15 0.47\\n0.15 0.47\\n0.0 0.0\\n0.21 0.45\\n0.21 0.45\\n0.21 0.45\\n0.24 0.26\\n0.24 0.26\\n0.24 0.26\\n0.24 0.26\\n0.14 0.3\\n0.14 0.3\\n0.14 0.3\\n0.0 0.0\\n0.24 0.21\\n0.24 0.21\\n0.24 0.21\\n0.24 0.22\\n0.24 0.22\\n0.24 0.22\\n0.22 0.2\\n0.22 0.2\\n0.22 0.2\\n0.22 0.2\\n0.22 0.2\\n0.22 0.2\\n0.22 0.2\\n0.17 0.52\\n0.17 0.52\\n0.17 0.52\\n0.17 0.52\\n0.19 0.6\\n0.19 0.6\\n0.19 0.6\\n0.19 0.6\\n0.24 0.77\\n0.24 0.77\\n0.24 0.77\\n0.24 0.77\\n0.25 0.86\\n0.25 0.86\\n0.25 0.86\\n0.25 0.86\\n0.25 0.78\\n0.25 0.78\\n0.25 0.78\\n0.25 0.78\\n0.25 0.8\\n0.25 0.8\\n0.25 0.8\\n0.25 0.76\\n0.25 0.76\\n0.25 0.76\\n0.25 0.76\\n0.25 0.72\\n0.25 0.72\\n0.25 0.72\\n0.25 0.7\\n0.25 0.7\\n0.25 0.7\\n0.25 0.65\\n0.25 0.65\\n0.25 0.65\\n0.25 0.62\\n0.25 0.62\\n0.25 0.62\\n0.25 0.62\\n0.25 0.65\\n0.25 0.65\\n0.25 0.55\\n0.25 0.55\\n0.25 0.55\\n0.25 0.55\\n0.25 0.55\\n0.25 0.55\\n0.25 0.55\\n0.25 0.55\\n0.25 0.48\\n0.25 0.48\\n0.25 0.48\\n0.25 0.48\\n0.25 0.44\\n0.25 0.44\\n0.25 0.44\\n0.25 0.46\\n0.25 0.46\\n0.25 0.46\\n0.25 0.4\\n0.25 0.4\\n0.25 0.4\\n0.25 0.44\\n0.25 0.44\\n0.25 0.44\\n0.25 0.44\\n0.25 0.44\\n0.23 0.36\\n0.23 0.36\\n0.23 0.36\\n0.23 0.36\\n0.25 0.29\\n0.25 0.29\\n0.25 0.29\\n0.25 0.29\\n0.25 0.23\\n0.25 0.23\\n0.25 0.23\\n0.25 0.23\\n0.25 0.34\\n0.25 0.34\\n0.25 0.2\\n0.25 0.2\\n0.25 0.2\\n0.25 0.2\\n0.25 0.18\\n0.25 0.18\\n0.25 0.18\\n0.25 0.18\\n0.25 0.19\\n0.25 0.19\\n0.25 0.19\\n0.25 0.19\\n0.25 0.18\\n0.25 0.18\\n0.25 0.18\\n0.25 0.18\\n0.25 0.17\\n0.25 0.17\\n0.25 0.09\\n0.25 0.09\\n0.25 0.09\\n0.25 0.09\\n0.25 0.08\\n0.25 0.08\\n0.25 0.08\\n0.25 0.08\\n0.25 0.17\\n0.25 0.17\\n0.25 0.17\\n0.25 0.17\\n0.24 0.15\\n0.24 0.15\\n0.24 0.15\\n0.24 0.15\\n0.24 0.15\\n0.25 0.15\\n0.25 0.15\\n0.25 0.15\\n0.25 0.15\\n0.25 0.15\\n0.25 0.16\\n0.25 0.16\\n0.25 0.16\\n0.25 0.03\\n0.25 0.03\\n0.25 0.03\\n0.25 0.04\\n0.25 0.04\\n0.25 0.04\\n0.25 0.04\\n0.25 0.03\\n0.25 0.03\\n0.25 0.03\\n0.25 0.03\\n0.25 0.06\\n0.25 0.06\\n0.25 0.06\\n0.15 0.13\\n0.15 0.13\\n0.15 0.13\\n0.15 0.13\\n0.19 -0.11\\n0.19 -0.11\\n0.19 -0.11\\n0.22 0.07\\n0.22 0.07\\n0.22 0.07\\n0.22 0.07\\n0.0 0.0\\n0.23 0.13\\n0.23 0.13\\n0.13 -0.17\\n0.13 -0.17\\n0.13 -0.17\\n0.0 0.0\\n0.18 0.02\\n0.18 0.02\\n0.18 0.02\\n0.18 0.09\\n0.18 0.09\\n0.22 0.13\\n0.22 0.13\\n0.22 0.13\\n0.24 -0.3\\n0.24 -0.3\\n0.24 -0.3\\n0.0 0.0\\n0.25 -0.08\\n0.25 -0.08\\n0.25 0.0\\n0.25 0.0\\n0.25 0.0\\n0.25 -0.16\\n0.25 -0.16\\n0.25 -0.16\\n0.25 -0.16\\n0.25 -0.16\\n0.25 -0.16\\n0.25 -0.05\\n0.25 -0.05\\n0.25 -0.05\\n0.25 -0.05\\n0.25 -0.13\\n0.25 -0.13\\n0.25 -0.13\\n0.25 -0.13\\n0.25 -0.04\\n0.25 -0.04\\n0.25 -0.04\\n0.25 -0.19\\n0.25 -0.19\\n0.25 -0.19\\n0.25 -0.19\\n0.25 -0.08\\n0.25 -0.08\\n0.25 -0.08\\n0.25 -0.11\\n0.25 -0.11\\n0.25 -0.11\\n0.25 -0.11\\n0.25 -0.12\\n0.25 -0.12\\n0.25 -0.17\\n0.25 -0.17\\n0.25 -0.17\\n0.25 -0.17\\n0.25 -0.13\\n0.25 -0.13\\n0.25 -0.13\\n0.25 -0.13\\n0.25 -0.09\\n0.25 -0.09\\n0.25 -0.09\\n0.25 -0.09\\n0.25 -0.09\\n0.25 -0.24\\n0.25 -0.24\\n0.25 -0.24\\n0.25 -0.24\\n0.25 -0.24\\n0.25 -0.24\\n0.25 -0.24\\n0.25 -0.23\\n0.25 -0.23\\n0.25 -0.23\\n0.25 -0.23\\n0.25 -0.23\\n0.25 -0.16\\n0.25 -0.16\\n0.25 -0.16\\n0.25 -0.16\\n0.25 -0.16\\n0.25 -0.16\\n0.25 -0.16\\n0.25 -0.16\\n0.25 -0.16\\n0.25 -0.16\\n0.25 -0.16\\n0.25 -0.17\\n0.25 -0.17\\n0.25 -0.17\\n0.25 -0.17\\n0.25 -0.18\\n0.25 -0.18\\n0.25 -0.18\\n0.25 -0.2\\n0.25 -0.2\\n0.25 -0.2\\n0.25 -0.21\\n0.25 -0.21\\n0.25 -0.21\\n0.25 -0.21\\n0.25 -0.21\\n0.25 -0.21\\n0.25 -0.21\\n0.25 -0.21\\n0.25 -0.21\\n0.25 -0.2\\n0.25 -0.2\\n0.25 -0.2\\n0.25 -0.24\\n0.25 -0.24\\n0.25 -0.24\\n0.25 -0.24\\n0.25 -0.2\\n0.25 -0.2\\n0.25 -0.2\\n0.25 -0.2\\n0.25 -0.21\\n0.25 -0.21\\n0.25 -0.21\\n0.25 -0.2\\n0.25 -0.2\\n0.25 -0.2\\n0.25 -0.2\\n0.25 -0.26\\n0.25 -0.26\\n0.25 -0.26\\n0.25 -0.25\\n0.25 -0.25\\n0.25 -0.25\\n0.25 -0.25\\n0.25 -0.27\\n0.25 -0.27\\n0.25 -0.27\\n0.25 -0.27\\n0.25 -0.26\\n0.25 -0.26\\n0.25 -0.26\\n0.25 -0.26\\n0.25 -0.26\\n0.25 -0.26\\n0.25 -0.26\\n0.25 -0.27\\n0.25 -0.27\\n0.25 -0.27\\n0.25 -0.27\\n0.25 -0.27\\n0.25 -0.27\\n0.25 -0.38\\n0.25 -0.38\\n0.25 -0.38\\n0.25 -0.38\\n0.25 -0.4\\n0.25 -0.4\\n0.25 -0.4\\n0.25 -0.4\\n0.25 -0.39\\n0.25 -0.39\\n0.25 -0.39\\n0.25 -0.4\\n0.25 -0.4\\n0.25 -0.4\\n0.25 -0.4\\n0.25 -0.38\\n0.25 -0.38\\n0.25 -0.38\\n0.25 -0.38\\n0.23 -0.37\\n0.23 -0.37\\n0.23 -0.37\\n0.23 -0.37\\n0.23 -0.37\\n0.25 -0.44\\n0.25 -0.44\\n0.25 -0.44\\n0.25 -0.45\\n0.25 -0.45\\n0.25 -0.45\\n0.25 -0.45\\n0.25 -0.42\\n0.25 -0.42\\n0.25 -0.42\\n0.25 -0.42\\n0.25 -0.39\\n0.25 -0.39\\n0.25 -0.39\\n0.25 -0.39\\n0.25 -0.4\\n0.25 -0.4\\n0.25 -0.4\\n0.25 -0.4\\n0.25 -0.4\\n0.25 -0.44\\n0.25 -0.44\\n0.25 -0.44\\n0.25 -0.44\\n0.25 -0.53\\n0.25 -0.53\\n0.25 -0.53\\n0.25 -0.53\\n0.25 -0.41\\n0.25 -0.41\\n0.25 -0.41\\n0.25 -0.38\\n0.25 -0.38\\n0.25 -0.38\\n0.23 -0.36\\n0.23 -0.36\\n0.23 -0.36\\n0.25 -0.38\\n0.25 -0.38\\n0.25 -0.38\\n0.25 -0.38\\n0.25 -0.46\\n0.25 -0.46\\n0.25 -0.46\\n0.25 -0.46\\n0.25 -0.46\\n0.25 -0.45\\n0.25 -0.45\\n0.25 -0.45\\n0.25 -0.45\\n0.25 -0.36\\n0.25 -0.36\\n0.25 -0.36\\n0.25 -0.36\\n0.25 -0.4\\n0.25 -0.4\\n0.25 -0.4\\n0.25 -0.4\\n0.25 -0.4\\n0.25 -0.41\\n0.25 -0.41\\n0.25 -0.41\\n0.25 -0.41\\n0.25 -0.38\\n0.25 -0.38\\n0.25 -0.38\\n0.25 -0.38\\n0.25 -0.42\\n0.25 -0.42\\n0.25 -0.42\\n0.25 -0.42\\n0.25 -0.42\\n0.25 -0.39\\n0.25 -0.39\\n0.25 -0.39\\n0.25 -0.44\\n0.25 -0.44\\n0.25 -0.44\\n0.25 -0.44\\n0.25 -0.43\\n0.25 -0.43\\n0.25 -0.43\\n0.25 -0.43\\n0.25 -0.44\\n0.25 -0.44\\n0.25 -0.44\\n0.25 -0.36\\n0.25 -0.36\\n0.25 -0.36\\n0.25 -0.36\\n0.25 -0.4\\n0.25 -0.4\\n0.25 -0.4\\n0.25 -0.4\\n0.25 -0.42\\n0.25 -0.42\\n0.25 -0.42\\n0.25 -0.41\\n0.25 -0.41\\n0.25 -0.41\\n0.25 -0.41\\n0.25 -0.38\\n0.25 -0.38\\n0.25 -0.38\\n0.25 -0.36\\n0.25 -0.36\\n0.25 -0.36\\n0.25 -0.35\\n0.25 -0.35\\n0.25 -0.35\\n0.25 -0.35\\n0.25 -0.33\\n0.25 -0.33\\n0.25 -0.33\\n0.25 -0.33\\n0.25 -0.32\\n0.25 -0.32\\n0.25 -0.32\\n0.25 -0.29\\n0.25 -0.29\\n0.25 -0.29\\n0.25 -0.29\\n0.25 -0.29\\n0.25 -0.35\\n0.25 -0.35\\n0.25 -0.35\\n0.25 -0.32\\n0.25 -0.32\\n0.25 -0.32\\n0.25 -0.35\\n0.25 -0.35\\n0.25 -0.35\\n0.25 -0.35\\n0.25 -0.35\\n0.25 -0.35\\n0.25 -0.31\\n0.25 -0.31\\n0.25 -0.3\\n0.25 -0.3\\n0.25 -0.3\\n0.25 -0.3\\n0.25 -0.29\\n0.25 -0.29\\n0.25 -0.29\\n0.23 -0.27\\n0.23 -0.27\\n0.23 -0.27\\n0.22 -0.24\\n0.22 -0.24\\n0.22 -0.24\\n0.21 -0.25\\n0.21 -0.25\\n0.21 -0.25\\n0.2 -0.24\\n0.2 -0.24\\n0.2 -0.24\\n0.2 -0.24\\n0.19 -0.23\\n0.19 -0.23\\n0.19 -0.23\\n0.19 -0.23\\n0.19 -0.23\\n0.18 -0.22\\n0.18 -0.22\\n0.18 -0.22\\n0.18 -0.22\\n0.17 -0.19\\n0.17 -0.19\\n0.17 -0.19\\n0.17 -0.19\\n0.14 -0.22\\n0.14 -0.22\\n0.17 -0.2\\n0.17 -0.2\\n0.17 -0.2\\n0.17 -0.2\\n0.17 -0.21\\n0.17 -0.21\\n0.17 -0.21\\n0.17 -0.21\\n0.17 -0.21\\n0.15 -0.18\\n0.15 -0.18\\n0.15 -0.18\\n0.15 -0.18\\n0.15 -0.18\\n0.15 -0.5\\n0.15 -0.5\\n0.15 -0.5\\n0.15 -0.5\\n0.25 -0.78\\n0.25 -0.78\\n0.25 -0.78\\n0.25 -0.78\\n0.25 -0.72\\n0.25 -0.72\\n0.25 -0.72\\n0.23 -0.72\\n0.23 -0.72\\n0.23 -0.72\\n0.23 -0.72\\n0.25 -0.71\\n0.25 -0.71\\n0.25 -0.71\\n0.25 -0.71\\n0.25 -0.63\\n0.25 -0.63\\n0.25 -0.63\\n0.25 -0.63\\n0.25 -0.6\\n0.25 -0.6\\n0.25 -0.6\\n0.25 -0.6\\n0.25 -0.6\\n0.25 -0.58\\n0.25 -0.58\\n0.25 -0.58\\n0.25 -0.55\\n0.25 -0.55\\n0.25 -0.55\\n0.25 -0.55\\n0.25 -0.54\\n0.25 -0.54\\n0.25 -0.54\\n0.25 -0.54\\n0.25 -0.51\\n0.25 -0.51\\n0.25 -0.51\\n0.25 -0.51\\n0.25 -0.5\\n0.25 -0.5\\n0.25 -0.52\\n0.25 -0.52\\n0.25 -0.52\\n0.25 -0.52\\n0.25 -0.46\\n0.25 -0.46\\n0.25 -0.46\\n0.25 -0.46\\n0.25 -0.46\\n0.25 -0.46\\n0.25 -0.46\\n0.25 -0.46\\n0.25 -0.44\\n0.25 -0.44\\n0.25 -0.44\\n0.25 -0.42\\n0.25 -0.42\\n0.25 -0.42\\n0.25 -0.42\\n0.25 -0.39\\n0.25 -0.39\\n0.25 -0.39\\n0.25 -0.39\\n0.25 -0.36\\n0.25 -0.36\\n0.25 -0.36\\n0.25 -0.36\\n0.25 -0.35\\n0.25 -0.35\\n0.25 -0.35\\n0.25 -0.35\\n0.25 -0.33\\n0.25 -0.33\\n0.25 -0.33\\n0.25 -0.33\\n0.25 -0.27\\n0.25 -0.27\\n0.25 -0.27\\n0.25 -0.24\\n0.25 -0.24\\n0.25 -0.24\\n0.25 -0.24\\n0.25 -0.23\\n0.25 -0.23\\n0.25 -0.23\\n0.25 -0.31\\n0.25 -0.31\\n0.25 -0.31\\n0.25 -0.31\\n0.25 -0.29\\n0.25 -0.29\\n0.25 -0.29\\n0.25 -0.27\\n0.25 -0.27\\n0.25 -0.27\\n0.25 -0.23\\n0.25 -0.23\\n0.25 -0.22\\n0.25 -0.22\\n0.25 -0.22\\n0.25 -0.22\\n0.25 -0.21\\n0.25 -0.21\\n0.25 -0.21\\n0.25 -0.21\\n0.25 -0.2\\n0.25 -0.2\\n0.25 -0.2\\n0.25 -0.2\\n0.25 -0.17\\n0.25 -0.17\\n0.25 -0.17\\n0.25 -0.11\\n0.25 -0.11\\n0.25 -0.11\\n0.25 -0.1\\n0.25 -0.1\\n0.25 -0.1\\n0.25 -0.08\\n0.25 -0.08\\n0.25 -0.08\\n0.25 -0.08\\n0.25 -0.07\\n0.25 -0.07\\n0.25 -0.07\\n0.25 -0.07\\n0.25 -0.06\\n0.25 -0.06\\n0.25 -0.06\\n0.25 -0.06\\n0.25 -0.06\\n0.25 -0.05\\n0.25 -0.05\\n0.25 -0.05\\n0.25 -0.04\\n0.25 -0.04\\n0.25 -0.04\\n0.25 -0.03\\n0.25 -0.03\\n0.25 -0.03\\n0.25 -0.03\\n0.25 -0.02\\n0.25 -0.02\\n0.25 -0.02\\n0.25 -0.02\\n0.25 -0.02\\n0.25 -0.02\\n0.25 -0.02\\n0.25 -0.02\\n0.25 -0.02\\n0.25 -0.02\\n0.25 -0.02\\n0.25 -0.02\\n0.25 -0.02\\n0.25 -0.2\\n0.25 -0.2\\n0.25 -0.2\\n0.25 -0.2\\n0.25 -0.23\\n0.25 -0.23\\n0.25 -0.23\\n0.25 -0.26\\n0.25 -0.26\\n0.25 -0.26\\n0.25 -0.26\\n0.25 -0.26\\n0.25 -0.28\\n0.25 -0.28\\n0.25 -0.37\\n0.25 -0.37\\n0.25 -0.37\\n0.25 -0.37\\n0.25 -0.26\\n0.25 -0.26\\n0.25 -0.26\\n0.25 -0.24\\n0.25 -0.24\\n0.25 -0.24\\n0.25 -0.24\\n0.25 -0.23\\n0.25 -0.23\\n0.25 -0.23\\n0.25 -0.29\\n0.25 -0.29\\n0.25 -0.29\\n0.25 -0.29\\n0.25 -0.35\\n0.25 -0.35\\n0.25 -0.35\\n0.25 -0.35\\n0.25 -0.36\\n0.25 -0.36\\n0.25 -0.36\\n0.25 -0.27\\n0.25 -0.27\\n0.25 -0.27\\n0.25 -0.27\\n0.25 -0.31\\n0.25 -0.31\\n0.25 -0.31\\n0.25 -0.31\\n0.25 -0.32\\n0.25 -0.32\\n0.25 -0.32\\n0.25 -0.32\\n0.25 -0.38\\n0.25 -0.38\\n0.25 -0.38\\n0.25 -0.38\\n0.25 -0.32\\n0.25 -0.32\\n0.25 -0.32\\n0.25 -0.32\\n0.25 -0.29\\n0.25 -0.29\\n0.25 -0.29\\n0.25 -0.29\\n0.25 -0.31\\n0.25 -0.31\\n0.25 -0.31\\n0.25 -0.31\\n0.25 -0.34\\n0.25 -0.34\\n0.25 -0.34\\n0.25 -0.34\\n0.25 -0.36\\n0.25 -0.36\\n0.25 -0.36\\n0.25 -0.36\\n0.25 -0.36\\n0.25 -0.36\\n0.25 -0.36\\n0.25 -0.35\\n0.25 -0.35\\n0.25 -0.35\\n0.25 -0.35\\n0.25 -0.24\\n0.25 -0.24\\n0.25 -0.24\\n0.25 -0.24\\n0.25 -0.24\\n0.25 -0.27\\n0.25 -0.27\\n0.25 -0.27\\n0.25 -0.27\\n0.25 -0.27\\n0.25 -0.27\\n0.25 -0.27\\n0.25 -0.3\\n0.25 -0.3\\n0.25 -0.3\\n0.25 -0.31\\n0.25 -0.31\\n0.25 -0.31\\n0.25 -0.31\\n0.25 -0.31\\n0.25 -0.31\\n0.25 -0.31\\n0.25 -0.32\\n0.25 -0.32\\n0.25 -0.32\\n0.25 -0.32\\n0.25 -0.31\\n0.25 -0.31\\n0.25 -0.31\\n0.25 -0.31\\n0.25 -0.31\\n0.25 -0.31\\n0.25 -0.32\\n0.25 -0.32\\n0.25 -0.32\\n0.25 -0.32\\n0.25 -0.31\\n0.25 -0.31\\n0.25 -0.31\\n0.25 -0.31\\n0.25 -0.28\\n0.25 -0.28\\n0.25 -0.28\\n0.25 -0.28\\n0.25 -0.34\\n0.25 -0.34\\n0.25 -0.34\\n0.25 -0.29\\n0.25 -0.29\\n0.25 -0.3\\n0.25 -0.3\\n0.25 -0.3\\n0.25 -0.3\\n0.25 -0.3\\n0.25 -0.27\\n0.25 -0.27\\n0.25 -0.27\\n0.25 -0.27\\n0.25 -0.26\\n0.25 -0.26\\n0.25 -0.26\\n0.25 -0.26\\n0.25 -0.25\\n0.25 -0.25\\n0.25 -0.25\\n0.25 -0.24\\n0.25 -0.24\\n0.25 -0.24\\n0.25 -0.24\\n0.25 -0.23\\n0.25 -0.23\\n0.25 -0.23\\n0.25 -0.18\\n0.25 -0.18\\n0.25 -0.18\\n0.25 -0.15\\n0.25 -0.15\\n0.25 -0.15\\n0.25 -0.15\\n0.25 -0.15\\n0.25 -0.15\\n0.25 -0.09\\n0.25 -0.09\\n0.25 -0.09\\n0.25 -0.09\\n0.25 -0.09\\n0.25 -0.1\\n0.25 -0.1\\n0.25 -0.1\\n0.25 -0.1\\n0.25 -0.1\\n0.25 -0.09\\n0.25 -0.09\\n0.25 -0.09\\n0.25 -0.09\\n0.25 -0.08\\n0.25 -0.08\\n0.25 -0.08\\n0.25 -0.08\\n0.25 -0.08\\n0.25 -0.04\\n0.25 -0.04\\n0.25 -0.04\\n0.25 -0.04\\n0.25 -0.03\\n0.25 -0.03\\n0.25 -0.03\\n0.25 0.02\\n0.25 0.02\\n0.25 -0.04\\n0.25 -0.04\\n0.25 -0.04\\n0.25 0.01\\n0.25 0.01\\n0.25 0.01\\n0.25 0.01\\n0.25 0.01\\n0.25 0.01\\n0.25 0.01\\n0.25 0.01\\n0.25 0.05\\n0.25 0.05\\n0.25 0.05\\n0.25 0.05\\n0.25 0.05\\n0.25 0.05\\n0.25 0.05\\n0.25 0.09\\n0.25 0.09\\n0.25 0.08\\n0.25 0.08\\n0.25 0.08\\n0.25 0.08\\n0.25 0.08\\n0.25 0.07\\n0.25 0.07\\n0.25 0.07\\n0.25 0.07\\n0.25 0.07\\n0.25 0.07\\n0.25 0.07\\n0.25 0.07\\n0.25 0.07\\n0.25 0.07\\n0.25 0.07\\n0.25 0.1\\n0.25 0.1\\n0.25 0.1\\n0.25 0.1\\n0.25 0.1\\n0.25 0.09\\n0.25 0.09\\n0.25 0.09\\n0.25 -0.02\\n0.25 -0.02\\n0.25 -0.02\\n0.25 0.02\\n0.25 0.02\\n0.25 0.02\\n0.25 0.02\\n0.25 -0.02\\n0.25 -0.02\\n0.25 -0.02\\n0.25 0.02\\n0.25 0.02\\n0.25 0.02\\n0.25 -0.03\\n0.25 -0.03\\n0.25 -0.03\\n0.25 0.02\\n0.25 0.02\\n0.25 0.02\\n0.25 0.02\\n0.25 0.02\\n0.25 0.01\\n0.25 0.01\\n0.25 0.01\\n0.25 0.01\\n0.25 0.08\\n0.25 0.08\\n0.25 0.08\\n0.25 0.08\\n0.25 0.06\\n0.25 0.06\\n0.25 0.06\\n0.25 0.06\\n0.25 0.04\\n0.25 0.04\\n0.25 0.04\\n0.25 0.04\\n0.25 -0.02\\n0.25 -0.02\\n0.25 -0.02\\n0.25 0.09\\n0.25 0.09\\n0.25 0.09\\n0.25 0.09\\n0.25 0.08\\n0.25 0.08\\n0.25 0.08\\n0.25 0.08\\n0.25 0.05\\n0.25 0.05\\n0.25 0.05\\n0.25 0.05\\n0.25 0.05\\n0.25 0.04\\n0.25 0.04\\n0.25 0.04\\n0.25 0.01\\n0.25 0.01\\n0.25 0.01\\n0.25 0.01\\n0.25 -0.04\\n0.25 -0.04\\n0.25 -0.04\\n0.25 -0.04\\n0.25 -0.07\\n0.25 -0.07\\n0.25 -0.07\\n0.25 -0.07\\n0.25 -0.07\\n0.25 -0.09\\n0.25 -0.09\\n0.25 -0.09\\n0.25 -0.1\\n0.25 -0.1\\n0.25 -0.14\\n0.25 -0.14\\n0.25 -0.14\\n0.25 -0.14\\n0.25 -0.14\\n0.25 -0.13\\n0.25 -0.13\\n0.25 -0.13\\n0.25 -0.17\\n0.25 -0.17\\n0.25 -0.17\\n0.25 -0.17\\n0.25 -0.16\\n0.25 -0.16\\n0.25 -0.16\\n0.25 -0.16\\n0.25 -0.18\\n0.25 -0.18\\n0.25 -0.18\\n0.25 -0.24\\n0.25 -0.24\\n0.25 -0.23\\n0.25 -0.23\\n0.25 -0.23\\n0.25 -0.25\\n0.25 -0.25\\n0.25 -0.25\\n0.25 -0.25\\n0.25 -0.29\\n0.25 -0.29\\n0.25 -0.28\\n0.25 -0.28\\n0.25 -0.28\\n0.25 -0.25\\n0.25 -0.25\\n0.25 -0.25\\n0.25 -0.25\\n0.25 -0.25\\n0.25 -0.23\\n0.25 -0.23\\n0.25 -0.23\\n0.25 -0.23\\n0.25 -0.32\\n0.25 -0.32\\n0.25 -0.32\\n0.25 -0.32\\n0.25 -0.32\\n0.25 -0.36\\n0.25 -0.36\\n0.25 -0.36\\n0.25 -0.32\\n0.25 -0.32\\n0.25 -0.32\\n0.25 -0.32\\n0.25 -0.39\\n0.25 -0.39\\n0.25 -0.39\\n0.25 -0.32\\n0.25 -0.32\\n0.25 -0.32\\n0.25 -0.32\\n0.25 -0.34\\n0.25 -0.34\\n0.25 -0.34\\n0.25 -0.34\\n0.25 -0.31\\n0.25 -0.31\\n0.25 -0.31\\n0.25 -0.26\\n0.25 -0.26\\n0.25 -0.26\\n0.25 -0.26\\n0.25 -0.35\\n0.25 -0.35\\n0.25 -0.35\\n0.25 -0.35\\n0.25 -0.35\\n0.25 -0.38\\n0.25 -0.38\\n0.25 -0.38\\n0.25 -0.38\\n0.25 -0.37\\n0.25 -0.37\\n0.25 -0.31\\n0.25 -0.31\\n0.25 -0.31\\n0.25 -0.35\\n0.25 -0.35\\n0.25 -0.35\\n0.25 -0.35\\n0.25 -0.24\\n0.25 -0.24\\n0.25 -0.24\\n0.25 -0.24\\n0.25 -0.34\\n0.25 -0.34\\n0.25 -0.34\\n0.25 -0.31\\n0.25 -0.31\\n0.25 -0.31\\n0.25 -0.34\\n0.25 -0.34\\n0.25 -0.34\\n0.25 -0.33\\n0.25 -0.33\\n0.25 -0.33\\n0.25 -0.33\\n0.25 -0.33\\n0.25 -0.32\\n0.25 -0.32\\n0.25 -0.32\\n0.25 -0.32\\n0.25 -0.26\\n0.25 -0.26\\n0.25 -0.26\\n0.25 -0.26\\n0.25 -0.26\\n0.25 -0.24\\n0.25 -0.24\\n0.25 -0.24\\n0.25 -0.28\\n0.25 -0.28\\n0.25 -0.28\\n0.25 -0.28\\n0.25 -0.22\\n0.25 -0.22\\n0.25 -0.22\\n0.25 -0.23\\n0.25 -0.23\\n0.25 -0.23\\n0.25 -0.23\\n0.25 -0.18\\n0.25 -0.18\\n0.25 -0.18\\n0.25 -0.18\\n0.25 -0.22\\n0.25 -0.22\\n0.25 -0.22\\n0.25 -0.22\\n0.25 -0.22\\n0.25 -0.18\\n0.25 -0.18\\n0.25 -0.18\\n0.25 -0.14\\n0.25 -0.14\\n0.25 -0.14\\n0.25 -0.13\\n0.25 -0.13\\n0.25 -0.13\\n0.25 -0.09\\n0.25 -0.09\\n0.25 -0.09\\n0.25 -0.15\\n0.25 -0.15\\n0.25 -0.15\\n0.25 -0.06\\n0.25 -0.06\\n0.25 -0.06\\n0.25 -0.06\\n0.25 -0.04\\n0.25 -0.04\\n0.25 -0.04\\n0.25 -0.08\\n0.25 -0.08\\n0.25 -0.08\\n0.25 0.03\\n0.25 0.03\\n0.25 0.03\\n0.25 0.03\\n0.25 0.02\\n0.25 0.02\\n0.25 0.02\\n0.25 0.02\\n0.25 -0.02\\n0.25 -0.02\\n0.25 -0.02\\n0.25 -0.02\\n0.25 0.04\\n0.25 0.04\\n0.25 0.04\\n0.25 0.04\\n0.25 0.04\\n0.25 0.04\\n0.25 0.04\\n0.15 -0.26\\n0.15 -0.26\\n0.15 -0.26\\n0.15 -0.26\\n0.17 -0.19\\n0.17 -0.19\\n0.17 -0.19\\n0.16 -0.3\\n0.16 -0.3\\n0.16 -0.3\\n0.24 -0.45\\n0.24 -0.45\\n0.21 -0.44\\n0.21 -0.44\\n0.21 -0.44\\n0.21 -0.44\\n0.25 -0.64\\n0.25 -0.64\\n0.25 -0.64\\n0.25 -0.64\\n0.25 -0.64\\n0.25 -0.58\\n0.25 -0.58\\n0.25 -0.58\\n0.25 -0.58\\n0.25 -0.58\\n0.25 -0.59\\n0.25 -0.59\\n0.25 -0.59\\n0.25 -0.59\\n0.25 -0.59\\n0.25 -0.56\\n0.25 -0.56\\n0.25 -0.56\\n0.25 -0.52\\n0.25 -0.52\\n0.25 -0.52\\n0.25 -0.52\\n0.25 -0.6\\n0.25 -0.6\\n0.25 -0.6\\n0.25 -0.6\\n0.25 -0.6\\n0.25 -0.5\\n0.25 -0.5\\n0.25 -0.5\\n0.25 -0.51\\n0.25 -0.51\\n0.25 -0.51\\n0.25 -0.51\\n0.25 -0.48\\n0.25 -0.48\\n0.25 -0.48\\n0.25 -0.48\\n0.25 -0.46\\n0.25 -0.46\\n0.25 -0.46\\n0.25 -0.46\\n0.25 -0.37\\n0.25 -0.37\\n0.25 -0.37\\n0.25 -0.44\\n0.25 -0.44\\n0.25 -0.44\\n0.25 -0.44\\n0.25 -0.44\\n0.25 -0.34\\n0.25 -0.34\\n0.25 -0.34\\n0.25 -0.34\\n0.25 -0.35\\n0.25 -0.35\\n0.25 -0.35\\n0.25 -0.35\\n0.25 -0.34\\n0.25 -0.34\\n0.25 -0.34\\n0.25 -0.34\\n0.25 -0.27\\n0.25 -0.27\\n0.25 -0.27\\n0.25 -0.23\\n0.25 -0.23\\n0.25 -0.23\\n0.25 -0.19\\n0.25 -0.19\\n0.25 -0.23\\n0.25 -0.23\\n0.25 -0.23\\n0.25 -0.23\\n0.25 -0.25\\n0.25 -0.25\\n0.25 -0.19\\n0.25 -0.19\\n0.25 -0.19\\n0.25 -0.19\\n0.25 -0.17\\n0.25 -0.17\\n0.25 -0.17\\n0.25 -0.18\\n0.25 -0.18\\n0.25 -0.18\\n0.25 -0.22\\n0.25 -0.22\\n0.25 -0.22\\n0.25 -0.13\\n0.25 -0.13\\n0.25 -0.13\\n0.25 -0.13\\n0.25 -0.13\\n0.25 -0.13\\n0.25 -0.13\\n0.25 -0.13\\n0.25 -0.12\\n0.25 -0.12\\n0.25 -0.12\\n0.25 -0.06\\n0.25 -0.06\\n0.25 -0.06\\n0.25 -0.06\\n0.25 -0.05\\n0.25 -0.05\\n0.25 -0.05\\n0.25 -0.05\\n0.25 -0.05\\n0.25 -0.05\\n0.25 -0.05\\n0.25 -0.05\\n0.25 -0.04\\n0.25 -0.04\\n0.25 -0.04\\n0.25 -0.04\\n0.23 -0.04\\n0.23 -0.04\\n0.23 -0.04\\n0.23 -0.04\\n0.25 -0.08\\n0.25 -0.08\\n0.25 -0.08\\n0.25 -0.02\\n0.25 -0.02\\n0.25 -0.02\\n0.25 -0.04\\n0.25 -0.04\\n0.25 -0.04\\n0.25 -0.04\\n0.25 0.0\\n0.25 0.0\\n0.25 0.0\\n0.25 0.0\\n0.25 0.0\\n0.25 0.0\\n0.25 -0.02\\n0.25 -0.02\\n0.25 -0.02\\n0.25 -0.02\\n0.25 0.0\\n0.25 0.0\\n0.25 0.0\\n0.25 0.01\\n0.25 0.01\\n0.25 0.01\\n0.25 0.01\\n0.25 0.02\\n0.25 0.02\\n0.25 0.02\\n0.25 0.02\\n0.25 0.01\\n0.25 0.01\\n0.25 0.01\\n0.25 0.04\\n0.25 0.04\\n0.25 0.04\\n0.25 0.1\\n0.25 0.1\\n0.25 0.09\\n0.25 0.09\\n0.25 0.1\\n0.25 0.1\\n0.25 0.06\\n0.25 0.06\\n0.25 0.1\\n0.25 0.1\\n0.25 0.1\\n0.25 0.09\\n0.25 0.09\\n0.25 0.09\\n0.25 0.12\\n0.25 0.12\\n0.25 0.12\\n0.25 0.07\\n0.25 0.07\\n0.25 0.07\\n0.25 0.07\\n0.25 0.13\\n0.25 0.13\\n0.25 0.13\\n0.25 0.13\\n0.25 0.12\\n0.25 0.12\\n0.25 0.12\\n0.25 0.12\\n0.25 0.12\\n0.25 0.12\\n0.25 0.21\\n0.25 0.21\\n0.25 0.21\\n0.25 0.21\\n0.25 0.26\\n0.25 0.26\\n0.25 0.26\\n0.25 0.24\\n0.25 0.24\\n0.25 0.24\\n0.25 0.29\\n0.25 0.29\\n0.25 0.29\\n0.25 0.31\\n0.25 0.31\\n0.25 0.31\\n0.25 0.31\\n0.25 0.3\\n0.25 0.3\\n0.25 0.3\\n0.25 0.24\\n0.25 0.24\\n0.25 0.24\\n0.25 0.21\\n0.25 0.21\\n0.25 0.21\\n0.25 0.21\\n0.25 0.2\\n0.25 0.2\\n0.25 0.2\\n0.25 0.2\\n0.25 0.2\\n0.25 0.19\\n0.25 0.19\\n0.25 0.17\\n0.25 0.17\\n0.25 0.17\\n0.25 0.17\\n0.25 0.17\\n0.25 0.17\\n0.25 0.17\\n0.25 0.17\\n0.25 0.17\\n0.25 0.17\\n0.25 0.17\\n0.25 0.16\\n0.25 0.16\\n0.25 0.16\\n0.25 0.16\\n0.25 0.18\\n0.25 0.18\\n0.25 0.18\\n0.25 0.17\\n0.25 0.17\\n0.25 0.16\\n0.25 0.16\\n0.25 0.16\\n0.25 0.16\\n0.25 0.16\\n0.25 0.15\\n0.25 0.15\\n0.25 0.15\\n0.25 0.13\\n0.25 0.13\\n0.25 0.13\\n0.25 0.13\\n0.23 0.12\\n0.23 0.12\\n0.21 0.12\\n0.21 0.12\\n0.21 0.12\\n0.21 0.27\\n0.21 0.27\\n0.21 0.27\\n0.21 0.27\\n0.2 0.12\\n0.2 0.12\\n0.2 0.12\\n0.2 0.12\\n0.18 0.11\\n0.18 0.11\\n0.18 0.11\\n0.17 0.28\\n0.17 0.28\\n0.17 0.28\\n0.17 0.26\\n0.17 0.26\\n0.17 0.26\\n0.17 0.26\\n0.15 0.17\\n0.15 0.17\\n0.17 0.31\\n0.17 0.31\\n0.17 0.31\\n0.17 0.29\\n0.17 0.29\\n0.17 0.29\\n0.17 0.29\\n0.15 0.3\\n0.15 0.3\\n0.15 0.27\\n0.15 0.27\\n0.15 0.27\\n0.15 0.27\\n0.15 0.25\\n0.15 0.25\\n0.15 0.25\\n0.15 0.25\\n0.14 0.3\\n0.14 0.3\\n0.14 0.3\\n0.14 0.36\\n0.14 0.36\\n0.14 0.36\\n0.14 0.41\\n0.14 0.41\\n0.14 0.25\\n0.14 0.25\\n0.14 0.25\\n0.14 0.25\\n0.14 0.25\\n0.14 0.25\\n0.14 0.25\\n0.25 0.52\\n0.25 0.52\\n0.25 0.52\\n0.25 0.52\\n0.25 0.48\\n0.25 0.48\\n0.25 0.48\\n0.25 0.48\\n0.21 0.44\\n0.21 0.44\\n0.21 0.44\\n0.25 0.48\\n0.25 0.48\\n0.25 0.48\\n0.25 0.48\\n0.25 0.48\\n0.25 0.47\\n0.25 0.47\\n0.25 0.47\\n0.25 0.46\\n0.25 0.46\\n0.25 0.46\\n0.25 0.46\\n0.25 0.46\\n0.25 0.46\\n0.25 0.46\\n0.25 0.45\\n0.25 0.45\\n0.25 0.45\\n0.25 0.42\\n0.25 0.42\\n0.25 0.42\\n0.25 0.42\\n0.25 0.42\\n0.25 0.41\\n0.25 0.41\\n0.25 0.41\\n0.25 0.4\\n0.25 0.4\\n0.25 0.4\\n0.25 0.4\\n0.25 0.41\\n0.25 0.41\\n0.25 0.41\\n0.25 0.41\\n0.25 0.41\\n0.25 0.41\\n0.25 0.41\\n0.25 0.41\\n0.25 0.41\\n0.25 0.41\\n0.25 0.43\\n0.25 0.43\\n0.25 0.43\\n0.25 0.43\\n0.25 0.41\\n0.25 0.41\\n0.25 0.41\\n0.25 0.41\\n0.25 0.39\\n0.25 0.39\\n0.25 0.39\\n0.25 0.39\\n0.25 0.38\\n0.25 0.38\\n0.25 0.38\\n0.25 0.38\\n0.25 0.36\\n0.25 0.36\\n0.25 0.36\\n0.25 0.36\\n0.25 0.34\\n0.25 0.34\\n0.25 0.34\\n0.25 0.31\\n0.25 0.31\\n0.25 0.31\\n0.25 0.31\\n0.25 0.31\\n0.25 0.31\\n0.25 0.31\\n0.25 0.31\\n0.25 0.28\\n0.25 0.28\\n0.25 0.28\\n0.25 0.28\\n0.25 0.27\\n0.25 0.27\\n0.25 0.27\\n0.25 0.27\\n0.25 0.25\\n0.25 0.25\\n0.25 0.25\\n0.25 0.33\\n0.25 0.33\\n0.25 0.33\\n0.25 0.33\\n0.25 0.28\\n0.25 0.28\\n0.25 0.28\\n0.25 0.28\\n0.25 0.28\\n0.25 0.26\\n0.25 0.26\\n0.25 0.26\\n0.25 0.27\\n0.25 0.27\\n0.25 0.27\\n0.25 0.23\\n0.25 0.23\\n0.25 0.23\\n0.25 0.23\\n0.25 0.23\\n0.23 0.2\\n0.23 0.2\\n0.23 0.2\\n0.19 0.25\\n0.19 0.25\\n0.19 0.25\\n0.19 0.25\\n0.2 0.23\\n0.2 0.23\\n0.19 0.17\\n0.19 0.17\\n0.19 0.17\\n0.19 0.15\\n0.19 0.15\\n0.19 0.15\\n0.18 0.14\\n0.18 0.14\\n0.18 0.14\\n0.18 0.14\\n0.14 0.21\\n0.14 0.21\\n0.14 0.21\\n0.14 0.21\\n0.14 0.21\\n0.14 0.21\\n0.14 0.21\\n0.18 0.44\\n0.18 0.44\\n0.18 0.44\\n0.18 0.44\\n0.18 0.44\\n0.18 0.44\\n0.24 0.55\\n0.24 0.55\\n0.24 0.55\\n0.24 0.62\\n0.24 0.62\\n0.24 0.62\\n0.24 0.62\\n0.25 0.68\\n0.25 0.68\\n0.25 0.68\\n0.25 0.68\\n0.25 0.67\\n0.25 0.67\\n0.25 0.67\\n0.25 0.66\\n0.25 0.66\\n0.25 0.66\\n0.25 0.63\\n0.25 0.63\\n0.25 0.63\\n0.25 0.62\\n0.25 0.62\\n0.25 0.62\\n0.25 0.62\\n0.25 0.62\\n0.25 0.62\\n0.25 0.62\\n0.25 0.62\\n0.25 0.6\\n0.25 0.6\\n0.25 0.6\\n0.25 0.6\\n0.25 0.56\\n0.25 0.56\\n0.25 0.56\\n0.25 0.56\\n0.25 0.56\\n0.25 0.51\\n0.25 0.51\\n0.25 0.52\\n0.25 0.52\\n0.25 0.52\\n0.25 0.48\\n0.25 0.48\\n0.25 0.48\\n0.25 0.47\\n0.25 0.47\\n0.25 0.47\\n0.25 0.47\\n0.25 0.47\\n0.25 0.47\\n0.25 0.44\\n0.25 0.44\\n0.25 0.44\\n0.25 0.44\\n0.25 0.43\\n0.25 0.43\\n0.25 0.43\\n0.25 0.4\\n0.25 0.4\\n0.25 0.39\\n0.25 0.39\\n0.25 0.39\\n0.25 0.4\\n0.25 0.4\\n0.25 0.4\\n0.25 0.4\\n0.25 0.4\\n0.25 0.4\\n0.25 0.37\\n0.25 0.37\\n0.25 0.37\\n0.25 0.35\\n0.25 0.35\\n0.25 0.35\\n0.25 0.34\\n0.25 0.34\\n0.25 0.34\\n0.25 0.33\\n0.25 0.33\\n0.25 0.33\\n0.25 0.3\\n0.25 0.3\\n0.25 0.3\\n0.25 0.3\\n0.25 0.29\\n0.25 0.29\\n0.25 0.29\\n0.25 0.28\\n0.25 0.28\\n0.25 0.28\\n0.25 0.28\\n0.25 0.26\\n0.25 0.26\\n0.25 0.25\\n0.25 0.25\\n0.25 0.25\\n0.25 0.23\\n0.25 0.23\\n0.25 0.23\\n0.25 0.23\\n0.25 0.22\\n0.25 0.22\\n0.25 0.22\\n0.25 0.22\\n0.25 0.21\\n0.25 0.21\\n0.25 0.21\\n0.25 0.18\\n0.25 0.18\\n0.25 0.18\\n0.25 0.18\\n0.25 0.17\\n0.25 0.17\\n0.25 0.17\\n0.25 0.16\\n0.25 0.16\\n0.25 0.16\\n0.25 0.16\\n0.25 0.1\\n0.25 0.1\\n0.25 0.1\\n0.25 0.1\\n0.25 0.1\\n0.25 0.08\\n0.25 0.08\\n0.25 0.08\\n0.25 0.08\\n0.25 0.07\\n0.25 0.07\\n0.25 0.07\\n0.25 0.08\\n0.25 0.08\\n0.25 0.08\\n0.25 0.08\\n0.25 0.08\\n0.25 0.08\\n0.25 0.08\\n0.25 0.07\\n0.25 0.07\\n0.25 0.07\\n0.25 0.07\\n0.25 0.02\\n0.25 0.02\\n0.25 0.02\\n0.25 0.02\\n0.25 0.02\\n0.25 0.02\\n0.25 0.02\\n0.25 0.02\\n0.25 -0.01\\n0.25 -0.01\\n0.25 -0.01\\n0.25 -0.01\\n0.25 -0.01\\n0.25 -0.01\\n0.25 -0.01\\n0.25 -0.05\\n0.25 -0.05\\n0.25 -0.05\\n0.25 -0.05\\n0.25 -0.05\\n0.25 -0.06\\n0.25 -0.06\\n0.25 -0.06\\n0.25 -0.06\\n0.25 -0.1\\n0.25 -0.1\\n0.25 -0.1\\n0.25 -0.1\\n0.25 -0.08\\n0.25 -0.08\\n0.25 -0.08\\n0.25 -0.08\\n0.25 -0.08\\n0.25 -0.08\\n0.25 -0.08\\n0.25 -0.08\\n0.25 -0.08\\n0.23 -0.08\\n0.23 -0.08\\n0.23 -0.08\\n0.23 -0.08\\n0.23 -0.08\\n0.25 -0.07\\n0.25 -0.07\\n0.25 -0.07\\n0.25 -0.06\\n0.25 -0.06\\n0.25 -0.06\\n0.25 -0.06\\n0.25 -0.1\\n0.25 -0.1\\n0.25 -0.1\\n0.23 -0.06\\n0.23 -0.06\\n0.23 -0.06\\n0.23 -0.06\\n0.25 -0.08\\n0.25 -0.08\\n0.25 -0.08\\n0.25 -0.06\\n0.25 -0.06\\n0.25 -0.06\\n0.25 -0.06\\n0.25 -0.05\\n0.25 -0.05\\n0.25 -0.05\\n0.25 -0.05\\n0.25 -0.05\\n0.25 -0.05\\n0.25 -0.05\\n0.25 -0.05\\n0.25 -0.05\\n0.25 -0.05\\n0.25 -0.05\\n0.15 0.27\\n0.15 0.27\\n0.15 0.27\\n0.15 0.27\\n0.15 0.27\\n0.23 0.42\\n0.23 0.42\\n0.23 0.42\\n0.22 0.36\\n0.22 0.36\\n0.22 0.36\\n0.22 0.36\\n0.22 0.59\\n0.22 0.59\\n0.25 0.71\\n0.25 0.71\\n0.25 0.71\\n0.25 0.71\\n0.25 0.65\\n0.25 0.65\\n0.25 0.65\\n0.25 0.65\\n0.25 0.65\\n0.25 0.65\\n0.25 0.62\\n0.25 0.62\\n0.25 0.62\\n0.25 0.62\\n0.25 0.62\\n0.25 0.61\\n0.25 0.61\\n0.25 0.61\\n0.25 0.59\\n0.25 0.59\\n0.25 0.59\\n0.25 0.59\\n0.25 0.55\\n0.25 0.55\\n0.25 0.55\\n0.25 0.49\\n0.25 0.49\\n0.25 0.49\\n0.25 0.49\\n0.25 0.5\\n0.25 0.5\\n0.25 0.5\\n0.25 0.5\\n0.25 0.5\\n0.25 0.51\\n0.25 0.51\\n0.25 0.51\\n0.25 0.42\\n0.25 0.42\\n0.25 0.42\\n0.25 0.38\\n0.25 0.38\\n0.25 0.38\\n0.25 0.38\\n0.25 0.38\\n0.25 0.42\\n0.25 0.42\\n0.25 0.42\\n0.25 0.42\\n0.25 0.4\\n0.25 0.4\\n0.25 0.4\\n0.25 0.39\\n0.25 0.39\\n0.25 0.39\\n0.25 0.39\\n0.25 0.32\\n0.25 0.32\\n0.25 0.32\\n0.25 0.3\\n0.25 0.3\\n0.25 0.3\\n0.25 0.3\\n0.25 0.3\\n0.25 0.28\\n0.25 0.28\\n0.25 0.28\\n0.25 0.22\\n0.25 0.22\\n0.25 0.22\\n0.25 0.22\\n0.25 0.21\\n0.25 0.21\\n0.25 0.21\\n0.25 0.21\\n0.25 0.16\\n0.25 0.16\\n0.25 0.16\\n0.25 0.15\\n0.25 0.15\\n0.25 0.15\\n0.25 0.18\\n0.25 0.18\\n0.25 0.18\\n0.25 0.18\\n0.25 0.1\\n0.25 0.1\\n0.25 0.1\\n0.25 0.1\\n0.25 0.11\\n0.25 0.11\\n0.25 0.01\\n0.25 0.01\\n0.25 0.01\\n0.25 0.01\\n0.25 -0.01\\n0.25 -0.01\\n0.25 -0.01\\n0.25 -0.01\\n0.25 -0.0\\n0.25 -0.0\\n0.25 -0.0\\n0.25 -0.04\\n0.25 -0.04\\n0.25 -0.04\\n0.25 -0.05\\n0.25 -0.05\\n0.25 -0.05\\n0.25 -0.05\\n0.25 -0.0\\n0.25 -0.0\\n0.25 -0.0\\n0.25 -0.0\\n0.25 -0.0\\n0.25 -0.08\\n0.25 -0.08\\n0.25 -0.08\\n0.25 -0.13\\n0.25 -0.13\\n0.25 -0.13\\n0.25 -0.12\\n0.25 -0.12\\n0.25 -0.12\\n0.25 -0.12\\n0.25 -0.12\\n0.25 -0.12\\n0.25 -0.09\\n0.25 -0.09\\n0.25 -0.09\\n0.25 -0.09\\n0.25 -0.15\\n0.25 -0.15\\n0.25 -0.14\\n0.25 -0.14\\n0.25 -0.14\\n0.25 -0.14\\n0.25 -0.14\\n0.25 -0.14\\n0.25 -0.14\\n0.25 -0.14\\n0.25 -0.14\\n0.25 -0.14\\n0.25 -0.18\\n0.25 -0.18\\n0.25 -0.18\\n0.25 -0.18\\n0.25 -0.18\\n0.25 -0.18\\n0.25 -0.15\\n0.25 -0.15\\n0.25 -0.15\\n0.25 -0.15\\n0.25 -0.15\\n0.25 -0.15\\n0.25 -0.15\\n0.25 -0.16\\n0.25 -0.16\\n0.25 -0.16\\n0.25 -0.16\\n0.25 -0.09\\n0.25 -0.09\\n0.25 -0.09\\n0.25 -0.09\\n0.25 -0.09\\n0.25 -0.09\\n0.25 -0.08\\n0.25 -0.1\\n0.25 -0.1\\n0.25 -0.1\\n0.25 -0.12\\n0.25 -0.12\\n0.25 -0.12\\n0.25 -0.12\\n0.25 -0.11\\n0.25 -0.11\\n0.25 -0.11\\n0.25 -0.12\\n0.25 -0.12\\n0.25 -0.12\\n0.25 -0.12\\n0.25 -0.08\\n0.25 -0.08\\n0.25 -0.08\\n0.25 -0.09\\n0.25 -0.09\\n0.25 -0.09\\n0.25 -0.05\\n0.25 -0.05\\n0.25 -0.05\\n0.25 -0.05\\n0.25 -0.01\\n0.25 -0.01\\n0.25 -0.01\\n0.25 -0.02\\n0.25 -0.02\\n0.25 -0.02\\n0.25 -0.02\\n0.25 -0.02\\n0.25 -0.04\\n0.25 -0.04\\n0.25 -0.04\\n0.25 -0.04\\n0.25 -0.04\\n0.25 0.0\\n0.25 0.0\\n0.25 0.0\\n0.25 -0.01\\n0.25 -0.01\\n0.25 -0.01\\n0.25 -0.01\\n0.25 -0.01\\n0.25 -0.01\\n0.14 0.26\\n0.14 0.26\\n0.14 0.26\\n0.14 0.26\\n0.14 0.28\\n0.14 0.28\\n0.14 0.28\\n0.14 0.28\\n0.13 0.3\\n0.13 0.3\\n0.13 0.3\\n0.13 0.3\\n0.14 0.51\\n0.14 0.51\\n0.14 0.51\\n0.14 0.51\\n0.14 0.51\\n0.13 0.62\\n0.13 0.62\\n0.13 0.62\\n-0.02 0.93\\n0.13 0.82\\n0.13 0.82\\n0.13 0.82\\n-0.15 0.2\\n0.1 0.93\\n0.1 0.93\\n0.13 0.86\\n0.13 0.86\\n0.13 0.86\\n0.15 0.8\\n0.15 0.8\\n0.15 0.8\\n0.15 0.86\\n0.15 0.86\\n0.15 0.86\\n0.15 0.86\\n0.14 0.82\\n0.14 0.82\\n0.14 0.82\\n0.14 0.82\\n0.25 1.15\\n0.25 1.15\\n0.25 1.15\\n0.25 1.14\\n0.25 1.14\\n0.25 1.14\\n0.25 0.97\\n0.25 0.97\\n0.25 0.97\\n0.25 0.97\\n0.14 0.56\\n0.14 0.56\\n0.14 0.56\\n0.14 0.56\\n0.13 0.63\\n0.13 0.63\\n0.13 0.63\\n0.25 0.93\\n0.25 0.93\\n0.25 0.93\\n0.25 0.93\\n0.24 0.72\\n0.24 0.72\\n0.24 0.72\\n0.24 0.72\\n0.24 0.72\\n0.19 0.53\\n0.19 0.53\\n0.19 0.53\\n0.22 0.65\\n0.22 0.65\\n0.22 0.65\\n0.22 0.65\\n0.24 0.71\\n0.24 0.71\\n0.24 0.71\\n0.24 0.71\\n0.21 0.72\\n0.21 0.72\\n0.21 0.72\\n0.21 0.72\\n0.24 0.86\\n0.24 0.86\\n0.24 0.86\\n0.24 0.86\\n0.24 0.86\\n0.23 0.92\\n0.23 0.92\\n0.23 0.92\\n0.25 1.06\\n0.25 1.06\\n0.25 1.06\\n0.25 0.96\\n0.25 0.96\\n0.25 0.96\\n0.15 0.61\\n0.15 0.61\\n0.15 0.61\\n0.15 0.61\\n0.15 0.61\\n0.1 0.92\\n0.1 0.92\\n0.1 0.92\\n0.1 0.92\\n0.13 0.66\\n0.13 0.66\\n0.13 0.66\\n0.14 0.46\\n0.14 0.46\\n0.14 0.46\\n0.14 0.46\\n0.24 0.73\\n0.24 0.73\\n0.24 0.73\\n0.24 0.73\\n0.24 0.72\\n0.24 0.72\\n0.24 0.72\\n0.14 0.3\\n0.14 0.3\\n0.14 0.3\\n0.14 0.3\\n0.14 0.27\\n0.14 0.27\\n0.14 0.27\\n0.18 0.42\\n0.18 0.42\\n0.18 0.42\\n0.17 0.43\\n0.17 0.43\\n0.17 0.43\\n0.17 0.43\\n0.17 0.43\\n0.19 0.6\\n0.19 0.6\\n0.19 0.6\\n0.19 0.6\\n0.19 0.6\\n0.19 0.27\\n0.19 0.27\\n0.19 0.27\\n0.17 0.33\\n0.17 0.33\\n0.17 0.33\\n0.17 0.23\\n0.17 0.23\\n0.17 0.23\\n0.15 0.29\\n0.15 0.29\\n0.17 0.22\\n0.17 0.22\\n0.17 0.22\\n0.17 0.16\\n0.17 0.16\\n0.17 0.16\\n0.17 0.16\\n0.17 0.17\\n0.17 0.17\\n0.17 0.17\\n0.17 0.17\\n0.15 0.16\\n0.15 0.16\\n0.15 0.16\\n0.15 0.16\\n0.21 0.2\\n0.21 0.2\\n0.21 0.2\\n0.21 0.2\\n0.25 0.01\\n0.25 0.01\\n0.25 0.01\\n0.25 0.02\\n0.25 0.02\\n0.25 0.02\\n0.25 0.02\\n0.25 -0.03\\n0.25 -0.03\\n0.25 -0.03\\n0.25 -0.03\\n0.25 0.02\\n0.25 0.02\\n0.25 0.02\\n0.25 0.02\\n0.25 -0.14\\n0.25 -0.14\\n0.25 -0.14\\n0.25 -0.18\\n0.25 -0.18\\n0.25 -0.18\\n0.25 -0.18\\n0.25 -0.17\\n0.25 -0.17\\n0.25 -0.17\\n0.25 -0.2\\n0.25 -0.2\\n0.25 -0.2\\n0.25 -0.2\\n0.25 -0.19\\n0.25 -0.19\\n0.25 -0.19\\n0.25 -0.19\\n0.25 -0.19\\n0.25 -0.19\\n0.25 -0.19\\n0.25 -0.19\\n0.25 -0.19\\n0.25 -0.19\\n0.25 -0.18\\n0.25 -0.18\\n0.25 -0.22\\n0.25 -0.22\\n0.25 -0.22\\n0.25 -0.22\\n0.25 -0.22\\n0.25 -0.21\\n0.25 -0.21\\n0.25 -0.21\\n0.25 -0.22\\n0.25 -0.22\\n0.25 -0.22\\n0.25 -0.22\\n0.25 -0.22\\n0.25 -0.22\\n0.25 -0.22\\n0.25 -0.22\\n0.25 -0.22\\n0.23 -0.22\\n0.23 -0.22\\n0.23 -0.22\\n0.22 -0.2\\n0.22 -0.2\\n0.22 -0.2\\n0.15 -0.37\\n0.15 -0.37\\n0.15 -0.37\\n0.15 -0.37\\n0.25 -0.23\\n0.25 -0.23\\n0.25 -0.23\\n0.16 -0.07\\n0.16 -0.07\\n0.16 -0.07\\n0.16 -0.07\\n0.0 0.0\\n0.25 -0.38\\n0.25 -0.38\\n0.25 -0.38\\n0.25 -0.38\\n0.24 -0.44\\n0.24 -0.44\\n0.24 -0.44\\n0.24 -0.44\\n0.24 -0.44\\n0.24 -0.44\\n0.22 -0.42\\n0.22 -0.42\\n0.22 -0.42\\n0.24 -0.4\\n0.24 -0.4\\n0.24 -0.4\\n0.24 -0.4\\n0.24 -0.49\\n0.24 -0.49\\n0.24 -0.49\\n0.25 -0.5\\n0.25 -0.5\\n0.25 -0.5\\n0.25 -0.5\\n0.22 -0.45\\n0.22 -0.45\\n0.22 -0.45\\n0.22 -0.45\\n0.24 -0.52\\n0.24 -0.52\\n0.24 -0.52\\n0.24 -0.52\\n0.24 -0.52\\n0.23 -0.53\\n0.23 -0.53\\n0.23 -0.53\\n0.15 -0.42\\n0.15 -0.42\\n0.15 -0.42\\n0.15 -0.42\\n0.0 0.0\\n0.25 -0.35\\n0.25 -0.35\\n0.25 -0.35\\n0.25 -0.4\\n0.25 -0.4\\n0.25 -0.4\\n0.25 -0.4\\n0.25 -0.4\\n0.25 -0.4\\n0.25 -0.4\\n0.25 -0.4\\n0.25 -0.4\\n0.25 -0.4\\n0.25 -0.4\\n0.25 -0.4\\n0.25 -0.4\\n0.25 -0.4\\n0.25 -0.4\\n0.25 -0.4\\n0.25 -0.39\\n0.25 -0.39\\n0.25 -0.38\\n0.25 -0.38\\n0.25 -0.38\\n0.25 -0.37\\n0.25 -0.37\\n0.25 -0.36\\n0.25 -0.36\\n0.25 -0.36\\n0.25 -0.36\\n0.25 -0.33\\n0.25 -0.33\\n0.25 -0.33\\n0.25 -0.33\\n0.25 -0.32\\n0.25 -0.32\\n0.25 -0.32\\n0.25 -0.32\\n0.25 -0.31\\n0.25 -0.31\\n0.25 -0.31\\n0.25 -0.31\\n0.25 -0.3\\n0.25 -0.3\\n0.25 -0.3\\n0.25 -0.29\\n0.25 -0.29\\n0.25 -0.29\\n0.25 -0.29\\n0.25 -0.28\\n0.25 -0.28\\n0.25 -0.28\\n0.25 -0.27\\n0.25 -0.27\\n0.25 -0.27\\n0.25 -0.26\\n0.25 -0.26\\n0.25 -0.26\\n0.25 -0.26\\n0.25 -0.25\\n0.25 -0.25\\n0.25 -0.25\\n0.25 -0.18\\n0.25 -0.18\\n0.25 -0.18\\n0.25 -0.18\\n0.25 -0.18\\n0.25 -0.18\\n0.25 -0.18\\n0.25 -0.17\\n0.25 -0.17\\n0.25 -0.16\\n0.25 -0.16\\n0.25 -0.16\\n0.25 -0.15\\n0.25 -0.15\\n0.25 -0.15\\n0.25 -0.15\\n0.25 -0.14\\n0.25 -0.14\\n0.25 -0.14\\n0.25 -0.14\\n0.25 -0.1\\n0.25 -0.1\\n0.25 -0.1\\n0.25 -0.09\\n0.25 -0.09\\n0.25 -0.09\\n0.25 -0.13\\n0.25 -0.13\\n0.25 -0.13\\n0.25 -0.13\\n0.25 -0.12\\n0.25 -0.12\\n0.25 -0.12\\n0.25 -0.12\\n0.25 -0.12\\n0.23 -0.08\\n0.23 -0.08\\n0.23 -0.08\\n0.23 -0.08\\n0.25 -0.07\\n0.25 -0.07\\n0.25 -0.07\\n0.25 -0.08\\n0.25 -0.08\\n0.25 -0.08\\n0.25 -0.07\\n0.25 -0.07\\n0.25 -0.07\\n0.25 -0.07\\n0.25 -0.07\\n0.25 -0.08\\n0.25 -0.08\\n0.25 -0.08\\n0.25 -0.08\\n0.25 -0.07\\n0.25 -0.07\\n0.25 -0.07\\n0.25 -0.07\\n0.25 -0.07\\n0.25 -0.07\\n0.25 -0.07\\n0.25 -0.07\\n0.25 -0.07\\n0.25 -0.07\\n0.25 -0.07\\n0.25 -0.06\\n0.25 -0.06\\n0.25 -0.06\\n0.25 -0.06\\n0.25 -0.04\\n0.25 -0.04\\n0.25 -0.04\\n0.25 -0.04\\n0.25 -0.05\\n0.25 -0.05\\n0.25 -0.05\\n0.25 -0.05\\n0.25 -0.05\\n0.25 -0.05\\n0.25 -0.05\\n0.25 -0.06\\n0.25 -0.06\\n0.25 -0.06\\n0.25 -0.06\\n0.25 -0.05\\n0.25 -0.05\\n0.25 -0.05\\n0.25 0.04\\n0.25 0.04\\n0.25 0.04\\n0.25 0.04\\n0.25 0.03\\n0.25 0.03\\n0.25 0.03\\n0.25 0.02\\n0.25 0.02\\n0.25 0.02\\n0.25 0.02\\n0.25 0.01\\n0.25 0.01\\n0.25 0.01\\n0.25 0.02\\n0.25 0.02\\n0.25 0.02\\n0.25 0.02\\n0.25 0.01\\n0.25 0.01\\n0.25 0.01\\n0.25 0.0\\n0.25 0.0\\n0.25 0.0\\n0.25 0.0\\n0.25 0.0\\n0.25 0.0\\n0.25 -0.01\\n0.25 -0.01\\n0.25 -0.01\\n0.25 -0.01\\n0.25 -0.02\\n0.25 -0.02\\n0.25 -0.02\\n0.25 -0.02\\n0.25 -0.02\\n0.25 -0.02\\n0.25 -0.02\\n0.25 -0.03\\n0.25 -0.03\\n0.25 -0.03\\n0.25 -0.03\\n0.23 -0.02\\n0.23 -0.02\\n0.23 -0.02\\n0.25 -0.03\\n0.25 -0.03\\n0.25 -0.03\\n0.25 -0.03\\n0.25 -0.07\\n0.25 -0.07\\n0.25 -0.08\\n0.25 -0.08\\n0.25 -0.08\\n0.25 -0.08\\n0.25 -0.13\\n0.25 -0.13\\n0.25 -0.13\\n0.25 -0.13\\n0.25 -0.13\\n0.25 -0.13\\n0.25 -0.18\\n0.25 -0.18\\n0.25 -0.18\\n0.25 -0.17\\n0.25 -0.17\\n0.25 -0.17\\n0.25 -0.17\\n0.25 -0.24\\n0.25 -0.24\\n0.25 -0.24\\n0.25 -0.22\\n0.25 -0.22\\n0.25 -0.22\\n0.25 -0.22\\n0.25 -0.23\\n0.25 -0.23\\n0.25 -0.23\\n0.25 -0.23\\n0.25 -0.23\\n0.25 -0.23\\n0.25 -0.23\\n0.25 -0.23\\n0.25 -0.2\\n0.25 -0.2\\n0.25 -0.2\\n0.25 -0.2\\n0.25 -0.21\\n0.25 -0.21\\n0.25 -0.21\\n0.25 -0.18\\n0.25 -0.18\\n0.25 -0.18\\n0.25 -0.18\\n0.25 -0.29\\n0.25 -0.29\\n0.25 -0.29\\n0.25 -0.29\\n0.25 -0.16\\n0.25 -0.16\\n0.25 -0.16\\n0.25 -0.28\\n0.25 -0.28\\n0.25 -0.28\\n0.25 -0.28\\n0.25 -0.28\\n0.25 -0.28\\n0.25 -0.28\\n0.25 -0.28\\n0.25 -0.24\\n0.25 -0.24\\n0.25 -0.24\\n0.25 -0.24\\n0.25 -0.31\\n0.25 -0.31\\n0.25 -0.31\\n0.25 -0.3\\n0.25 -0.3\\n0.25 -0.3\\n0.25 -0.3\\n0.25 -0.25\\n0.25 -0.25\\n0.25 -0.25\\n0.25 -0.24\\n0.25 -0.24\\n0.25 -0.24\\n0.25 -0.24\\n0.23 -0.22\\n0.23 -0.22\\n0.23 -0.22\\n0.2 -0.25\\n0.2 -0.25\\n0.2 -0.25\\n0.2 -0.25\\n0.2 -0.25\\n0.21 -0.19\\n0.21 -0.19\\n0.21 -0.19\\n0.2 -0.17\\n0.2 -0.17\\n0.2 -0.17\\n0.2 -0.17\\n0.16 -0.21\\n0.16 -0.21\\n0.16 -0.21\\n0.16 -0.21\\n0.16 -0.19\\n0.16 -0.19\\n0.16 -0.19\\n0.16 -0.19\\n0.15 -0.18\\n0.15 -0.18\\n0.15 -0.18\\n0.17 -0.16\\n0.17 -0.16\\n0.17 -0.16\\n0.17 -0.16\\n0.17 -0.16\\n0.17 -0.16\\n0.13 -0.19\\n0.13 -0.19\\n0.18 -0.16\\n0.18 -0.16\\n0.18 -0.16\\n0.14 -0.11\\n0.14 -0.11\\n0.22 -0.27\\n0.22 -0.27\\n0.22 -0.27\\n0.22 -0.27\\n0.21 -0.25\\n0.21 -0.25\\n0.21 -0.25\\n0.21 -0.25\\n0.23 -0.18\\n0.23 -0.18\\n0.23 -0.18\\n0.23 -0.18\\n0.18 -0.17\\n0.18 -0.17\\n0.18 -0.17\\n0.18 -0.17\\n0.16 -0.06\\n0.16 -0.06\\n0.16 -0.06\\n0.17 -0.14\\n0.17 -0.14\\n0.17 -0.14\\n0.17 -0.14\\n0.17 -0.14\\n0.17 -0.14\\n0.17 -0.14\\n0.17 -0.14\\n0.21 -0.46\\n0.21 -0.46\\n0.21 -0.46\\n0.21 -0.46\\n0.21 -0.48\\n0.21 -0.48\\n0.25 -0.59\\n0.25 -0.59\\n0.25 -0.59\\n0.25 -0.59\\n0.25 -0.59\\n0.24 -0.55\\n0.24 -0.55\\n0.24 -0.55\\n0.24 -0.55\\n0.24 -0.55\\n0.25 -0.57\\n0.25 -0.57\\n0.25 -0.6\\n0.25 -0.6\\n0.25 -0.6\\n0.25 -0.6\\n0.25 -0.6\\n0.25 -0.6\\n0.25 -0.58\\n0.25 -0.58\\n0.25 -0.58\\n0.25 -0.58\\n0.25 -0.54\\n0.25 -0.54\\n0.25 -0.54\\n0.25 -0.54\\n0.25 -0.52\\n0.25 -0.52\\n0.25 -0.52\\n0.25 -0.52\\n0.25 -0.52\\n0.25 -0.51\\n0.25 -0.51\\n0.25 -0.51\\n0.25 -0.51\\n0.25 -0.38\\n0.25 -0.38\\n0.25 -0.38\\n0.25 -0.45\\n0.25 -0.45\\n0.25 -0.45\\n0.25 -0.45\\n0.25 -0.45\\n0.25 -0.34\\n0.25 -0.34\\n0.25 -0.34\\n0.25 -0.34\\n0.25 -0.4\\n0.25 -0.4\\n0.25 -0.4\\n0.25 -0.39\\n0.25 -0.39\\n0.25 -0.39\\n0.25 -0.38\\n0.25 -0.38\\n0.25 -0.38\\n0.25 -0.38\\n0.25 -0.35\\n0.25 -0.35\\n0.25 -0.33\\n0.25 -0.33\\n0.25 -0.33\\n0.25 -0.33\\n0.25 -0.33\\n0.25 -0.31\\n0.25 -0.31\\n0.25 -0.31\\n0.25 -0.31\\n0.25 -0.3\\n0.25 -0.3\\n0.25 -0.3\\n0.25 -0.3\\n0.25 -0.28\\n0.25 -0.28\\n0.25 -0.26\\n0.25 -0.26\\n0.25 -0.26\\n0.25 -0.26\\n0.25 -0.26\\n0.25 -0.24\\n0.25 -0.24\\n0.25 -0.24\\n0.25 -0.24\\n0.25 -0.18\\n0.25 -0.18\\n0.25 -0.18\\n0.25 -0.15\\n0.25 -0.15\\n0.25 -0.15\\n0.25 -0.14\\n0.25 -0.14\\n0.25 -0.14\\n0.25 -0.14\\n0.25 -0.13\\n0.25 -0.13\\n0.25 -0.13\\n0.25 -0.13\\n0.25 -0.13\\n0.25 -0.13\\n0.25 -0.12\\n0.25 -0.12\\n0.25 -0.12\\n0.25 -0.12\\n0.25 -0.12\\n0.25 -0.13\\n0.25 -0.13\\n0.25 -0.13\\n0.25 -0.13\\n0.25 -0.15\\n0.25 -0.15\\n0.25 -0.15\\n0.25 -0.15\\n0.25 -0.11\\n0.25 -0.11\\n0.25 -0.11\\n0.25 -0.17\\n0.25 -0.17\\n0.25 -0.17\\n0.25 -0.16\\n0.25 -0.16\\n0.25 -0.16\\n0.25 -0.16\\n0.25 -0.16\\n0.25 -0.16\\n0.25 -0.16\\n0.25 -0.15\\n0.25 -0.15\\n0.25 -0.15\\n0.25 -0.15\\n0.25 -0.15\\n0.25 -0.15\\n0.25 -0.18\\n0.25 -0.18\\n0.25 -0.18\\n0.25 -0.18\\n0.25 -0.12\\n0.25 -0.12\\n0.25 -0.12\\n0.25 -0.16\\n0.25 -0.16\\n0.25 -0.16\\n0.25 -0.16\\n0.25 -0.16\\n0.25 -0.16\\n0.25 -0.16\\n0.25 -0.16\\n0.25 -0.16\\n0.25 -0.16\\n0.25 -0.15\\n0.25 -0.15\\n0.25 -0.15\\n0.25 -0.15\\n0.25 -0.15\\n0.25 -0.15\\n0.25 -0.15\\n0.25 -0.15\\n0.25 -0.15\\n0.25 -0.15\\n0.25 -0.15\\n0.14 -0.47\\n0.14 -0.47\\n0.14 -0.47\\n0.14 -0.47\\n0.14 -0.47\\n0.14 -0.38\\n0.14 -0.38\\n0.14 -0.38\\n0.14 -0.38\\n0.14 -0.6\\n0.14 -0.6\\n0.14 -0.6\\n0.13 -0.7\\n0.13 -0.7\\n0.13 -0.7\\n0.13 -0.7\\n0.08 -1.35\\n0.08 -1.35\\n0.08 -1.35\\n0.08 -1.35\\n0.0 -1.3\\n0.0 -1.3\\n0.0 -1.3\\n0.05 -1.36\\n0.05 -1.36\\n0.05 -1.36\\n0.06 -1.31\\n0.06 -1.31\\n0.06 -1.31\\n0.06 -1.31\\n0.05 -1.25\\n0.05 -1.25\\n0.05 -1.25\\n0.0 -1.0\\n0.0 -1.0\\n0.0 -1.0\\n0.0 -0.96\\n0.0 -0.96\\n0.0 -0.96\\n0.0 -0.91\\n0.0 -0.91\\n0.0 -0.91\\n0.0 -0.91\\n0.02 -0.9\\n0.02 -0.9\\n0.02 -0.9\\n0.02 -0.9\\n0.02 -0.9\\n0.06 -0.91\\n0.06 -0.91\\n0.06 -0.91\\n0.06 -0.91\\n0.04 -0.9\\n0.04 -0.9\\n0.02 -0.91\\n0.02 -0.91\\n0.02 -0.91\\n0.02 -0.91\\n-0.1 -0.94\\n0.14 0.11\\n0.14 0.11\\n0.14 0.11\\n-0.14 0.15\\n0.13 -0.16\\n0.13 -0.16\\n0.13 -0.16\\n0.13 -0.16\\n0.14 -0.2\\n0.14 -0.2\\n0.14 -0.2\\n0.14 -0.2\\n0.16 -0.01\\n0.16 -0.01\\n0.16 -0.01\\n0.16 -0.01\\n0.14 -0.26\\n0.14 -0.26\\n0.14 -0.26\\n0.14 -0.26\\n0.14 -0.24\\n0.14 -0.24\\n0.14 -0.24\\n0.14 -0.21\\n0.14 -0.21\\n0.14 -0.21\\n0.14 -0.21\\n0.14 -0.21\\n0.0 -0.98\\n0.0 -0.98\\n0.0 -0.98\\n0.0 -0.98\\n-0.03 -1.03\\n-0.0 -1.0\\n-0.0 -1.0\\n-0.0 -1.0\\n-0.01 -0.95\\n0.09 -1.27\\n0.09 -1.27\\n0.1 -1.05\\n0.1 -1.05\\n0.1 -1.05\\n0.1 -1.05\\n-0.01 -1.41\\n-0.0 -1.38\\n-0.0 -1.38\\n-0.01 -1.38\\n-0.0 -1.27\\n-0.0 -1.27\\n-0.0 -1.27\\n-0.0 -1.55\\n-0.0 -1.55\\n-0.0 -1.55\\n0.0 -1.74\\n0.0 -1.74\\n0.0 -1.74\\n0.0 -1.76\\n0.0 -1.76\\n0.0 -1.76\\n0.0 -1.76\\n0.0 -1.76\\n0.02 -1.73\\n0.02 -1.73\\n0.02 -1.73\\n0.02 -1.73\\n0.02 -1.73\\n-0.04 -1.53\\n0.03 -1.58\\n0.03 -1.58\\n0.03 -1.58\\n0.03 -1.52\\n0.03 -1.52\\n0.03 -1.52\\n0.03 -1.52\\n0.03 -1.32\\n0.03 -1.32\\n0.03 -1.32\\n0.01 -1.36\\n0.01 -1.36\\n0.01 -1.36\\n0.04 -1.22\\n0.04 -1.22\\n0.04 -1.22\\n0.03 -1.28\\n0.03 -1.28\\n0.03 -1.28\\n0.03 -1.28\\n0.03 -1.28\\n0.01 -1.17\\n0.01 -1.17\\n0.01 -1.17\\n0.03 -1.04\\n0.03 -1.04\\n0.03 -1.04\\n0.03 -1.04\\n0.01 -1.04\\n0.01 -1.04\\n0.01 -1.04\\n0.01 -1.04\\n0.03 -0.92\\n0.03 -0.92\\n0.03 -0.92\\n0.03 -0.92\\n0.01 -0.94\\n0.01 -0.94\\n0.01 -0.94\\n0.01 -0.94\\n0.01 -0.91\\n0.01 -0.91\\n0.01 -0.91\\n0.03 -0.94\\n0.03 -0.94\\n0.03 -0.94\\n0.03 -0.94\\n0.03 -0.97\\n0.03 -0.97\\n0.03 -0.97\\n0.03 -0.97\\n0.03 -0.97\\n0.04 -0.95\\n0.04 -0.95\\n0.04 -0.91\\n0.04 -0.91\\n0.04 -0.91\\n0.04 -0.96\\n0.04 -0.96\\n0.04 -0.96\\n0.04 -0.96\\n0.04 -0.92\\n0.04 -0.92\\n0.04 -0.92\\n0.04 -0.92\\n0.04 -0.92\\n0.04 -0.95\\n0.04 -0.95\\n0.04 -0.95\\n0.04 -0.92\\n0.04 -0.92\\n0.04 -0.91\\n0.04 -0.91\\n0.04 -0.91\\n0.02 -0.93\\n0.02 -0.93\\n0.02 -0.93\\n-0.01 -0.92\\n0.13 -0.15\\n0.13 -0.15\\n0.13 -0.15\\n0.13 -0.15\\n0.15 0.0\\n0.15 0.0\\n0.15 0.0\\n0.15 0.0\\n0.15 0.0\\n0.15 0.0\\n0.15 0.0\\n0.25 0.03\\n0.25 0.03\\n0.25 0.03\\n0.25 0.03\\n0.25 0.04\\n0.25 0.04\\n0.25 0.04\\n0.25 0.04\\n0.25 0.06\\n0.25 0.06\\n0.25 0.06\\n0.24 0.04\\n0.24 0.04\\n0.24 0.04\\n0.24 0.04\\n0.25 0.0\\n0.25 0.0\\n0.25 0.0\\n0.25 0.0\\n0.25 0.0\\n0.25 0.0\\n0.25 0.0\\n0.25 0.0\\n0.23 0.0\\n0.23 0.0\\n0.23 0.0\\n0.23 0.0\\n0.2 0.04\\n0.2 0.04\\n0.2 0.04\\n0.2 0.06\\n0.2 0.06\\n0.2 0.06\\n0.14 -0.03\\n0.14 -0.03\\n0.24 0.37\\n0.24 0.37\\n0.24 0.37\\n0.24 0.37\\n0.24 0.37\\n0.23 0.24\\n0.23 0.24\\n0.23 0.24\\n0.23 0.24\\n0.25 0.37\\n0.25 0.37\\n0.25 0.37\\n0.24 0.35\\n0.24 0.35\\n0.25 0.36\\n0.25 0.36\\n0.25 0.36\\n0.25 0.36\\n0.25 0.36\\n0.25 0.35\\n0.25 0.35\\n0.25 0.35\\n0.23 0.32\\n0.23 0.32\\n0.23 0.32\\n0.23 0.32\\n0.25 0.31\\n0.25 0.31\\n0.25 0.31\\n0.25 0.3\\n0.25 0.3\\n0.25 0.3\\n0.25 0.3\\n0.25 0.3\\n0.14 0.28\\n0.14 0.28\\n0.14 0.28\\n0.14 0.28\\n0.18 0.27\\n0.18 0.27\\n0.18 0.27\\n0.18 0.27\\n0.2 0.26\\n0.2 0.26\\n0.2 0.26\\n0.2 0.26\\n0.2 0.25\\n0.2 0.25\\n0.2 0.25\\n0.2 0.25\\n0.18 0.24\\n0.18 0.24\\n0.18 0.24\\n0.18 0.24\\n0.17 0.23\\n0.17 0.23\\n0.14 0.2\\n0.14 0.2\\n0.14 0.2\\n0.14 0.2\\n0.17 0.21\\n0.17 0.21\\n0.17 0.21\\n0.17 0.21\\n0.15 0.18\\n0.15 0.18\\n0.15 0.18\\n0.15 0.18\\n0.15 0.18\\n0.15 0.18\\n0.15 0.18\\n0.15 0.5\\n0.15 0.5\\n0.15 0.5\\n0.24 0.8\\n0.24 0.8\\n0.24 0.8\\n0.24 0.8\\n0.25 0.83\\n0.25 0.83\\n0.25 0.83\\n0.25 0.78\\n0.25 0.78\\n0.25 0.78\\n0.25 0.78\\n0.25 0.76\\n0.25 0.76\\n0.25 0.76\\n0.25 0.76\\n0.25 0.72\\n0.25 0.72\\n0.25 0.72\\n0.25 0.72\\n0.25 0.72\\n0.25 0.72\\n0.25 0.73\\n0.25 0.73\\n0.25 0.71\\n0.25 0.71\\n0.25 0.71\\n0.25 0.67\\n0.25 0.67\\n0.25 0.67\\n0.25 0.67\\n0.25 0.63\\n0.25 0.63\\n0.25 0.63\\n0.23 0.6\\n0.23 0.6\\n0.23 0.6\\n0.22 0.56\\n0.22 0.56\\n0.22 0.56\\n0.25 0.6\\n0.25 0.6\\n0.25 0.6\\n0.25 0.6\\n0.25 0.56\\n0.25 0.56\\n0.25 0.56\\n0.23 0.52\\n0.23 0.52\\n0.23 0.52\\n0.23 0.52\\n0.23 0.52\\n0.23 0.52\\n0.23 0.52\\n0.23 0.52\\n0.22 0.47\\n0.22 0.47\\n0.22 0.47\\n0.2 0.44\\n0.2 0.44\\n0.2 0.44\\n0.2 0.44\\n0.2 0.44\\n0.14 0.36\\n0.14 0.36\\n0.14 0.36\\n0.18 0.37\\n0.18 0.37\\n0.18 0.37\\n0.19 0.35\\n0.19 0.35\\n0.19 0.35\\n0.19 0.35\\n0.19 0.36\\n0.19 0.36\\n0.19 0.36\\n0.18 0.32\\n0.18 0.32\\n0.18 0.32\\n0.17 0.31\\n0.17 0.31\\n0.17 0.31\\n0.19 0.3\\n0.19 0.3\\n0.19 0.3\\n0.17 0.28\\n0.17 0.28\\n0.17 0.28\\n0.17 0.28\\n0.17 0.28\\n0.14 0.23\\n0.14 0.23\\n0.14 0.23\\n0.17 0.26\\n0.17 0.26\\n0.17 0.26\\n0.17 0.24\\n0.17 0.24\\n0.17 0.24\\n0.15 0.23\\n0.15 0.23\\n0.15 0.23\\n0.15 0.2\\n0.15 0.2\\n0.15 0.2\\n0.14 0.21\\n0.14 0.21\\n0.14 0.21\\n0.14 0.21\\n0.14 0.2\\n0.14 0.2\\n0.14 0.2\\n0.14 0.2\\n0.14 0.19\\n0.14 0.19\\n0.14 0.19\\n0.14 0.19\\n0.14 0.18\\n0.14 0.18\\n0.14 0.18\\n0.14 0.18\\n0.14 0.18\\n0.14 0.35\\n0.14 0.35\\n0.14 0.35\\n0.14 0.35\\n0.14 0.16\\n0.14 0.16\\n0.14 0.16\\n0.14 0.19\\n0.14 0.19\\n0.14 0.19\\n0.14 0.19\\n0.14 0.19\\n0.14 0.19\\n0.25 -0.04\\n0.25 -0.04\\n0.25 -0.04\\n0.25 -0.04\\n0.25 -0.04\\n0.25 -0.04\\n0.25 -0.04\\n0.25 -0.04\\n0.25 -0.04\\n0.25 -0.04\\n0.25 -0.05\\n0.25 -0.05\\n0.25 -0.05\\n0.25 -0.05\\n0.25 -0.02\\n0.25 -0.02\\n0.25 -0.02\\n0.25 -0.02\\n0.25 -0.02\\n0.25 -0.02\\n0.25 -0.02\\n0.25 -0.01\\n0.25 -0.01\\n0.25 -0.01\\n0.25 -0.01\\n0.25 -0.01\\n0.25 -0.01\\n0.25 -0.01\\n0.25 -0.01\\n0.25 -0.01\\n0.25 -0.01\\n0.25 -0.01\\n0.25 -0.01\\n0.25 0.0\\n0.25 0.0\\n0.25 0.0\\n0.25 0.04\\n0.25 0.04\\n0.25 0.04\\n0.25 0.04\\n0.25 0.04\\n0.25 0.03\\n0.25 0.03\\n0.25 0.03\\n0.25 0.09\\n0.25 0.09\\n0.25 0.09\\n0.25 0.09\\n0.25 0.09\\n0.25 0.08\\n0.25 0.08\\n0.25 0.08\\n0.25 0.08\\n0.25 0.08\\n0.25 0.08\\n0.25 0.08\\n0.25 0.08\\n0.25 0.08\\n0.25 0.12\\n0.25 0.12\\n0.25 0.12\\n0.25 0.12\\n0.25 0.12\\n0.25 0.11\\n0.25 0.11\\n0.25 0.11\\n0.25 0.09\\n0.25 0.09\\n0.25 0.09\\n0.25 0.14\\n0.25 0.14\\n0.25 0.14\\n0.25 0.14\\n0.25 0.12\\n0.25 0.12\\n0.25 0.12\\n0.25 0.12\\n0.25 0.11\\n0.25 0.11\\n0.25 0.11\\n0.25 0.11\\n0.25 0.12\\n0.25 0.12\\n0.25 0.12\\n0.25 0.12\\n0.25 0.14\\n0.25 0.14\\n0.25 0.14\\n0.25 0.09\\n0.25 0.09\\n0.25 0.09\\n0.25 0.09\\n0.25 0.08\\n0.25 0.08\\n0.25 0.08\\n0.25 0.08\\n0.25 0.07\\n0.25 0.07\\n0.25 0.07\\n0.25 0.06\\n0.25 0.06\\n0.25 0.07\\n0.25 0.07\\n0.25 0.07\\n0.25 0.14\\n0.25 0.14\\n0.25 0.07\\n0.25 0.07\\n0.25 0.07\\n0.25 0.07\\n0.25 0.1\\n0.25 0.1\\n0.25 0.1\\n0.25 0.1\\n0.25 0.1\\n0.25 0.1\\n0.25 0.1\\n0.25 0.09\\n0.25 0.09\\n0.25 0.09\\n0.25 0.08\\n0.25 0.08\\n0.25 0.08\\n0.25 0.05\\n0.25 0.05\\n0.25 0.05\\n0.25 0.02\\n0.25 0.02\\n0.25 0.02\\n0.25 0.02\\n0.25 0.03\\n0.25 0.03\\n0.25 0.03\\n0.25 0.03\\n0.25 0.02\\n0.25 0.02\\n0.25 0.02\\n0.25 0.02\\n0.25 0.02\\n0.25 0.02\\n0.25 0.02\\n0.25 0.02\\n0.25 0.02\\n0.25 0.02\\n0.25 0.02\\n0.25 0.02\\n0.25 0.02\\n0.25 0.02\\n0.25 0.02\\n0.25 -0.04\\n0.25 -0.04\\n0.25 -0.04\\n0.25 -0.05\\n0.25 -0.05\\n0.25 -0.05\\n0.25 -0.05\\n0.25 -0.05\\n0.25 -0.05\\n0.25 -0.05\\n0.25 -0.05\\n0.25 -0.05\\n0.25 -0.06\\n0.25 -0.06\\n0.25 -0.06\\n0.25 -0.1\\n0.25 -0.1\\n0.25 -0.1\\n0.25 -0.1\\n0.25 -0.11\\n0.25 -0.11\\n0.25 -0.11\\n0.25 -0.11\\n0.25 -0.15\\n0.25 -0.15\\n0.25 -0.1\\n0.25 -0.1\\n0.25 -0.1\\n0.25 -0.1\\n0.25 -0.1\\n0.25 -0.1\\n0.25 -0.15\\n0.25 -0.15\\n0.25 -0.15\\n0.25 -0.15\\n0.25 -0.16\\n0.25 -0.16\\n0.25 -0.16\\n0.25 -0.16\\n0.25 -0.15\\n0.25 -0.15\\n0.25 -0.15\\n0.25 -0.19\\n0.25 -0.19\\n0.25 -0.19\\n0.25 -0.16\\n0.25 -0.16\\n0.25 -0.16\\n0.25 -0.16\\n0.25 -0.2\\n0.25 -0.2\\n0.25 -0.2\\n0.25 -0.19\\n0.25 -0.19\\n0.25 -0.19\\n0.25 -0.21\\n0.25 -0.21\\n0.25 -0.21\\n0.25 -0.21\\n0.25 -0.21\\n0.25 -0.21\\n0.25 -0.1\\n0.25 -0.1\\n0.25 -0.1\\n0.25 -0.1\\n0.25 -0.15\\n0.25 -0.15\\n0.25 -0.15\\n0.25 -0.15\\n0.25 -0.15\\n0.25 -0.11\\n0.25 -0.11\\n0.25 -0.11\\n0.25 -0.1\\n0.25 -0.1\\n0.25 -0.1\\n0.25 -0.1\\n0.25 -0.1\\n0.25 -0.11\\n0.25 -0.11\\n0.25 -0.11\\n0.25 -0.17\\n0.25 -0.17\\n0.25 -0.17\\n0.25 -0.17\\n0.25 -0.17\\n0.25 -0.11\\n0.25 -0.11\\n0.25 -0.11\\n0.25 -0.11\\n0.25 -0.1\\n0.25 -0.1\\n0.25 -0.1\\n0.25 -0.1\\n0.25 -0.1\\n0.25 -0.1\\n0.25 -0.1\\n0.23 -0.42\\n0.23 -0.42\\n0.23 -0.42\\n0.23 -0.42\\n0.25 -0.5\\n0.25 -0.5\\n0.25 -0.5\\n0.25 -0.53\\n0.25 -0.53\\n0.25 -0.53\\n0.25 -0.56\\n0.25 -0.56\\n0.25 -0.56\\n0.25 -0.56\\n0.25 -0.58\\n0.25 -0.58\\n0.25 -0.58\\n0.25 -0.58\\n0.25 -0.58\\n0.25 -0.58\\n0.25 -0.58\\n0.25 -0.52\\n0.25 -0.52\\n0.25 -0.49\\n0.25 -0.49\\n0.25 -0.49\\n0.25 -0.49\\n0.25 -0.49\\n0.25 -0.48\\n0.25 -0.48\\n0.25 -0.48\\n0.25 -0.48\\n0.25 -0.47\\n0.25 -0.47\\n0.25 -0.47\\n0.25 -0.46\\n0.25 -0.46\\n0.25 -0.46\\n0.25 -0.46\\n0.25 -0.46\\n0.25 -0.39\\n0.25 -0.39\\n0.25 -0.39\\n0.25 -0.39\\n0.25 -0.39\\n0.25 -0.39\\n0.25 -0.39\\n0.25 -0.39\\n0.25 -0.39\\n0.25 -0.39\\n0.25 -0.39\\n0.25 -0.39\\n0.25 -0.33\\n0.25 -0.33\\n0.25 -0.33\\n0.25 -0.32\\n0.25 -0.32\\n0.25 -0.32\\n0.25 -0.31\\n0.25 -0.31\\n0.25 -0.31\\n0.25 -0.31\\n0.25 -0.25\\n0.25 -0.25\\n0.25 -0.25\\n0.25 -0.25\\n0.25 -0.25\\n0.25 -0.24\\n0.25 -0.24\\n0.25 -0.24\\n0.25 -0.26\\n0.25 -0.26\\n0.25 -0.26\\n0.25 -0.26\\n0.25 -0.15\\n0.25 -0.15\\n0.25 -0.15\\n0.25 -0.25\\n0.25 -0.25\\n0.25 -0.25\\n0.23 -0.13\\n0.23 -0.13\\n0.23 -0.13\\n0.25 -0.04\\n0.25 -0.04\\n0.25 -0.04\\n0.25 -0.04\\n0.25 -0.04\\n0.25 -0.07\\n0.25 -0.07\\n0.25 -0.07\\n0.25 0.01\\n0.25 0.01\\n0.25 0.01\\n0.25 0.01\\n0.25 -0.02\\n0.25 -0.02\\n0.25 -0.02\\n0.25 -0.02\\n0.25 0.08\\n0.25 0.08\\n0.25 0.08\\n0.25 0.0\\n0.25 0.0\\n0.25 0.0\\n0.25 0.0\\n0.25 0.04\\n0.25 0.04\\n0.25 0.04\\n0.25 0.04\\n0.25 0.08\\n0.25 0.08\\n0.25 0.08\\n0.25 0.0\\n0.25 0.0\\n0.25 0.0\\n0.25 0.11\\n0.25 0.11\\n0.25 0.11\\n0.25 0.11\\n0.25 0.09\\n0.25 0.09\\n0.25 0.09\\n0.25 0.1\\n0.25 0.1\\n0.25 0.1\\n0.25 0.16\\n0.25 0.16\\n0.25 0.16\\n0.25 0.16\\n0.25 0.15\\n0.25 0.15\\n0.25 0.15\\n0.25 0.11\\n0.25 0.11\\n0.25 0.15\\n0.25 0.15\\n0.25 0.15\\n0.25 0.15\\n0.25 0.11\\n0.25 0.11\\n0.25 0.11\\n0.25 0.11\\n0.25 0.09\\n0.25 0.09\\n0.25 0.09\\n0.25 0.09\\n0.25 0.09\\n0.25 0.04\\n0.25 0.04\\n0.25 0.04\\n0.25 0.04\\n0.25 0.06\\n0.25 0.06\\n0.25 0.06\\n0.25 0.06\\n0.25 0.06\\n0.25 0.05\\n0.25 0.05\\n0.25 0.05\\n0.25 0.05\\n0.25 0.11\\n0.25 0.11\\n0.25 0.11\\n0.25 0.05\\n0.25 0.05\\n0.25 0.05\\n0.25 0.05\\n0.25 0.08\\n0.25 0.08\\n0.25 0.08\\n0.25 0.08\\n0.25 0.03\\n0.25 0.03\\n0.25 0.03\\n0.25 0.12\\n0.25 0.12\\n0.25 0.12\\n0.25 0.06\\n0.25 0.06\\n0.25 0.06\\n0.25 0.06\\n0.25 0.0\\n0.25 0.0\\n0.25 0.0\\n0.25 -0.04\\n0.25 -0.04\\n0.25 -0.04\\n0.25 -0.04\\n0.25 -0.04\\n0.25 -0.06\\n0.25 -0.06\\n0.25 -0.06\\n0.25 -0.06\\n0.25 -0.07\\n0.25 -0.07\\n0.25 -0.07\\n0.25 -0.07\\n0.25 -0.04\\n0.25 -0.04\\n0.25 -0.04\\n0.25 -0.08\\n0.25 -0.08\\n0.25 -0.08\\n0.25 0.01\\n0.25 0.01\\n0.25 0.01\\n0.25 0.01\\n0.25 -0.04\\n0.25 -0.04\\n0.25 -0.04\\n0.25 -0.09\\n0.25 -0.09\\n0.25 -0.09\\n0.25 -0.11\\n0.25 -0.11\\n0.25 -0.11\\n0.25 -0.02\\n0.25 -0.02\\n0.25 -0.06\\n0.25 -0.06\\n0.25 -0.06\\n0.25 -0.06\\n0.25 -0.07\\n0.25 -0.07\\n0.25 -0.07\\n0.25 -0.05\\n0.25 -0.05\\n0.25 -0.05\\n0.25 -0.02\\n0.25 -0.02\\n0.25 -0.02\\n0.25 -0.02\\n0.25 -0.06\\n0.25 -0.06\\n0.25 -0.06\\n0.25 -0.06\\n0.25 -0.06\\n0.25 -0.06\\n0.25 -0.06\\n0.25 -0.15\\n0.25 -0.15\\n0.25 -0.15\\n0.25 -0.27\\n0.25 -0.27\\n0.25 -0.27\\n0.25 -0.26\\n0.25 -0.26\\n0.25 -0.26\\n0.25 -0.26\\n0.25 -0.27\\n0.25 -0.27\\n0.25 -0.27\\n0.25 -0.25\\n0.25 -0.25\\n0.25 -0.25\\n0.25 -0.25\\n0.25 -0.21\\n0.25 -0.21\\n0.25 -0.21\\n0.25 -0.21\\n0.25 -0.2\\n0.25 -0.2\\n0.25 -0.2\\n0.25 -0.2\\n0.23 -0.19\\n0.23 -0.19\\n0.23 -0.19\\n0.22 -0.17\\n0.22 -0.17\\n0.22 -0.17\\n0.21 -0.19\\n0.21 -0.19\\n0.21 -0.19\\n0.21 -0.19\\n0.21 -0.19\\n0.2 -0.16\\n0.2 -0.16\\n0.2 -0.16\\n0.2 -0.16\\n0.2 -0.16\\n0.18 -0.15\\n0.18 -0.15\\n0.17 -0.08\\n0.17 -0.08\\n0.17 -0.08\\n0.17 -0.08\\n0.17 -0.07\\n0.17 -0.07\\n0.17 -0.07\\n0.17 -0.07\\n0.25 -0.23\\n0.25 -0.23\\n0.25 -0.23\\n0.25 -0.23\\n0.24 -0.16\\n0.24 -0.16\\n0.24 -0.16\\n0.25 -0.22\\n0.25 -0.22\\n0.25 -0.22\\n0.25 -0.24\\n0.25 -0.24\\n0.25 -0.24\\n0.25 -0.23\\n0.25 -0.23\\n0.25 -0.23\\n0.25 -0.22\\n0.25 -0.22\\n0.25 -0.22\\n0.25 -0.22\\n0.25 -0.22\\n0.25 -0.22\\n0.25 -0.19\\n0.25 -0.19\\n0.25 -0.19\\n0.25 -0.18\\n0.25 -0.18\\n0.25 -0.18\\n0.25 -0.18\\n0.25 -0.24\\n0.25 -0.24\\n0.25 -0.24\\n0.25 -0.24\\n0.25 -0.24\\n0.25 -0.24\\n0.25 -0.24\\n0.25 -0.24\\n0.25 -0.24\\n0.25 -0.27\\n0.25 -0.27\\n0.25 -0.27\\n0.25 -0.25\\n0.25 -0.25\\n0.25 -0.25\\n0.25 -0.25\\n0.25 -0.25\\n0.25 -0.24\\n0.25 -0.24\\n0.25 -0.24\\n0.25 -0.24\\n0.25 -0.22\\n0.25 -0.22\\n0.25 -0.22\\n0.25 -0.22\\n0.25 -0.22\\n0.25 -0.22\\n0.25 -0.21\\n0.25 -0.21\\n0.25 -0.21\\n0.25 -0.2\\n0.25 -0.2\\n0.25 -0.2\\n0.25 -0.2\\n0.25 -0.26\\n0.25 -0.26\\n0.25 -0.26\\n0.25 -0.25\\n0.25 -0.25\\n0.25 -0.25\\n0.25 -0.25\\n0.25 -0.2\\n0.25 -0.2\\n0.25 -0.2\\n0.25 -0.23\\n0.25 -0.23\\n0.25 -0.23\\n0.25 -0.22\\n0.25 -0.22\\n0.25 -0.22\\n0.25 -0.22\\n0.25 -0.24\\n0.25 -0.24\\n0.25 -0.24\\n0.25 -0.24\\n0.25 -0.25\\n0.25 -0.25\\n0.25 -0.25\\n0.25 -0.26\\n0.25 -0.26\\n0.25 -0.26\\n0.25 -0.23\\n0.25 -0.23\\n0.25 -0.23\\n0.25 -0.23\\n0.25 -0.29\\n0.25 -0.29\\n0.25 -0.29\\n0.25 -0.29\\n0.25 -0.31\\n0.25 -0.31\\n0.25 -0.31\\n0.25 -0.31\\n0.25 -0.27\\n0.25 -0.27\\n0.25 -0.27\\n0.25 -0.31\\n0.25 -0.31\\n0.25 -0.31\\n0.25 -0.31\\n0.25 -0.31\\n0.25 -0.23\\n0.25 -0.23\\n0.25 -0.32\\n0.25 -0.32\\n0.25 -0.32\\n0.25 -0.32\\n0.25 -0.32\\n0.25 -0.18\\n0.25 -0.18\\n0.25 -0.35\\n0.25 -0.35\\n0.25 -0.35\\n0.25 -0.33\\n0.25 -0.33\\n0.25 -0.33\\n0.25 -0.34\\n0.25 -0.34\\n0.25 -0.34\\n0.25 -0.23\\n0.25 -0.23\\n0.25 -0.23\\n0.25 -0.23\\n0.25 -0.23\\n0.25 -0.3\\n0.25 -0.3\\n0.25 -0.3\\n0.25 -0.35\\n0.25 -0.35\\n0.25 -0.35\\n0.25 -0.35\\n0.25 -0.36\\n0.25 -0.36\\n0.25 -0.37\\n0.25 -0.37\\n0.25 -0.37\\n0.25 -0.37\\n0.25 -0.31\\n0.25 -0.31\\n0.25 -0.31\\n0.25 -0.3\\n0.25 -0.3\\n0.25 -0.3\\n0.25 -0.36\\n0.25 -0.36\\n0.25 -0.36\\n0.25 -0.36\\n0.25 -0.33\\n0.25 -0.33\\n0.25 -0.34\\n0.25 -0.34\\n0.25 -0.34\\n0.25 -0.34\\n0.25 -0.33\\n0.25 -0.33\\n0.25 -0.33\\n0.25 -0.33\\n0.25 -0.32\\n0.25 -0.32\\n0.25 -0.32\\n0.25 -0.32\\n0.25 -0.28\\n0.25 -0.28\\n0.25 -0.28\\n0.25 -0.28\\n0.25 -0.28\\n0.25 -0.27\\n0.25 -0.27\\n0.25 -0.27\\n0.25 -0.26\\n0.25 -0.26\\n0.25 -0.26\\n0.25 -0.26\\n0.25 -0.2\\n0.25 -0.2\\n0.25 -0.2\\n0.25 -0.2\\n0.25 -0.18\\n0.25 -0.18\\n0.25 -0.18\\n0.25 -0.18\\n0.25 -0.19\\n0.25 -0.19\\n0.25 -0.19\\n0.25 -0.21\\n0.25 -0.21\\n0.25 -0.21\\n0.25 -0.21\\n0.25 -0.21\\n0.25 -0.21\\n0.25 -0.21\\n0.25 -0.21\\n0.25 -0.22\\n0.25 -0.22\\n0.25 -0.22\\n0.25 -0.22\\n0.25 -0.22\\n0.25 -0.26\\n0.25 -0.26\\n0.25 -0.26\\n0.25 -0.22\\n0.25 -0.22\\n0.25 -0.22\\n0.25 -0.22\\n0.25 -0.21\\n0.25 -0.21\\n0.25 -0.21\\n0.25 -0.22\\n0.25 -0.22\\n0.25 -0.22\\n0.25 -0.22\\n0.25 -0.22\\n0.25 -0.21\\n0.25 -0.21\\n0.25 -0.21\\n0.25 -0.21\\n0.25 -0.21\\n0.25 -0.21\\n0.25 -0.21\\n0.25 -0.21\\n0.25 -0.21\\n0.25 -0.21\\n0.25 -0.21\\n0.23 -0.2\\n0.23 -0.2\\n0.22 -0.18\\n0.22 -0.18\\n0.22 -0.18\\n0.21 -0.17\\n0.21 -0.17\\n0.21 -0.17\\n0.2 -0.17\\n0.2 -0.17\\n0.2 -0.17\\n0.2 -0.17\\n0.19 -0.16\\n0.19 -0.16\\n0.19 -0.16\\n0.18 -0.15\\n0.18 -0.15\\n0.18 -0.15\\n0.18 -0.13\\n0.18 -0.13\\n0.18 -0.13\\n0.18 -0.13\\n0.15 -0.13\\n0.15 -0.13\\n0.15 -0.13\\n0.15 -0.13\\n0.15 -0.14\\n0.15 -0.14\\n0.15 -0.14\\n0.15 -0.14\\n0.15 -0.13\\n0.15 -0.13\\n0.15 -0.13\\n0.15 -0.13\\n0.15 -0.13\\n0.15 -0.09\\n0.15 -0.09\\n0.15 -0.09\\n0.15 -0.09\\n0.15 -0.11\\n0.15 -0.11\\n0.15 -0.11\\n0.15 -0.11\\n0.15 -0.11\\n0.15 -0.11\\n0.2 -0.43\\n0.2 -0.43\\n0.2 -0.43\\n0.25 -0.56\\n0.25 -0.56\\n0.25 -0.56\\n0.25 -0.59\\n0.25 -0.59\\n0.25 -0.59\\n0.25 -0.59\\n0.25 -0.66\\n0.25 -0.66\\n0.25 -0.66\\n0.25 -0.88\\n0.25 -0.88\\n0.25 -0.88\\n0.25 -0.8\\n0.25 -0.8\\n0.25 -0.8\\n0.25 -0.8\\n0.25 -0.8\\n0.25 -0.8\\n0.25 -0.8\\n0.25 -0.8\\n0.25 -0.83\\n0.25 -0.83\\n0.25 -0.83\\n0.25 -0.83\\n0.25 -0.83\\n0.25 -0.83\\n0.25 -0.76\\n0.25 -0.76\\n0.25 -0.76\\n0.25 -0.73\\n0.25 -0.73\\n0.25 -0.73\\n0.25 -0.71\\n0.25 -0.71\\n0.25 -0.71\\n0.25 -0.71\\n0.25 -0.71\\n0.25 -0.68\\n0.25 -0.68\\n0.25 -0.68\\n0.25 -0.68\\n0.25 -0.67\\n0.25 -0.67\\n0.25 -0.67\\n0.25 -0.67\\n0.25 -0.59\\n0.25 -0.59\\n0.25 -0.56\\n0.25 -0.56\\n0.25 -0.56\\n0.25 -0.56\\n0.25 -0.54\\n0.25 -0.54\\n0.25 -0.54\\n0.25 -0.54\\n0.25 -0.54\\n0.25 -0.53\\n0.25 -0.53\\n0.25 -0.53\\n0.25 -0.53\\n0.25 -0.53\\n0.25 -0.5\\n0.25 -0.5\\n0.25 -0.5\\n0.25 -0.49\\n0.25 -0.49\\n0.25 -0.49\\n0.25 -0.43\\n0.25 -0.43\\n0.25 -0.43\\n0.25 -0.41\\n0.25 -0.41\\n0.25 -0.41\\n0.25 -0.41\\n0.25 -0.34\\n0.25 -0.34\\n0.25 -0.34\\n0.25 -0.34\\n0.25 -0.28\\n0.25 -0.28\\n0.25 -0.27\\n0.25 -0.27\\n0.25 -0.27\\n0.25 -0.21\\n0.25 -0.21\\n0.25 -0.21\\n0.25 -0.21\\n0.25 -0.22\\n0.25 -0.22\\n0.25 -0.22\\n0.25 -0.16\\n0.25 -0.16\\n0.25 -0.16\\n0.25 -0.16\\n0.25 -0.17\\n0.25 -0.17\\n0.25 -0.17\\n0.25 -0.17\\n0.25 -0.07\\n0.25 -0.07\\n0.25 -0.07\\n0.25 -0.07\\n0.25 -0.06\\n0.25 -0.06\\n0.25 -0.06\\n0.25 -0.06\\n0.25 -0.02\\n0.25 -0.02\\n0.25 -0.02\\n0.25 0.02\\n0.25 0.02\\n0.25 0.02\\n0.25 -0.02\\n0.25 -0.02\\n0.25 -0.02\\n0.25 -0.02\\n0.25 0.05\\n0.25 0.05\\n0.25 0.05\\n0.25 0.04\\n0.25 0.04\\n0.25 0.04\\n0.25 0.06\\n0.25 0.06\\n0.25 0.06\\n0.25 0.06\\n0.25 0.1\\n0.25 0.1\\n0.25 0.15\\n0.25 0.15\\n0.25 0.15\\n0.25 0.15\\n0.25 0.15\\n0.25 0.11\\n0.25 0.11\\n0.25 0.11\\n0.25 0.11\\n0.25 0.11\\n0.25 0.17\\n0.25 0.17\\n0.25 0.17\\n0.25 0.16\\n0.25 0.16\\n0.25 0.16\\n0.25 0.16\\n0.25 0.16\\n0.25 0.16\\n0.25 0.16\\n0.25 0.14\\n0.25 0.14\\n0.25 0.14\\n0.25 0.18\\n0.25 0.18\\n0.25 0.18\\n0.25 0.18\\n0.25 0.17\\n0.25 0.17\\n0.25 0.17\\n0.25 0.17\\n0.25 0.26\\n0.25 0.26\\n0.25 0.26\\n0.25 0.18\\n0.25 0.18\\n0.25 0.18\\n0.25 0.18\\n0.25 0.19\\n0.25 0.19\\n0.25 0.19\\n0.25 0.23\\n0.25 0.23\\n0.25 0.23\\n0.25 0.23\\n0.25 0.23\\n0.25 0.28\\n0.25 0.28\\n0.25 0.28\\n0.25 0.28\\n0.25 0.21\\n0.25 0.21\\n0.25 0.21\\n0.25 0.21\\n0.25 0.21\\n0.25 0.21\\n0.25 0.21\\n0.25 0.22\\n0.25 0.22\\n0.25 0.27\\n0.25 0.27\\n0.25 0.27\\n0.25 0.35\\n0.25 0.35\\n0.25 0.35\\n0.25 0.35\\n0.25 0.27\\n0.25 0.27\\n0.25 0.27\\n0.25 0.27\\n0.25 0.27\\n0.25 0.27\\n0.25 0.27\\n0.25 0.26\\n0.25 0.26\\n0.25 0.26\\n0.25 0.33\\n0.25 0.33\\n0.25 0.33\\n0.25 0.33\\n0.25 0.33\\n0.25 0.33\\n0.25 0.32\\n0.25 0.32\\n0.25 0.32\\n0.25 0.32\\n0.25 0.32\\n0.25 0.31\\n0.25 0.31\\n0.25 0.31\\n0.25 0.3\\n0.25 0.3\\n0.25 0.28\\n0.25 0.28\\n0.25 0.28\\n0.25 0.26\\n0.25 0.26\\n0.25 0.26\\n0.25 0.25\\n0.25 0.25\\n0.25 0.25\\n0.25 0.25\\n0.25 0.25\\n0.25 0.23\\n0.25 0.23\\n0.25 0.23\\n0.25 0.26\\n0.25 0.26\\n0.25 0.26\\n0.25 0.25\\n0.25 0.25\\n0.25 0.25\\n0.25 0.25\\n0.25 0.25\\n0.25 0.25\\n0.25 0.25\\n0.25 0.25\\n0.25 0.24\\n0.25 0.24\\n0.25 0.24\\n0.25 0.23\\n0.25 0.23\\n0.25 0.23\\n0.25 0.23\\n0.25 0.23\\n0.25 0.22\\n0.25 0.22\\n0.25 0.22\\n0.25 0.2\\n0.25 0.2\\n0.25 0.2\\n0.25 0.2\\n0.25 0.19\\n0.25 0.19\\n0.25 0.19\\n0.25 0.18\\n0.25 0.18\\n0.25 0.18\\n0.25 0.18\\n0.25 0.18\\n0.25 0.16\\n0.25 0.16\\n0.25 0.16\\n0.25 0.16\\n0.25 0.16\\n0.25 0.17\\n0.25 0.17\\n0.25 0.17\\n0.25 0.17\\n0.25 0.17\\n0.25 0.17\\n0.25 0.17\\n0.25 0.16\\n0.25 0.16\\n0.25 0.16\\n0.25 0.14\\n0.25 0.14\\n0.25 0.14\\n0.25 0.14\\n0.25 0.13\\n0.25 0.13\\n0.25 0.13\\n0.25 0.13\\n0.25 0.12\\n0.25 0.12\\n0.25 0.12\\n0.25 0.12\\n0.25 0.12\\n0.25 0.12\\n0.25 0.11\\n0.25 0.11\\n0.25 0.11\\n0.25 0.11\\n0.25 0.1\\n0.25 0.1\\n0.25 0.1\\n0.25 0.1\\n0.25 0.09\\n0.25 0.09\\n0.25 0.09\\n0.25 0.09\\n0.25 0.09\\n0.25 0.08\\n0.25 0.08\\n0.25 0.08\\n0.21 0.1\\n0.21 0.1\\n0.21 0.1\\n0.2 0.1\\n0.2 0.1\\n0.2 0.1\\n0.24 0.08\\n0.24 0.08\\n0.24 0.08\\n0.24 0.08\\n0.25 0.06\\n0.25 0.06\\n0.25 0.06\\n0.25 0.06\\n0.25 0.06\\n0.25 0.06\\n0.25 0.06\\n0.25 0.06\\n0.25 0.05\\n0.25 0.05\\n0.25 0.05\\n0.25 0.04\\n0.25 0.04\\n0.25 0.04\\n0.25 0.04\\n0.25 0.04\\n0.25 0.04\\n0.25 0.04\\n0.25 0.05\\n0.25 0.05\\n0.25 0.05\\n0.25 0.05\\n0.25 0.04\\n0.25 0.04\\n0.25 0.04\\n0.25 0.04\\n0.25 0.04\\n0.25 0.04\\n0.25 0.04\\n0.25 -0.09\\n0.25 -0.09\\n0.25 -0.09\\n0.25 -0.09\\n0.25 -0.09\\n0.25 -0.18\\n0.25 -0.18\\n0.25 -0.18\\n0.25 -0.18\\n0.25 -0.17\\n0.25 -0.17\\n0.25 -0.17\\n0.25 -0.15\\n0.25 -0.15\\n0.25 -0.15\\n0.25 -0.15\\n0.25 -0.22\\n0.25 -0.22\\n0.25 -0.22\\n0.25 -0.22\\n0.25 -0.21\\n0.25 -0.21\\n0.25 -0.21\\n0.25 -0.21\\n0.23 -0.2\\n0.23 -0.2\\n0.23 -0.2\\n0.23 -0.2\\n0.25 -0.21\\n0.25 -0.21\\n0.25 -0.21\\n0.25 -0.21\\n0.25 -0.22\\n0.25 -0.22\\n0.25 -0.22\\n0.25 -0.21\\n0.25 -0.21\\n0.25 -0.21\\n0.25 -0.21\\n0.23 -0.21\\n0.23 -0.21\\n0.23 -0.21\\n0.23 -0.21\\n0.25 -0.29\\n0.25 -0.29\\n0.25 -0.29\\n0.25 -0.28\\n0.25 -0.28\\n0.25 -0.28\\n0.25 -0.28\\n0.25 -0.28\\n0.25 -0.27\\n0.25 -0.27\\n0.25 -0.27\\n0.25 -0.27\\n0.25 -0.25\\n0.25 -0.25\\n0.25 -0.25\\n0.25 -0.25\\n0.25 -0.25\\n0.25 -0.24\\n0.25 -0.24\\n0.25 -0.24\\n0.25 -0.24\\n0.25 -0.25\\n0.25 -0.25\\n0.25 -0.25\\n0.25 -0.25\\n0.25 -0.25\\n0.25 -0.34\\n0.25 -0.34\\n0.25 -0.34\\n0.25 -0.23\\n0.25 -0.23\\n0.25 -0.23\\n0.25 -0.23\\n0.25 -0.22\\n0.25 -0.22\\n0.25 -0.22\\n0.25 -0.22\\n0.25 -0.18\\n0.25 -0.18\\n0.25 -0.18\\n0.25 -0.22\\n0.25 -0.22\\n0.25 -0.22\\n0.25 -0.2\\n0.25 -0.2\\n0.25 -0.2\\n0.23 -0.2\\n0.23 -0.2\\n0.23 -0.2\\n0.25 -0.19\\n0.25 -0.19\\n0.25 -0.19\\n0.25 -0.19\\n0.25 -0.24\\n0.25 -0.24\\n0.25 -0.24\\n0.23 -0.18\\n0.23 -0.18\\n0.23 -0.18\\n0.22 -0.17\\n0.22 -0.17\\n0.22 -0.17\\n0.22 -0.17\\n0.2 -0.17\\n0.2 -0.17\\n0.2 -0.17\\n0.2 -0.17\\n0.24 -0.3\\n0.24 -0.3\\n0.24 -0.3\\n0.24 -0.3\\n0.23 -0.31\\n0.23 -0.31\\n0.23 -0.31\\n0.17 -0.13\\n0.17 -0.13\\n0.17 -0.13\\n0.17 -0.13\\n0.21 -0.28\\n0.21 -0.28\\n0.21 -0.28\\n0.16 -0.2\\n0.16 -0.2\\n0.16 -0.2\\n0.19 -0.26\\n0.19 -0.26\\n0.19 -0.26\\n0.19 -0.26\\n0.19 -0.26\\n0.19 -0.26\\n0.19 -0.26\\n0.23 -0.54\\n0.23 -0.54\\n0.23 -0.54\\n0.23 -0.54\\n0.25 -0.6\\n0.25 -0.6\\n0.25 -0.6\\n0.25 -0.6\\n0.25 -0.58\\n0.25 -0.58\\n0.25 -0.58\\n0.25 -0.61\\n0.25 -0.61\\n0.25 -0.61\\n0.25 -0.59\\n0.25 -0.59\\n0.25 -0.59\\n0.25 -0.56\\n0.25 -0.56\\n0.25 -0.56\\n0.25 -0.56\\n0.25 -0.56\\n0.25 -0.52\\n0.25 -0.52\\n0.25 -0.52\\n0.25 -0.49\\n0.25 -0.49\\n0.25 -0.49\\n0.25 -0.49\\n0.25 -0.46\\n0.25 -0.46\\n0.25 -0.44\\n0.25 -0.44\\n0.25 -0.44\\n0.25 -0.44\\n0.25 -0.42\\n0.25 -0.42\\n0.25 -0.42\\n0.25 -0.42\\n0.25 -0.42\\n0.25 -0.4\\n0.25 -0.4\\n0.25 -0.4\\n0.25 -0.4\\n0.25 -0.37\\n0.25 -0.37\\n0.25 -0.34\\n0.25 -0.34\\n0.25 -0.34\\n0.25 -0.33\\n0.25 -0.33\\n0.25 -0.33\\n0.25 -0.33\\n0.25 -0.31\\n0.25 -0.31\\n0.25 -0.31\\n0.25 -0.31\\n0.25 -0.31\\n0.25 -0.24\\n0.25 -0.24\\n0.25 -0.24\\n0.25 -0.24\\n0.25 -0.22\\n0.25 -0.22\\n0.25 -0.22\\n0.25 -0.22\\n0.25 -0.21\\n0.25 -0.21\\n0.25 -0.21\\n0.25 -0.18\\n0.25 -0.18\\n0.25 -0.18\\n0.25 -0.18\\n0.25 -0.18\\n0.25 -0.18\\n0.25 -0.16\\n0.25 -0.16\\n0.25 -0.16\\n0.25 -0.16\\n0.25 -0.18\\n0.25 -0.18\\n0.25 -0.18\\n0.25 -0.18\\n0.25 -0.18\\n0.25 -0.18\\n0.25 -0.17\\n0.25 -0.17\\n0.25 -0.17\\n0.25 -0.17\\n0.25 -0.17\\n0.25 -0.17\\n0.25 -0.17\\n0.25 -0.16\\n0.25 -0.16\\n0.25 -0.16\\n0.25 -0.16\\n0.25 -0.21\\n0.25 -0.21\\n0.25 -0.21\\n0.25 -0.21\\n0.25 -0.21\\n0.25 -0.21\\n0.25 -0.21\\n0.25 -0.19\\n0.25 -0.19\\n0.25 -0.19\\n0.25 -0.18\\n0.25 -0.18\\n0.25 -0.18\\n0.25 -0.13\\n0.25 -0.13\\n0.25 -0.13\\n0.25 -0.13\\n0.25 -0.12\\n0.25 -0.12\\n0.25 -0.12\\n0.25 -0.08\\n0.25 -0.08\\n0.25 -0.08\\n0.25 -0.08\\n0.25 -0.08\\n0.25 -0.08\\n0.25 -0.08\\n0.25 -0.08\\n0.25 -0.15\\n0.25 -0.15\\n0.25 -0.15\\n0.25 -0.14\\n0.25 -0.14\\n0.25 -0.14\\n0.25 -0.14\\n0.25 -0.14\\n0.25 -0.14\\n0.25 -0.11\\n0.25 -0.11\\n0.25 -0.11\\n0.25 -0.11\\n0.25 -0.11\\n0.23 -0.1\\n0.23 -0.1\\n0.23 -0.1\\n0.25 -0.02\\n0.25 -0.02\\n0.25 -0.02\\n0.21 -0.09\\n0.21 -0.09\\n0.21 -0.09\\n0.21 -0.09\\n0.23 -0.13\\n0.23 -0.13\\n0.23 -0.13\\n0.23 -0.13\\n0.25 -0.09\\n0.25 -0.09\\n0.25 -0.09\\n0.25 -0.09\\n0.25 -0.07\\n0.25 -0.07\\n0.25 -0.07\\n0.22 -0.09\\n0.22 -0.09\\n0.22 -0.09\\n0.21 -0.06\\n0.21 -0.06\\n0.21 -0.06\\n0.21 -0.06\\n0.2 -0.07\\n0.2 -0.07\\n0.2 -0.07\\n0.2 -0.07\\n0.2 -0.07\\n0.2 -0.07\\n0.2 -0.07\\n0.2 -0.07\\n0.25 -0.39\\n0.25 -0.39\\n0.25 -0.39\\n0.23 -0.34\\n0.23 -0.34\\n0.23 -0.34\\n0.23 -0.34\\n0.25 -0.55\\n0.25 -0.55\\n0.25 -0.55\\n0.25 -0.55\\n0.25 -0.5\\n0.25 -0.5\\n0.25 -0.5\\n0.25 -0.47\\n0.25 -0.47\\n0.25 -0.47\\n0.25 -0.47\\n0.25 -0.51\\n0.25 -0.51\\n0.25 -0.51\\n0.25 -0.51\\n0.25 -0.49\\n0.25 -0.49\\n0.25 -0.49\\n0.25 -0.51\\n0.25 -0.51\\n0.25 -0.51\\n0.25 -0.51\\n0.25 -0.5\\n0.25 -0.5\\n0.25 -0.5\\n0.25 -0.5\\n0.25 -0.47\\n0.25 -0.47\\n0.25 -0.47\\n0.25 -0.46\\n0.25 -0.46\\n0.25 -0.46\\n0.25 -0.46\\n0.25 -0.38\\n0.25 -0.38\\n0.25 -0.38\\n0.25 -0.38\\n0.25 -0.44\\n0.25 -0.44\\n0.25 -0.44\\n0.25 -0.41\\n0.25 -0.41\\n0.25 -0.41\\n0.25 -0.44\\n0.25 -0.44\\n0.25 -0.43\\n0.25 -0.43\\n0.25 -0.43\\n0.25 -0.43\\n0.25 -0.36\\n0.25 -0.36\\n0.25 -0.36\\n0.25 -0.36\\n0.25 -0.36\\n0.25 -0.36\\n0.25 -0.4\\n0.25 -0.4\\n0.25 -0.4\\n0.25 -0.4\\n0.25 -0.37\\n0.25 -0.37\\n0.25 -0.37\\n0.25 -0.37\\n0.25 -0.37\\n0.25 -0.36\\n0.25 -0.36\\n0.25 -0.36\\n0.25 -0.36\\n0.25 -0.34\\n0.25 -0.34\\n0.25 -0.38\\n0.25 -0.38\\n0.25 -0.38\\n0.25 -0.38\\n0.25 -0.38\\n0.25 -0.35\\n0.25 -0.35\\n0.25 -0.35\\n0.25 -0.35\\n0.25 -0.34\\n0.25 -0.34\\n0.25 -0.34\\n0.25 -0.34\\n0.25 -0.32\\n0.25 -0.32\\n0.25 -0.32\\n0.25 -0.29\\n0.25 -0.29\\n0.25 -0.29\\n0.25 -0.34\\n0.25 -0.34\\n0.25 -0.34\\n0.25 -0.34\\n0.25 -0.31\\n0.25 -0.31\\n0.25 -0.31\\n0.25 -0.25\\n0.25 -0.25\\n0.25 -0.25\\n0.25 -0.25\\n0.25 -0.12\\n0.25 -0.12\\n0.25 -0.12\\n0.25 -0.12\\n0.25 -0.17\\n0.25 -0.17\\n0.25 -0.17\\n0.25 -0.17\\n0.25 -0.17\\n0.25 -0.17\\n0.25 -0.17\\n0.25 -0.15\\n0.25 -0.15\\n0.25 -0.15\\n0.25 -0.15\\n0.25 -0.1\\n0.25 -0.1\\n0.25 -0.1\\n0.25 -0.09\\n0.25 -0.09\\n0.25 -0.09\\n0.25 -0.09\\n0.25 -0.08\\n0.25 -0.08\\n0.25 -0.08\\n0.25 -0.09\\n0.25 -0.09\\n0.25 -0.09\\n0.25 -0.08\\n0.25 -0.08\\n0.25 -0.08\\n0.25 -0.08\\n0.25 -0.07\\n0.25 -0.07\\n0.25 -0.07\\n0.25 -0.03\\n0.25 -0.03\\n0.25 -0.03\\n0.25 -0.03\\n0.25 -0.02\\n0.25 -0.02\\n0.25 -0.02\\n0.25 -0.02\\n0.25 -0.01\\n0.25 -0.01\\n0.25 -0.01\\n0.25 -0.01\\n0.25 0.02\\n0.25 0.02\\n0.25 0.02\\n0.25 0.02\\n0.25 0.03\\n0.25 0.03\\n0.25 0.03\\n0.25 0.02\\n0.25 0.02\\n0.25 0.02\\n0.25 0.02\\n0.25 0.03\\n0.25 0.03\\n0.25 0.03\\n0.25 0.01\\n0.25 0.01\\n0.25 0.01\\n0.25 0.02\\n0.25 0.02\\n0.25 0.02\\n0.25 0.02\\n0.25 0.01\\n0.25 0.01\\n0.25 0.01\\n0.25 0.02\\n0.25 0.02\\n0.25 0.02\\n0.25 0.01\\n0.25 0.01\\n0.25 0.01\\n0.25 0.0\\n0.25 0.0\\n0.25 0.0\\n0.25 0.0\\n0.25 0.0\\n0.25 0.0\\n0.25 0.0\\n0.25 0.0\\n0.25 0.0\\n0.25 0.0\\n0.25 0.0\\n0.25 0.0\\n0.25 0.04\\n0.25 0.04\\n0.25 0.04\\n0.25 0.05\\n0.25 0.05\\n0.25 0.05\\n0.25 0.05\\n0.25 0.04\\n0.25 0.04\\n0.25 0.04\\n0.25 0.04\\n0.25 0.04\\n0.25 0.04\\n0.25 0.04\\n0.25 0.04\\n0.25 0.04\\n0.25 -0.0\\n0.25 -0.0\\n0.25 -0.0\\n0.25 -0.0\\n0.25 0.0\\n0.25 0.0\\n0.25 0.0\\n0.25 0.0\\n0.25 0.0\\n0.25 0.0\\n0.25 0.0\\n0.25 -0.03\\n0.25 -0.03\\n0.25 -0.03\\n0.25 -0.0\\n0.25 -0.0\\n0.25 -0.0\\n0.22 0.01\\n0.22 0.01\\n0.22 0.01\\n0.22 0.01\\n0.2 0.01\\n0.2 0.01\\n0.2 0.01\\n0.19 0.0\\n0.19 0.0\\n0.24 0.0\\n0.24 0.0\\n0.24 0.0\\n0.24 0.0\\n0.24 0.0\\n0.17 0.01\\n0.17 0.01\\n0.17 0.01\\n0.17 0.01\\n0.24 -0.01\\n0.24 -0.01\\n0.24 -0.01\\n0.25 -0.03\\n0.25 -0.03\\n0.25 -0.03\\n0.25 -0.03\\n0.25 -0.03\\n0.14 -0.0\\n0.14 -0.0\\n0.14 -0.0\\n0.25 -0.03\\n0.25 -0.03\\n0.25 -0.03\\n0.25 -0.03\\n0.25 -0.03\\n0.25 -0.03\\n0.25 -0.03\\n0.25 -0.03\\n0.25 -0.04\\n0.25 -0.04\\n0.25 -0.04\\n0.25 -0.04\\n0.25 -0.04\\n0.25 -0.04\\n0.25 -0.04\\n0.25 -0.04\\n0.25 -0.03\\n0.25 -0.03\\n0.25 -0.03\\n0.25 -0.03\\n0.25 -0.03\\n0.23 -0.04\\n0.23 -0.04\\n0.23 -0.04\\n0.23 -0.04\\n0.22 -0.03\\n0.22 -0.03\\n0.22 -0.03\\n0.22 -0.03\\n0.22 -0.03\\n0.22 -0.03\\n0.22 -0.03\\n0.22 -0.03\\n0.22 -0.03\\n0.25 -0.15\\n0.25 -0.15\\n0.25 -0.15\\n0.25 -0.15\\n0.25 -0.16\\n0.25 -0.16\\n0.25 -0.16\\n0.25 -0.16\\n0.25 -0.28\\n0.25 -0.28\\n0.25 -0.28\\n0.25 -0.28\\n0.25 -0.28\\n0.25 -0.24\\n0.25 -0.24\\n0.25 -0.24\\n0.25 -0.24\\n0.25 -0.26\\n0.25 -0.26\\n0.25 -0.26\\n0.25 -0.26\\n0.25 -0.21\\n0.25 -0.21\\n0.25 -0.21\\n0.25 -0.32\\n0.25 -0.32\\n0.25 -0.32\\n0.25 -0.32\\n0.25 -0.3\\n0.25 -0.3\\n0.25 -0.3\\n0.25 -0.3\\n0.25 -0.31\\n0.25 -0.31\\n0.25 -0.31\\n0.25 -0.33\\n0.25 -0.33\\n0.25 -0.33\\n0.25 -0.25\\n0.25 -0.25\\n0.25 -0.25\\n0.25 -0.25\\n0.25 -0.34\\n0.25 -0.34\\n0.25 -0.34\\n0.25 -0.37\\n0.25 -0.37\\n0.25 -0.37\\n0.25 -0.28\\n0.25 -0.28\\n0.25 -0.28\\n0.25 -0.28\\n0.25 -0.28\\n0.25 -0.28\\n0.25 -0.34\\n0.25 -0.34\\n0.25 -0.34\\n0.25 -0.34\\n0.25 -0.34\\n0.25 -0.34\\n0.25 -0.34\\n0.25 -0.28\\n0.25 -0.28\\n0.25 -0.28\\n0.25 -0.28\\n0.25 -0.28\\n0.25 -0.29\\n0.25 -0.29\\n0.25 -0.29\\n0.25 -0.31\\n0.25 -0.31\\n0.25 -0.31\\n0.25 -0.3\\n0.25 -0.3\\n0.25 -0.3\\n0.25 -0.3\\n0.25 -0.3\\n0.25 -0.3\\n0.25 -0.3\\n0.25 -0.3\\n0.25 -0.3\\n0.25 -0.19\\n0.25 -0.19\\n0.25 -0.19\\n0.25 -0.19\\n0.25 -0.3\\n0.25 -0.3\\n0.25 -0.3\\n0.25 -0.3\\n0.25 -0.27\\n0.25 -0.27\\n0.25 -0.27\\n0.25 -0.27\\n0.25 -0.27\\n0.25 -0.23\\n0.25 -0.23\\n0.25 -0.23\\n0.25 -0.23\\n0.25 -0.23\\n0.25 -0.22\\n0.25 -0.22\\n0.25 -0.22\\n0.25 -0.22\\n0.25 -0.25\\n0.25 -0.25\\n0.25 -0.25\\n0.25 -0.25\\n0.25 -0.25\\n0.25 -0.19\\n0.25 -0.19\\n0.25 -0.19\\n0.25 -0.19\\n0.25 -0.25\\n0.25 -0.25\\n0.25 -0.25\\n0.25 -0.16\\n0.25 -0.16\\n0.25 -0.1\\n0.25 -0.1\\n0.25 -0.1\\n0.25 -0.1\\n0.25 -0.18\\n0.25 -0.18\\n0.25 -0.18\\n0.25 -0.18\\n0.25 -0.13\\n0.25 -0.13\\n0.25 -0.13\\n0.25 -0.13\\n0.25 -0.08\\n0.25 -0.08\\n0.25 -0.08\\n0.25 -0.08\\n0.25 -0.08\\n0.25 -0.08\\n0.25 -0.08\\n0.25 -0.11\\n0.25 -0.11\\n0.25 -0.11\\n0.25 -0.11\\n0.25 -0.11\\n0.25 -0.11\\n0.25 -0.11\\n0.25 -0.11\\n0.25 -0.12\\n0.25 -0.12\\n0.25 -0.12\\n0.25 -0.11\\n0.25 -0.11\\n0.25 -0.11\\n0.25 -0.12\\n0.25 -0.12\\n0.25 -0.12\\n0.25 -0.12\\n0.25 -0.12\\n0.25 -0.12\\n0.25 -0.12\\n0.25 -0.13\\n0.25 -0.13\\n0.25 -0.13\\n0.25 -0.13\\n0.25 -0.12\\n0.25 -0.12\\n0.23 -0.11\\n0.23 -0.11\\n0.23 -0.11\\n0.25 -0.03\\n0.25 -0.03\\n0.25 -0.03\\n0.25 -0.03\\n0.23 -0.02\\n0.23 -0.02\\n0.23 -0.02\\n0.23 -0.02\\n0.23 -0.02\\n0.22 -0.02\\n0.22 -0.02\\n0.22 -0.02\\n0.23 0.16\\n0.23 0.16\\n0.23 0.16\\n0.2 -0.02\\n0.2 -0.02\\n0.2 -0.02\\n0.2 -0.02\\n0.16 -0.12\\n0.16 -0.12\\n0.16 -0.12\\n0.19 0.16\\n0.19 0.16\\n0.19 0.16\\n0.19 0.16\\n0.19 0.09\\n0.19 0.09\\n0.19 0.09\\n0.19 0.09\\n0.19 0.09\\n0.17 0.16\\n0.17 0.16\\n0.17 0.16\\n0.17 0.17\\n0.17 0.17\\n0.17 0.17\\n0.17 0.17\\n0.17 0.17\\n0.17 0.17\\n0.15 0.12\\n0.15 0.12\\n0.15 0.07\\n0.15 0.07\\n0.15 0.07\\n0.15 0.06\\n0.15 0.06\\n0.15 0.06\\n0.25 0.05\\n0.25 0.05\\n0.25 0.05\\n0.25 0.05\\n0.25 0.01\\n0.25 0.01\\n0.24 0.02\\n0.24 0.02\\n0.24 0.02\\n0.24 0.02\\n0.24 0.02\\n0.25 -0.04\\n0.25 -0.04\\n0.25 -0.04\\n0.25 -0.04\\n0.25 -0.04\\n0.25 -0.02\\n0.25 -0.02\\n0.25 -0.02\\n0.25 -0.02\\n0.25 -0.02\\n0.25 -0.02\\n0.25 -0.02\\n0.25 -0.02\\n0.25 -0.02\\n0.25 -0.02\\n0.25 -0.01\\n0.25 -0.01\\n0.25 -0.01\\n0.25 -0.01\\n0.25 -0.01\\n0.25 -0.02\\n0.25 -0.02\\n0.25 -0.06\\n0.25 -0.06\\n0.25 -0.06\\n0.25 -0.06\\n0.25 -0.06\\n0.25 0.04\\n0.25 0.04\\n0.25 -0.04\\n0.25 -0.04\\n0.25 -0.04\\n0.25 -0.09\\n0.25 -0.09\\n0.25 -0.09\\n0.25 -0.13\\n0.25 -0.13\\n0.25 -0.13\\n0.25 -0.13\\n0.25 -0.1\\n0.25 -0.1\\n0.25 -0.1\\n0.25 -0.1\\n0.25 -0.08\\n0.25 -0.08\\n0.25 -0.08\\n0.25 -0.08\\n0.25 -0.11\\n0.25 -0.11\\n0.25 -0.11\\n0.25 -0.14\\n0.25 -0.14\\n0.25 -0.14\\n0.25 -0.14\\n0.25 -0.14\\n0.25 -0.14\\n0.25 -0.14\\n0.25 -0.14\\n0.25 -0.14\\n0.25 -0.15\\n0.25 -0.15\\n0.25 -0.15\\n0.25 -0.15\\n0.25 -0.15\\n0.25 -0.16\\n0.25 -0.16\\n0.25 -0.16\\n0.25 -0.16\\n0.25 -0.16\\n0.25 -0.16\\n0.25 -0.16\\n0.25 -0.16\\n0.25 -0.16\\n0.25 -0.18\\n0.25 -0.18\\n0.25 -0.18\\n0.25 -0.18\\n0.25 -0.18\\n0.25 -0.18\\n0.25 -0.18\\n0.25 -0.18\\n0.25 -0.18\\n0.25 -0.19\\n0.25 -0.19\\n0.25 -0.19\\n0.25 -0.19\\n0.25 -0.19\\n0.25 -0.19\\n0.25 -0.19\\n0.25 -0.19\\n0.25 -0.19\\n0.25 -0.18\\n0.25 -0.18\\n0.25 -0.19\\n0.25 -0.19\\n0.25 -0.19\\n0.25 -0.19\\n0.25 -0.19\\n0.25 -0.19\\n0.25 -0.19\\n0.25 -0.21\\n0.25 -0.21\\n0.25 -0.21\\n0.25 -0.21\\n0.25 -0.21\\n0.25 -0.2\\n0.25 -0.2\\n0.25 -0.2\\n0.25 -0.2\\n0.25 -0.24\\n0.25 -0.24\\n0.25 -0.24\\n0.25 -0.24\\n0.25 -0.24\\n0.25 -0.24\\n0.25 -0.24\\n0.25 -0.19\\n0.25 -0.19\\n0.25 -0.19\\n0.25 -0.22\\n0.25 -0.22\\n0.25 -0.22\\n0.25 -0.22\\n0.25 -0.18\\n0.25 -0.18\\n0.25 -0.18\\n0.25 -0.18\\n0.25 -0.17\\n0.25 -0.17\\n0.25 -0.17\\n0.25 -0.17\\n0.25 -0.17\\n0.25 -0.13\\n0.25 -0.13\\n0.25 -0.13\\n0.25 -0.13\\n0.25 -0.13\\n0.25 -0.13\\n0.25 -0.13\\n0.25 -0.14\\n0.25 -0.14\\n0.25 -0.14\\n0.25 -0.14\\n0.25 -0.15\\n0.25 -0.15\\n0.25 -0.15\\n0.25 -0.15\\n0.25 -0.16\\n0.25 -0.16\\n0.25 -0.16\\n0.25 -0.16\\n0.25 -0.16\\n0.25 -0.16\\n0.25 -0.15\\n0.25 -0.15\\n0.25 -0.15\\n0.25 -0.14\\n0.25 -0.14\\n0.25 -0.14\\n0.25 -0.14\\n0.25 -0.14\\n0.25 -0.14\\n0.25 -0.13\\n0.25 -0.13\\n0.25 -0.12\\n0.25 -0.12\\n0.25 -0.12\\n0.25 -0.12\\n0.25 -0.15\\n0.25 -0.15\\n0.25 -0.15\\n0.25 -0.12\\n0.25 -0.12\\n0.25 -0.12\\n0.25 -0.12\\n0.25 -0.14\\n0.25 -0.14\\n0.25 -0.14\\n0.25 -0.14\\n0.25 -0.13\\n0.25 -0.13\\n0.25 -0.13\\n0.25 -0.13\\n0.25 -0.19\\n0.25 -0.19\\n0.25 -0.19\\n0.25 -0.19\\n0.25 -0.19\\n0.25 -0.19\\n0.25 -0.23\\n0.25 -0.23\\n0.25 -0.23\\n0.25 -0.23\\n0.25 -0.14\\n0.25 -0.14\\n0.25 -0.14\\n0.25 -0.14\\n0.25 -0.21\\n0.25 -0.21\\n0.25 -0.21\\n0.25 -0.21\\n0.25 -0.21\\n0.25 -0.21\\n0.25 -0.19\\n0.25 -0.19\\n0.25 -0.19\\n0.25 -0.18\\n0.25 -0.18\\n0.25 -0.18\\n0.25 -0.18\\n0.25 -0.17\\n0.25 -0.17\\n0.25 -0.17\\n0.23 -0.16\\n0.23 -0.16\\n0.23 -0.16\\n0.23 -0.16\\n0.23 -0.16\\n0.22 -0.16\\n0.22 -0.16\\n0.22 -0.16\\n0.22 -0.16\\n0.22 -0.16\\n0.25 -0.13\\n0.25 -0.13\\n0.25 -0.13\\n0.25 -0.13\\n0.24 -0.13\\n0.24 -0.13\\n0.24 -0.13\\n0.24 -0.13\\n0.25 -0.13\\n0.25 -0.13\\n0.25 -0.13\\n0.25 -0.13\\n0.25 -0.13\\n0.25 -0.13\\n0.25 -0.13\\n0.25 -0.13\\n0.25 -0.13\\n0.25 -0.13\\n0.25 -0.19\\n0.25 -0.19\\n0.25 -0.19\\n0.25 -0.19\\n0.25 -0.19\\n0.25 -0.18\\n0.25 -0.18\\n0.25 -0.18\\n0.25 -0.18\\n0.25 -0.14\\n0.25 -0.14\\n0.25 -0.14\\n0.25 -0.13\\n0.25 -0.13\\n0.25 -0.13\\n0.25 -0.13\\n0.23 -0.12\\n0.23 -0.12\\n0.23 -0.12\\n0.22 -0.11\\n0.22 -0.11\\n0.22 -0.11\\n0.22 -0.11\\n0.2 -0.14\\n0.2 -0.14\\n0.2 -0.14\\n0.2 -0.14\\n0.19 -0.14\\n0.19 -0.14\\n0.18 -0.13\\n0.18 -0.13\\n0.18 -0.13\\n0.17 -0.08\\n0.17 -0.08\\n0.17 -0.08\\n0.17 -0.06\\n0.17 -0.06\\n0.17 -0.06\\n0.17 -0.06\\n0.15 -0.11\\n0.15 -0.11\\n0.15 -0.11\\n0.15 -0.06\\n0.15 -0.06\\n0.15 -0.06\\n0.15 -0.06\\n0.15 -0.38\\n0.15 -0.38\\n0.15 -0.38\\n0.25 -0.56\\n0.25 -0.56\\n0.25 -0.56\\n0.25 -0.53\\n0.25 -0.53\\n0.25 -0.53\\n0.25 -0.53\\n0.25 -0.53\\n0.25 -0.63\\n0.25 -0.63\\n0.25 -0.63\\n0.25 -0.52\\n0.25 -0.52\\n0.25 -0.52\\n0.25 -0.52\\n0.25 -0.52\\n0.25 -0.52\\n0.25 -0.52\\n0.25 -0.52\\n0.25 -0.49\\n0.25 -0.49\\n0.25 -0.49\\n0.25 -0.49\\n0.25 -0.49\\n0.25 -0.57\\n0.25 -0.57\\n0.25 -0.57\\n0.25 -0.57\\n0.25 -0.51\\n0.25 -0.51\\n0.25 -0.51\\n0.25 -0.51\\n0.25 -0.49\\n0.25 -0.49\\n0.25 -0.49\\n0.25 -0.47\\n0.25 -0.47\\n0.25 -0.47\\n0.25 -0.54\\n0.25 -0.54\\n0.25 -0.54\\n0.25 -0.48\\n0.25 -0.48\\n0.25 -0.48\\n0.25 -0.48\\n0.25 -0.56\\n0.25 -0.56\\n0.25 -0.56\\n0.25 -0.56\\n0.25 -0.53\\n0.25 -0.53\\n0.25 -0.53\\n0.25 -0.52\\n0.25 -0.52\\n0.25 -0.52\\n0.25 -0.52\\n0.25 -0.5\\n0.25 -0.5\\n0.25 -0.5\\n0.25 -0.5\\n0.25 -0.48\\n0.25 -0.48\\n0.25 -0.48\\n0.25 -0.52\\n0.25 -0.52\\n0.25 -0.52\\n0.25 -0.52\\n0.25 -0.52\\n0.25 -0.52\\n0.25 -0.51\\n0.25 -0.51\\n0.25 -0.51\\n0.25 -0.51\\n0.25 -0.47\\n0.25 -0.47\\n0.25 -0.47\\n0.25 -0.47\\n0.25 -0.52\\n0.25 -0.52\\n0.25 -0.52\\n0.25 -0.45\\n0.25 -0.45\\n0.25 -0.45\\n0.25 -0.45\\n0.25 -0.47\\n0.25 -0.47\\n0.25 -0.47\\n0.25 -0.47\\n0.25 -0.44\\n0.25 -0.44\\n0.25 -0.44\\n0.25 -0.44\\n0.25 -0.43\\n0.25 -0.43\\n0.25 -0.43\\n0.25 -0.44\\n0.25 -0.44\\n0.25 -0.44\\n0.25 -0.44\\n0.25 -0.39\\n0.25 -0.39\\n0.25 -0.39\\n0.25 -0.39\\n0.25 -0.39\\n0.25 -0.47\\n0.25 -0.47\\n0.25 -0.46\\n0.25 -0.46\\n0.25 -0.46\\n0.25 -0.46\\n0.25 -0.41\\n0.25 -0.41\\n0.25 -0.41\\n0.25 -0.46\\n0.25 -0.46\\n0.25 -0.46\\n0.25 -0.34\\n0.25 -0.34\\n0.25 -0.34\\n0.25 -0.4\\n0.25 -0.4\\n0.25 -0.4\\n0.25 -0.4\\n0.25 -0.43\\n0.25 -0.43\\n0.25 -0.43\\n0.25 -0.42\\n0.25 -0.42\\n0.25 -0.42\\n0.25 -0.42\\n0.25 -0.36\\n0.25 -0.36\\n0.25 -0.36\\n0.25 -0.36\\n0.25 -0.34\\n0.25 -0.34\\n0.25 -0.34\\n0.25 -0.38\\n0.25 -0.38\\n0.25 -0.38\\n0.25 -0.38\\n0.25 -0.38\\n0.25 -0.32\\n0.25 -0.32\\n0.25 -0.32\\n0.25 -0.32\\n0.25 -0.36\\n0.25 -0.36\\n0.25 -0.36\\n0.25 -0.36\\n0.25 -0.32\\n0.25 -0.32\\n0.25 -0.32\\n0.25 -0.32\\n0.25 -0.32\\n0.25 -0.32\\n0.25 -0.32\\n0.25 -0.32\\n0.25 -0.26\\n0.25 -0.26\\n0.25 -0.26\\n0.25 -0.26\\n0.25 -0.26\\n0.25 -0.26\\n0.25 -0.26\\n0.25 -0.27\\n0.25 -0.27\\n0.25 -0.27\\n0.25 -0.22\\n0.25 -0.22\\n0.25 -0.22\\n0.25 -0.22\\n0.25 -0.22\\n0.25 -0.22\\n0.25 -0.22\\n0.25 -0.22\\n0.25 -0.22\\n0.25 -0.18\\n0.25 -0.18\\n0.25 -0.18\\n0.25 -0.18\\n0.25 -0.16\\n0.25 -0.16\\n0.25 -0.16\\n0.25 -0.14\\n0.25 -0.14\\n0.25 -0.14\\n0.25 -0.09\\n0.25 -0.09\\n0.25 -0.09\\n0.25 -0.1\\n0.25 -0.1\\n0.25 -0.1\\n0.25 -0.1\\n0.25 -0.09\\n0.25 -0.09\\n0.25 -0.09\\n0.25 -0.09\\n0.25 -0.09\\n0.25 -0.12\\n0.25 -0.12\\n0.25 -0.03\\n0.25 -0.03\\n0.25 -0.03\\n0.25 -0.14\\n0.25 -0.14\\n0.25 -0.14\\n0.25 -0.06\\n0.25 -0.06\\n0.25 -0.06\\n0.25 -0.06\\n0.25 -0.01\\n0.25 -0.01\\n0.25 -0.01\\n0.25 0.03\\n0.25 0.03\\n0.25 0.03\\n0.25 0.03\\n0.25 0.03\\n0.25 0.03\\n0.25 0.03\\n0.25 0.03\\n0.25 0.04\\n0.25 0.04\\n0.25 0.04\\n0.25 0.04\\n0.25 0.04\\n0.25 0.04\\n0.25 0.04\\n0.25 0.02\\n0.25 0.02\\n0.25 0.02\\n0.25 0.04\\n0.25 0.04\\n0.25 0.04\\n0.25 -0.04\\n0.25 -0.04\\n0.25 -0.04\\n0.25 0.02\\n0.25 0.02\\n0.25 0.02\\n0.25 0.02\\n0.25 0.05\\n0.25 0.05\\n0.25 0.05\\n0.25 0.01\\n0.25 0.01\\n0.25 0.01\\n0.25 0.01\\n0.25 0.05\\n0.25 0.05\\n0.25 0.05\\n0.25 0.1\\n0.25 0.1\\n0.25 0.1\\n0.25 0.06\\n0.25 0.06\\n0.25 0.06\\n0.25 0.06\\n0.25 0.04\\n0.25 0.04\\n0.25 0.04\\n0.25 0.08\\n0.25 0.08\\n0.25 0.08\\n0.25 0.02\\n0.25 0.02\\n0.25 0.02\\n0.25 0.02\\n0.25 0.03\\n0.25 0.03\\n0.25 0.03\\n0.25 0.05\\n0.25 0.05\\n0.25 0.05\\n0.25 0.05\\n0.25 0.05\\n0.25 0.05\\n0.25 0.07\\n0.25 0.07\\n0.25 0.07\\n0.25 0.07\\n0.25 0.04\\n0.25 0.04\\n0.25 0.04\\n0.25 0.04\\n0.25 0.04\\n0.25 0.04\\n0.25 0.04\\n0.25 0.04\\n0.25 -0.02\\n0.25 -0.02\\n0.25 0.0\\n0.25 0.0\\n0.25 0.0\\n0.25 0.0\\n0.25 0.02\\n0.25 0.02\\n0.25 0.02\\n0.25 0.02\\n0.25 0.02\\n0.25 0.04\\n0.25 0.04\\n0.25 0.04\\n0.25 0.04\\n0.25 0.04\\n0.25 0.04\\n0.25 0.0\\n0.25 0.0\\n0.25 0.0\\n0.25 -0.06\\n0.25 -0.06\\n0.25 -0.06\\n0.25 -0.06\\n0.25 0.0\\n0.25 0.0\\n0.25 0.0\\n0.25 0.0\\n0.25 0.0\\n0.25 -0.02\\n0.25 -0.02\\n0.25 -0.02\\n0.25 -0.02\\n0.25 -0.02\\n0.25 -0.07\\n0.25 -0.07\\n0.25 -0.07\\n0.25 -0.07\\n0.25 0.02\\n0.25 0.02\\n0.25 0.02\\n0.25 0.02\\n0.25 -0.03\\n0.25 -0.03\\n0.25 -0.03\\n0.25 -0.03\\n0.25 -0.03\\n0.25 -0.05\\n0.25 -0.05\\n0.25 -0.05\\n0.25 -0.05\\n0.25 -0.13\\n0.25 -0.13\\n0.25 -0.13\\n0.25 -0.13\\n0.25 -0.14\\n0.25 -0.14\\n0.25 -0.14\\n0.25 -0.14\\n0.25 -0.13\\n0.25 -0.13\\n0.25 -0.13\\n0.25 -0.13\\n0.25 -0.09\\n0.25 -0.09\\n0.25 -0.09\\n0.25 -0.09\\n0.25 -0.09\\n0.25 -0.12\\n0.25 -0.12\\n0.25 -0.12\\n0.25 -0.11\\n0.25 -0.11\\n0.25 -0.11\\n0.25 -0.13\\n0.25 -0.13\\n0.25 -0.15\\n0.25 -0.15\\n0.25 -0.15\\n0.25 -0.12\\n0.25 -0.12\\n0.25 -0.12\\n0.25 -0.12\\n0.25 -0.15\\n0.25 -0.15\\n0.25 -0.15\\n0.25 -0.15\\n0.25 -0.15\\n0.25 -0.15\\n0.25 -0.15\\n0.25 -0.15\\n0.25 -0.16\\n0.25 -0.16\\n0.25 -0.16\\n0.25 -0.16\\n0.25 -0.22\\n0.25 -0.22\\n0.25 -0.22\\n0.25 -0.22\\n0.25 -0.22\\n0.25 -0.22\\n0.25 -0.22\\n0.25 -0.22\\n0.25 -0.22\\n0.25 -0.17\\n0.25 -0.17\\n0.25 -0.17\\n0.25 -0.12\\n0.25 -0.12\\n0.25 -0.12\\n0.25 -0.12\\n0.25 -0.15\\n0.25 -0.15\\n0.25 -0.15\\n0.25 -0.15\\n0.25 -0.18\\n0.25 -0.18\\n0.25 -0.18\\n0.25 -0.18\\n0.25 -0.18\\n0.25 -0.18\\n0.25 -0.17\\n0.25 -0.17\\n0.25 -0.17\\n0.25 -0.17\\n0.25 -0.18\\n0.25 -0.18\\n0.25 -0.18\\n0.25 -0.17\\n0.25 -0.17\\n0.25 -0.17\\n0.25 -0.17\\n0.25 -0.16\\n0.25 -0.16\\n0.25 -0.16\\n0.25 -0.16\\n0.25 -0.17\\n0.25 -0.17\\n0.25 -0.17\\n0.25 -0.17\\n0.25 -0.17\\n0.25 -0.17\\n0.25 -0.17\\n0.25 -0.16\\n0.25 -0.16\\n0.25 -0.16\\n0.25 -0.2\\n0.25 -0.2\\n0.25 -0.2\\n0.25 -0.2\\n0.25 -0.2\\n0.25 -0.2\\n0.25 -0.2\\n0.25 -0.2\\n0.25 -0.19\\n0.25 -0.19\\n0.25 -0.19\\n0.25 -0.19\\n0.25 -0.19\\n0.25 -0.19\\n0.25 -0.18\\n0.25 -0.18\\n0.25 -0.18\\n0.25 -0.18\\n0.25 -0.17\\n0.25 -0.17\\n0.25 -0.17\\n0.25 -0.22\\n0.25 -0.22\\n0.25 -0.22\\n0.25 -0.22\\n0.25 -0.22\\n0.25 -0.21\\n0.25 -0.21\\n0.25 -0.25\\n0.25 -0.25\\n0.25 -0.25\\n0.25 -0.25\\n0.25 -0.25\\n0.25 -0.24\\n0.25 -0.24\\n0.25 -0.24\\n0.25 -0.26\\n0.25 -0.26\\n0.25 -0.26\\n0.25 -0.26\\n0.25 -0.25\\n0.25 -0.25\\n0.25 -0.25\\n0.25 -0.24\\n0.25 -0.24\\n0.25 -0.24\\n0.25 -0.24\\n0.25 -0.23\\n0.25 -0.23\\n0.25 -0.23\\n0.25 -0.22\\n0.25 -0.22\\n0.25 -0.22\\n0.25 -0.22\\n0.25 -0.21\\n0.25 -0.21\\n0.25 -0.18\\n0.25 -0.18\\n0.25 -0.18\\n0.25 -0.18\\n0.25 -0.25\\n0.25 -0.25\\n0.25 -0.25\\n0.25 -0.25\\n0.25 -0.26\\n0.25 -0.26\\n0.25 -0.26\\n0.25 -0.23\\n0.25 -0.23\\n0.25 -0.23\\n0.25 -0.27\\n0.25 -0.27\\n0.25 -0.27\\n0.25 -0.27\\n0.25 -0.27\\n0.25 -0.27\\n0.25 -0.27\\n0.25 -0.27\\n0.25 -0.23\\n0.25 -0.23\\n0.25 -0.23\\n0.25 -0.23\\n0.25 -0.27\\n0.25 -0.27\\n0.25 -0.27\\n0.25 -0.23\\n0.25 -0.23\\n0.25 -0.22\\n0.25 -0.22\\n0.25 -0.22\\n0.25 -0.22\\n0.25 -0.22\\n0.25 -0.26\\n0.25 -0.26\\n0.25 -0.26\\n0.25 -0.26\\n0.25 -0.16\\n0.25 -0.16\\n0.25 -0.16\\n0.25 -0.16\\n0.25 -0.24\\n0.25 -0.24\\n0.25 -0.24\\n0.25 -0.24\\n0.25 -0.24\\n0.25 -0.24\\n0.25 -0.24\\n0.25 -0.22\\n0.25 -0.22\\n0.25 -0.22\\n0.25 -0.25\\n0.25 -0.25\\n0.25 -0.25\\n0.25 -0.25\\n0.25 -0.22\\n0.25 -0.22\\n0.25 -0.22\\n0.25 -0.22\\n0.25 -0.18\\n0.25 -0.18\\n0.25 -0.22\\n0.25 -0.22\\n0.25 -0.22\\n0.25 -0.22\\n0.25 -0.22\\n0.25 -0.21\\n0.25 -0.21\\n0.25 -0.21\\n0.25 -0.2\\n0.25 -0.2\\n0.25 -0.2\\n0.25 -0.2\\n0.25 -0.21\\n0.25 -0.21\\n0.25 -0.21\\n0.25 -0.2\\n0.25 -0.2\\n0.25 -0.2\\n0.25 -0.2\\n0.25 -0.19\\n0.25 -0.19\\n0.25 -0.19\\n0.25 -0.16\\n0.25 -0.16\\n0.25 -0.16\\n0.25 -0.16\\n0.25 -0.2\\n0.25 -0.2\\n0.25 -0.2\\n0.25 -0.2\\n0.25 -0.16\\n0.25 -0.16\\n0.25 -0.16\\n0.25 -0.16\\n0.25 -0.17\\n0.25 -0.17\\n0.25 -0.17\\n0.25 -0.19\\n0.25 -0.19\\n0.25 -0.19\\n0.25 -0.15\\n0.25 -0.15\\n0.25 -0.15\\n0.25 -0.15\\n0.25 -0.16\\n0.25 -0.16\\n0.25 -0.16\\n0.25 -0.16\\n0.25 -0.18\\n0.25 -0.18\\n0.25 -0.18\\n0.25 -0.18\\n0.25 -0.18\\n0.25 -0.18\\n0.25 -0.18\\n0.25 -0.18\\n0.25 -0.15\\n0.25 -0.15\\n0.25 -0.15\\n0.25 -0.13\\n0.25 -0.13\\n0.25 -0.13\\n0.25 -0.13\\n0.23 -0.12\\n0.23 -0.12\\n0.23 -0.12\\n0.25 -0.13\\n0.25 -0.13\\n0.25 -0.13\\n0.25 -0.13\\n0.25 -0.12\\n0.25 -0.12\\n0.25 -0.12\\n0.23 -0.11\\n0.23 -0.11\\n0.23 -0.11\\n0.23 -0.11\\n0.25 -0.1\\n0.25 -0.1\\n0.25 -0.1\\n0.25 -0.09\\n0.25 -0.09\\n0.25 -0.09\\n0.25 -0.09\\n0.23 -0.08\\n0.23 -0.08\\n0.23 -0.08\\n0.25 -0.04\\n0.25 -0.04\\n0.25 -0.03\\n0.25 -0.03\\n0.25 -0.03\\n0.25 -0.03\\n0.25 -0.03\\n0.25 -0.03\\n0.25 -0.03\\n0.25 -0.03\\n0.25 -0.03\\n0.25 -0.03\\n0.25 -0.03\\n0.25 -0.03\\n0.25 -0.03\\n0.25 -0.03\\n0.25 -0.04\\n0.25 -0.04\\n0.25 -0.0\\n0.25 -0.0\\n0.25 -0.0\\n0.15 -0.32\\n0.15 -0.32\\n0.15 -0.32\\n0.14 -0.39\\n0.14 -0.39\\n0.14 -0.39\\n0.25 -0.71\\n0.25 -0.71\\n0.25 -0.71\\n0.24 -0.71\\n0.24 -0.71\\n0.24 -0.71\\n0.25 -0.76\\n0.25 -0.76\\n0.25 -0.76\\n0.25 -0.76\\n0.25 -0.75\\n0.25 -0.75\\n0.25 -0.75\\n0.25 -0.75\\n0.25 -0.75\\n0.25 -0.75\\n0.25 -0.71\\n0.25 -0.71\\n0.25 -0.71\\n0.25 -0.66\\n0.25 -0.66\\n0.25 -0.62\\n0.25 -0.62\\n0.25 -0.62\\n0.25 -0.56\\n0.25 -0.56\\n0.25 -0.56\\n0.25 -0.56\\n0.25 -0.64\\n0.25 -0.64\\n0.25 -0.64\\n0.25 -0.64\\n0.25 -0.57\\n0.25 -0.57\\n0.25 -0.57\\n0.25 -0.57\\n0.25 -0.5\\n0.25 -0.5\\n0.25 -0.5\\n0.25 -0.5\\n0.25 -0.48\\n0.25 -0.48\\n0.25 -0.43\\n0.25 -0.43\\n0.25 -0.43\\n0.25 -0.38\\n0.25 -0.38\\n0.25 -0.38\\n0.25 -0.43\\n0.25 -0.43\\n0.25 -0.43\\n0.25 -0.43\\n0.25 -0.4\\n0.25 -0.4\\n0.25 -0.4\\n0.25 -0.4\\n0.25 -0.4\\n0.25 -0.34\\n0.25 -0.34\\n0.25 -0.28\\n0.25 -0.28\\n0.25 -0.28\\n0.25 -0.28\\n0.25 -0.37\\n0.25 -0.37\\n0.25 -0.37\\n0.25 -0.37\\n0.25 -0.33\\n0.25 -0.33\\n0.25 -0.33\\n0.25 -0.33\\n0.25 -0.29\\n0.25 -0.29\\n0.25 -0.29\\n0.25 -0.29\\n0.25 -0.36\\n0.25 -0.36\\n0.25 -0.36\\n0.25 -0.36\\n0.25 -0.35\\n0.25 -0.35\\n0.25 -0.35\\n0.23 -0.33\\n0.23 -0.33\\n0.23 -0.33\\n0.23 -0.33\\n0.23 -0.33\\n0.23 -0.33\\n0.25 -0.23\\n0.25 -0.23\\n0.25 -0.23\\n0.25 -0.23\\n0.25 -0.19\\n0.25 -0.19\\n0.25 -0.19\\n0.25 -0.19\\n0.25 -0.18\\n0.25 -0.18\\n0.25 -0.18\\n0.25 -0.18\\n0.25 -0.18\\n0.25 -0.12\\n0.25 -0.12\\n0.25 -0.12\\n0.22 -0.17\\n0.22 -0.17\\n0.22 -0.17\\n0.22 -0.17\\n0.2 -0.17\\n0.2 -0.17\\n0.2 -0.17\\n0.2 -0.17\\n0.21 -0.1\\n0.21 -0.1\\n0.21 -0.1\\n0.18 -0.16\\n0.18 -0.16\\n0.19 -0.1\\n0.19 -0.1\\n0.19 -0.1\\n0.18 -0.04\\n0.18 -0.04\\n0.18 -0.04\\n0.18 -0.04\\n0.18 -0.04\\n0.17 -0.03\\n0.17 -0.03\\n0.17 -0.03\\n0.17 -0.03\\n0.17 -0.1\\n0.17 -0.1\\n0.15 -0.06\\n0.15 -0.06\\n0.15 -0.06\\n0.15 -0.06\\n0.15 -0.07\\n0.15 -0.07\\n0.15 -0.07\\n0.15 -0.07\\n0.15 -0.07\\n0.25 0.25\\n0.25 0.25\\n0.25 0.25\\n0.23 0.23\\n0.23 0.23\\n0.23 0.23\\n0.23 0.23\\n0.25 0.3\\n0.25 0.3\\n0.25 0.3\\n0.25 0.3\\n0.25 0.29\\n0.25 0.29\\n0.25 0.29\\n0.25 0.28\\n0.25 0.28\\n0.25 0.28\\n0.25 0.28\\n0.25 0.28\\n0.25 0.28\\n0.25 0.27\\n0.25 0.27\\n0.25 0.27\\n0.25 0.27\\n0.25 0.27\\n0.25 0.27\\n0.25 0.27\\n0.25 0.27\\n0.25 0.3\\n0.25 0.3\\n0.25 0.3\\n0.25 0.3\\n0.25 0.3\\n0.25 0.3\\n0.25 0.29\\n0.25 0.29\\n0.25 0.29\\n0.25 0.29\\n0.25 0.25\\n0.25 0.25\\n0.25 0.25\\n0.25 0.25\\n0.25 0.25\\n0.22 0.25\\n0.22 0.25\\n0.22 0.25\\n0.25 0.34\\n0.25 0.34\\n0.25 0.34\\n0.25 0.33\\n0.25 0.33\\n0.25 0.33\\n0.25 0.33\\n0.25 0.33\\n0.25 0.32\\n0.25 0.32\\n0.25 0.32\\n0.25 0.32\\n0.25 0.32\\n0.25 0.32\\n0.25 0.32\\n0.25 0.3\\n0.25 0.3\\n0.25 0.3\\n0.25 0.3\\n0.25 0.27\\n0.25 0.27\\n0.25 0.27\\n0.25 0.27\\n0.23 0.26\\n0.23 0.26\\n0.23 0.26\\n0.25 0.23\\n0.25 0.23\\n0.25 0.23\\n0.25 0.23\\n0.22 0.24\\n0.22 0.24\\n0.22 0.24\\n0.2 0.23\\n0.2 0.23\\n0.2 0.23\\n0.2 0.23\\n0.19 0.21\\n0.19 0.21\\n0.19 0.21\\n0.18 0.2\\n0.18 0.2\\n0.18 0.2\\n0.18 0.2\\n0.17 0.18\\n0.17 0.18\\n0.17 0.18\\n0.17 0.17\\n0.17 0.17\\n0.17 0.17\\n0.15 0.16\\n0.15 0.16\\n0.15 0.16\\n0.15 0.15\\n0.15 0.15\\n0.15 0.15\\n0.14 0.14\\n0.14 0.14\\n0.14 0.14\\n0.14 0.14\\n0.14 0.14\\n0.14 0.14\\n0.14 0.14\\n0.14 0.1\\n0.14 0.1\\n0.14 0.1\\n0.14 0.1\\n0.14 0.1\\n0.14 0.08\\n0.14 0.08\\n0.14 0.08\\n0.14 0.07\\n0.14 0.07\\n0.14 0.07\\n0.14 0.07\\n0.16 0.1\\n0.16 0.1\\n0.16 0.1\\n0.16 0.1\\n0.13 0.1\\n0.13 0.1\\n0.13 0.1\\n0.15 0.04\\n0.15 0.04\\n0.15 0.04\\n0.15 0.04\\n0.16 0.03\\n0.16 0.03\\n0.16 0.03\\n0.16 0.03\\n0.15 0.03\\n0.15 0.03\\n0.15 0.03\\n0.15 0.03\\n0.15 0.02\\n0.15 0.02\\n0.15 0.02\\n0.15 0.02\\n0.14 0.07\\n0.14 0.07\\n0.14 0.07\\n0.14 0.01\\n0.14 0.01\\n0.14 0.01\\n0.14 0.01\\n0.14 0.0\\n0.14 0.0\\n0.14 0.0\\n0.14 0.0\\n0.14 0.0\\n0.14 0.0\\n0.14 0.09\\n0.14 0.09\\n0.14 0.09\\n0.14 0.09\\n0.14 0.15\\n0.14 0.15\\n0.14 0.15\\n0.18 0.14\\n0.18 0.14\\n0.18 0.14\\n0.17 0.14\\n0.17 0.14\\n0.17 0.14\\n0.17 0.14\\n0.15 0.13\\n0.15 0.13\\n0.15 0.13\\n0.15 0.13\\n0.15 0.13\\n0.15 0.13\\n0.14 0.12\\n0.14 0.12\\n0.14 0.12\\n0.14 0.12\\n0.14 0.31\\n0.14 0.31\\n0.14 0.31\\n0.14 0.31\\n0.14 0.31\\n0.14 0.33\\n0.14 0.33\\n0.14 0.32\\n0.14 0.32\\n0.14 0.32\\n0.14 0.33\\n0.14 0.33\\n0.14 0.34\\n0.14 0.34\\n0.14 0.34\\n0.14 0.39\\n0.14 0.39\\n0.14 0.39\\n0.14 0.39\\n0.14 0.35\\n0.14 0.35\\n0.14 0.35\\n0.14 0.35\\n0.14 0.35\\n0.16 0.67\\n0.16 0.67\\n0.16 0.67\\n0.16 0.67\\n0.16 0.67\\n0.17 0.97\\n0.17 0.97\\n0.17 0.97\\n0.2 0.97\\n0.2 0.97\\n0.2 0.97\\n0.19 1.08\\n0.19 1.08\\n0.19 1.08\\n0.19 1.08\\n0.16 1.05\\n0.16 1.05\\n0.16 1.05\\n0.16 1.05\\n0.17 0.97\\n0.17 0.97\\n0.17 0.97\\n0.17 0.91\\n0.17 0.91\\n0.17 0.91\\n0.17 0.91\\n0.15 0.87\\n0.15 0.87\\n0.15 0.87\\n0.15 0.87\\n0.15 0.8\\n0.15 0.8\\n0.15 0.8\\n0.14 0.77\\n0.14 0.77\\n0.14 0.77\\n0.14 0.7\\n0.14 0.7\\n0.14 0.7\\n0.14 0.7\\n0.14 0.68\\n0.14 0.68\\n0.14 0.81\\n0.14 0.81\\n0.14 0.77\\n0.14 0.77\\n0.14 0.77\\n0.14 0.77\\n0.16 0.57\\n0.16 0.57\\n0.16 0.57\\n0.16 0.46\\n0.16 0.46\\n0.16 0.46\\n0.14 0.47\\n0.14 0.47\\n0.14 0.47\\n0.14 0.47\\n0.14 0.46\\n0.14 0.46\\n0.14 0.46\\n0.14 0.46\\n0.16 0.47\\n0.16 0.47\\n0.16 0.47\\n0.16 0.41\\n0.16 0.41\\n0.16 0.41\\n0.16 0.41\\n0.15 0.4\\n0.15 0.4\\n0.15 0.4\\n0.15 0.4\\n0.14 0.34\\n0.14 0.34\\n0.14 0.34\\n0.14 0.34\\n0.14 0.36\\n0.14 0.36\\n0.14 0.36\\n0.14 0.4\\n0.14 0.4\\n0.14 0.4\\n0.14 0.4\\n0.14 0.4\\n0.14 0.34\\n0.14 0.34\\n0.14 0.34\\n0.14 0.19\\n0.14 0.19\\n0.14 0.19\\n0.14 0.19\\n0.14 0.19\\n0.14 0.2\\n0.14 0.2\\n0.14 0.2\\n0.25 0.52\\n0.25 0.52\\n0.25 0.52\\n0.24 0.55\\n0.24 0.55\\n0.24 0.55\\n0.24 0.55\\n0.24 0.54\\n0.24 0.54\\n0.24 0.54\\n0.24 0.54\\n0.16 0.77\\n0.16 0.77\\n0.16 0.77\\n0.16 0.77\\n0.16 0.77\\n0.17 0.87\\n0.17 0.87\\n0.17 0.87\\n0.15 0.99\\n0.15 0.99\\n0.15 0.99\\n0.15 0.99\\n0.16 0.93\\n0.16 0.93\\n0.14 0.88\\n0.14 0.88\\n0.14 0.88\\n0.15 0.82\\n0.15 0.82\\n0.15 0.82\\n0.15 0.82\\n0.14 0.78\\n0.14 0.78\\n0.16 0.88\\n0.16 0.88\\n0.16 0.88\\n0.15 0.85\\n0.15 0.85\\n0.15 0.85\\n0.14 0.79\\n0.14 0.79\\n0.14 0.79\\n0.14 0.78\\n0.14 0.78\\n0.14 0.78\\n0.14 0.78\\n0.14 0.78\\n0.14 0.76\\n0.14 0.76\\n0.14 0.76\\n0.14 0.76\\n0.14 0.72\\n0.14 0.72\\n0.06 0.92\\n0.06 0.92\\n0.06 0.92\\n0.06 0.9\\n0.06 0.9\\n0.06 0.9\\n0.07 0.9\\n0.07 0.9\\n0.07 0.9\\n0.05 0.91\\n0.05 0.91\\n0.05 0.91\\n0.05 0.91\\n0.05 0.96\\n0.05 0.96\\n0.05 0.96\\n0.05 0.96\\n0.06 0.93\\n0.06 0.93\\n0.04 0.96\\n0.04 0.96\\n0.04 0.96\\n0.04 0.96\\n0.13 0.65\\n0.13 0.65\\n0.13 0.65\\n0.13 0.65\\n0.13 0.64\\n0.13 0.64\\n0.13 0.64\\n0.13 0.49\\n0.13 0.49\\n0.13 0.49\\n0.13 0.39\\n0.13 0.39\\n0.13 0.39\\n0.13 0.33\\n0.13 0.33\\n0.13 0.33\\n0.13 0.33\\n0.16 0.01\\n0.16 0.01\\n0.16 0.01\\n0.13 0.1\\n0.13 0.1\\n0.13 0.1\\n0.13 0.1\\n0.16 -0.08\\n0.16 -0.08\\n0.16 -0.08\\n0.17 -0.39\\n0.17 -0.39\\n0.17 -0.39\\n0.14 -0.47\\n0.14 -0.47\\n0.14 -0.47\\n0.18 -0.38\\n0.18 -0.38\\n0.18 -0.38\\n0.18 -0.38\\n0.18 -0.35\\n0.18 -0.35\\n0.18 -0.35\\n0.18 -0.4\\n0.18 -0.4\\n0.18 -0.4\\n0.16 -0.34\\n0.16 -0.34\\n0.16 -0.34\\n0.16 -0.34\\n0.15 -0.27\\n0.15 -0.27\\n0.15 -0.27\\n0.15 -0.27\\n0.15 -0.27\\n0.15 -0.26\\n0.15 -0.26\\n0.15 -0.26\\n0.15 -0.26\\n0.15 -0.26\\n0.15 -0.33\\n0.15 -0.33\\n0.15 -0.33\\n0.15 -0.33\\n0.15 -0.32\\n0.15 -0.32\\n0.15 -0.32\\n0.15 -0.32\\n0.15 -0.24\\n0.15 -0.24\\n0.14 -0.2\\n0.14 -0.2\\n0.14 -0.2\\n0.14 -0.2\\n0.14 -0.18\\n0.14 -0.18\\n0.14 -0.18\\n0.14 -0.28\\n0.14 -0.28\\n0.14 -0.3\\n0.14 -0.3\\n0.14 -0.3\\n0.14 -0.3\\n0.25 -0.03\\n0.25 -0.03\\n0.25 -0.03\\n0.25 -0.03\\n0.25 -0.03\\n0.25 -0.03\\n0.25 -0.1\\n0.25 -0.1\\n0.25 -0.1\\n0.25 -0.06\\n0.25 -0.06\\n0.25 -0.06\\n0.25 -0.06\\n0.25 -0.0\\n0.25 -0.0\\n0.25 -0.0\\n0.25 -0.0\\n0.25 0.04\\n0.25 0.04\\n0.25 0.04\\n0.25 0.04\\n0.25 0.06\\n0.25 0.06\\n0.25 0.06\\n0.25 0.06\\n0.25 0.04\\n0.25 0.04\\n0.25 0.04\\n0.25 0.1\\n0.25 0.1\\n0.25 0.1\\n0.25 -0.01\\n0.25 -0.01\\n0.25 -0.01\\n0.25 0.14\\n0.25 0.14\\n0.25 0.14\\n0.25 0.14\\n0.25 0.09\\n0.25 0.09\\n0.25 0.09\\n0.25 0.09\\n0.25 0.09\\n0.25 0.1\\n0.25 0.1\\n0.25 0.1\\n0.25 0.17\\n0.25 0.17\\n0.25 0.17\\n0.25 0.17\\n0.25 0.19\\n0.25 0.19\\n0.25 0.19\\n0.25 0.1\\n0.25 0.1\\n0.25 0.1\\n0.25 0.1\\n0.25 0.09\\n0.25 0.09\\n0.25 0.09\\n0.25 0.09\\n0.25 0.09\\n0.25 0.15\\n0.25 0.15\\n0.25 0.15\\n0.25 0.15\\n0.25 0.19\\n0.25 0.19\\n0.25 0.19\\n0.25 0.21\\n0.25 0.21\\n0.25 0.21\\n0.25 0.21\\n0.25 0.19\\n0.25 0.19\\n0.25 0.19\\n0.25 0.19\\n0.25 0.11\\n0.25 0.11\\n0.25 0.11\\n0.25 0.11\\n0.25 0.12\\n0.25 0.12\\n0.25 0.12\\n0.25 0.13\\n0.25 0.13\\n0.25 0.19\\n0.25 0.19\\n0.25 0.19\\n0.25 0.13\\n0.25 0.13\\n0.25 0.13\\n0.25 0.13\\n0.25 0.12\\n0.25 0.12\\n0.25 0.15\\n0.25 0.15\\n0.25 0.15\\n0.25 0.15\\n0.25 0.15\\n0.25 0.14\\n0.25 0.14\\n0.25 0.14\\n0.25 0.14\\n0.25 0.18\\n0.25 0.18\\n0.25 0.18\\n0.25 0.18\\n0.25 0.1\\n0.25 0.1\\n0.25 0.1\\n0.25 0.11\\n0.25 0.11\\n0.25 0.11\\n0.25 0.11\\n0.25 0.11\\n0.25 0.11\\n0.25 0.11\\n0.25 0.16\\n0.25 0.16\\n0.25 0.16\\n0.25 0.19\\n0.25 0.19\\n0.25 0.19\\n0.25 0.19\\n0.25 0.16\\n0.25 0.16\\n0.25 0.16\\n0.25 0.14\\n0.25 0.14\\n0.25 0.14\\n0.25 0.14\\n0.25 0.14\\n0.25 0.14\\n0.25 0.14\\n0.25 0.14\\n0.25 0.12\\n0.25 0.12\\n0.25 0.12\\n0.25 0.12\\n0.25 0.11\\n0.25 0.11\\n0.25 0.11\\n0.25 0.12\\n0.25 0.12\\n0.25 0.12\\n0.25 0.12\\n0.25 0.09\\n0.25 0.09\\n0.25 0.09\\n0.25 0.09\\n0.25 0.06\\n0.25 0.06\\n0.25 0.06\\n0.25 0.13\\n0.25 0.13\\n0.25 0.13\\n0.25 0.08\\n0.25 0.08\\n0.25 0.08\\n0.25 0.03\\n0.25 0.03\\n0.25 0.03\\n0.25 0.03\\n0.25 0.04\\n0.25 0.04\\n0.25 0.04\\n0.25 0.04\\n0.25 0.05\\n0.25 0.05\\n0.25 0.05\\n0.25 0.05\\n0.25 0.07\\n0.25 0.07\\n0.25 0.07\\n0.25 0.07\\n0.25 0.07\\n0.25 0.03\\n0.25 0.03\\n0.25 0.03\\n0.25 0.02\\n0.25 0.02\\n0.25 0.05\\n0.25 0.05\\n0.25 0.05\\n0.25 0.05\\n0.25 -0.03\\n0.25 -0.03\\n0.25 -0.03\\n0.25 -0.02\\n0.25 -0.02\\n0.25 -0.02\\n0.25 -0.02\\n0.25 -0.04\\n0.25 -0.04\\n0.25 -0.03\\n0.25 -0.03\\n0.25 -0.03\\n0.25 -0.03\\n0.25 -0.03\\n0.25 -0.03\\n0.25 -0.03\\n0.25 -0.07\\n0.25 -0.07\\n0.25 -0.07\\n0.25 -0.07\\n0.25 -0.07\\n0.25 -0.1\\n0.25 -0.1\\n0.25 -0.08\\n0.25 -0.08\\n0.25 -0.08\\n0.25 -0.12\\n0.25 -0.12\\n0.25 -0.12\\n0.25 -0.12\\n0.25 -0.12\\n0.25 -0.12\\n0.25 -0.11\\n0.25 -0.11\\n0.25 -0.11\\n0.25 -0.11\\n0.25 -0.11\\n0.25 -0.13\\n0.25 -0.13\\n0.25 -0.13\\n0.25 -0.13\\n0.25 -0.17\\n0.25 -0.17\\n0.25 -0.13\\n0.25 -0.13\\n0.25 -0.13\\n0.25 -0.14\\n0.25 -0.14\\n0.25 -0.14\\n0.25 -0.14\\n0.25 -0.15\\n0.25 -0.15\\n0.25 -0.15\\n0.25 -0.15\\n0.25 -0.15\\n0.25 -0.19\\n0.25 -0.19\\n0.25 -0.19\\n0.25 -0.16\\n0.25 -0.16\\n0.25 -0.15\\n0.25 -0.15\\n0.25 -0.15\\n0.25 -0.15\\n0.25 -0.17\\n0.25 -0.17\\n0.25 -0.17\\n0.25 -0.17\\n0.25 -0.17\\n0.25 -0.17\\n0.25 -0.14\\n0.25 -0.14\\n0.25 -0.14\\n0.25 -0.14\\n0.25 -0.12\\n0.25 -0.12\\n0.25 -0.12\\n0.25 -0.12\\n0.25 -0.11\\n0.25 -0.11\\n0.25 -0.11\\n0.25 -0.11\\n0.23 -0.1\\n0.23 -0.1\\n0.23 -0.1\\n0.23 -0.1\\n0.25 -0.11\\n0.25 -0.11\\n0.25 -0.11\\n0.25 -0.2\\n0.25 -0.2\\n0.25 -0.2\\n0.25 -0.2\\n0.25 -0.19\\n0.25 -0.19\\n0.25 -0.19\\n0.25 -0.19\\n0.25 -0.24\\n0.25 -0.24\\n0.25 -0.24\\n0.25 -0.24\\n0.25 -0.18\\n0.25 -0.18\\n0.25 -0.18\\n0.25 -0.17\\n0.25 -0.17\\n0.25 -0.17\\n0.23 -0.15\\n0.23 -0.15\\n0.23 -0.15\\n0.22 -0.14\\n0.22 -0.14\\n0.22 -0.14\\n0.22 -0.14\\n0.21 -0.17\\n0.21 -0.17\\n0.2 -0.13\\n0.2 -0.13\\n0.2 -0.13\\n0.2 -0.13\\n0.19 -0.15\\n0.19 -0.15\\n0.19 -0.15\\n0.19 -0.15\\n0.18 -0.11\\n0.18 -0.11\\n0.18 -0.11\\n0.18 -0.11\\n0.17 -0.14\\n0.17 -0.14\\n0.17 -0.14\\n0.17 -0.1\\n0.17 -0.1\\n0.17 -0.1\\n0.17 -0.1\\n0.15 -0.08\\n0.15 -0.08\\n0.15 -0.08\\n0.15 -0.08\\n0.15 -0.08\\n0.15 -0.08\\n0.15 -0.08\\n0.25 -0.4\\n0.25 -0.4\\n0.25 -0.4\\n0.25 -0.4\\n0.25 -0.4\\n0.25 -0.4\\n0.25 -0.43\\n0.25 -0.43\\n0.25 -0.43\\n0.25 -0.43\\n0.25 -0.59\\n0.25 -0.59\\n0.25 -0.59\\n0.25 -0.59\\n0.25 -0.57\\n0.25 -0.57\\n0.25 -0.57\\n0.25 -0.56\\n0.25 -0.56\\n0.25 -0.56\\n0.25 -0.51\\n0.25 -0.51\\n0.25 -0.51\\n0.25 -0.51\\n0.25 -0.51\\n0.25 -0.51\\n0.25 -0.44\\n0.25 -0.44\\n0.25 -0.41\\n0.25 -0.41\\n0.25 -0.41\\n0.25 -0.38\\n0.25 -0.38\\n0.25 -0.38\\n0.25 -0.38\\n0.25 -0.24\\n0.25 -0.24\\n0.25 -0.24\\n0.25 -0.34\\n0.25 -0.34\\n0.25 -0.34\\n0.25 -0.34\\n0.25 -0.34\\n0.25 -0.25\\n0.25 -0.25\\n0.25 -0.25\\n0.25 -0.25\\n0.25 -0.27\\n0.25 -0.27\\n0.25 -0.27\\n0.25 -0.21\\n0.25 -0.21\\n0.25 -0.21\\n0.25 -0.2\\n0.25 -0.2\\n0.25 -0.2\\n0.25 -0.2\\n0.25 -0.2\\n0.25 -0.14\\n0.25 -0.14\\n0.25 -0.14\\n0.25 -0.14\\n0.25 -0.13\\n0.25 -0.13\\n0.25 -0.13\\n0.25 -0.08\\n0.25 -0.08\\n0.25 -0.08\\n0.25 -0.07\\n0.25 -0.07\\n0.25 -0.07\\n0.25 -0.08\\n0.25 -0.08\\n0.25 -0.08\\n0.25 -0.08\\n0.25 -0.07\\n0.25 -0.07\\n0.25 -0.07\\n0.25 -0.07\\n0.25 -0.07\\n0.25 -0.07\\n0.25 -0.07\\n0.25 -0.07\\n0.25 -0.07\\n0.25 -0.07\\n0.25 -0.06\\n0.25 -0.06\\n0.25 -0.06\\n0.25 -0.06\\n0.25 -0.07\\n0.25 -0.07\\n0.25 -0.07\\n0.25 -0.07\\n0.25 -0.06\\n0.25 -0.06\\n0.25 -0.06\\n0.25 -0.06\\n0.25 -0.06\\n0.25 -0.06\\n0.25 -0.05\\n0.25 -0.05\\n0.25 -0.05\\n0.25 -0.05\\n0.25 -0.05\\n0.25 -0.05\\n0.25 -0.06\\n0.25 -0.06\\n0.25 -0.06\\n0.25 -0.06\\n0.25 -0.06\\n0.25 -0.06\\n0.25 -0.05\\n0.25 -0.05\\n0.25 -0.05\\n0.25 -0.06\\n0.25 -0.06\\n0.25 -0.06\\n0.25 -0.06\\n0.23 -0.05\\n0.23 -0.05\\n0.23 -0.05\\n0.23 -0.05\\n0.23 -0.05\\n0.23 -0.05\\n0.23 -0.05\\n0.23 -0.05\\n0.14 0.27\\n0.14 0.27\\n0.14 0.27\\n0.14 0.27\\n0.15 0.27\\n0.15 0.27\\n0.15 0.27\\n0.24 0.58\\n0.24 0.58\\n0.24 0.58\\n0.24 0.58\\n0.25 0.51\\n0.25 0.51\\n0.25 0.51\\n0.25 0.51\\n0.25 0.42\\n0.25 0.42\\n0.25 0.42\\n0.25 0.42\\n0.25 0.63\\n0.25 0.63\\n0.25 0.63\\n0.25 0.59\\n0.25 0.59\\n0.25 0.59\\n0.25 0.59\\n0.25 0.56\\n0.25 0.56\\n0.25 0.56\\n0.25 0.56\\n0.25 0.52\\n0.25 0.52\\n0.25 0.52\\n0.23 0.51\\n0.23 0.51\\n0.23 0.51\\n0.25 0.44\\n0.25 0.44\\n0.25 0.44\\n0.25 0.44\\n0.25 0.34\\n0.25 0.34\\n0.25 0.34\\n0.25 0.34\\n0.25 0.29\\n0.25 0.29\\n0.25 0.29\\n0.25 0.29\\n0.25 0.32\\n0.25 0.32\\n0.25 0.32\\n0.25 0.27\\n0.25 0.27\\n0.25 0.27\\n0.25 0.25\\n0.25 0.25\\n0.25 0.25\\n0.25 0.25\\n0.25 0.24\\n0.25 0.24\\n0.25 0.24\\n0.25 0.16\\n0.25 0.16\\n0.25 0.16\\n0.25 0.16\\n0.25 0.24\\n0.25 0.24\\n0.25 0.24\\n0.25 0.24\\n0.25 0.24\\n0.23 0.12\\n0.23 0.12\\n0.23 0.12\\n0.22 0.1\\n0.22 0.1\\n0.22 0.1\\n0.22 0.1\\n0.25 0.17\\n0.25 0.17\\n0.25 0.17\\n0.25 0.17\\n0.25 0.17\\n0.25 0.18\\n0.25 0.18\\n0.25 0.18\\n0.25 0.17\\n0.25 0.17\\n0.25 0.17\\n0.25 0.17\\n0.25 0.18\\n0.25 0.18\\n0.25 0.18\\n0.25 0.17\\n0.25 0.17\\n0.25 0.17\\n0.23 0.16\\n0.23 0.16\\n0.23 0.16\\n0.22 0.13\\n0.22 0.13\\n0.22 0.13\\n0.22 0.13\\n0.2 0.12\\n0.2 0.12\\n0.2 0.12\\n0.2 0.12\\n0.2 0.12\\n0.19 0.13\\n0.19 0.13\\n0.19 0.13\\n0.19 0.13\\n0.18 0.13\\n0.18 0.13\\n0.18 0.13\\n0.15 0.09\\n0.15 0.09\\n0.15 0.09\\n0.17 0.11\\n0.17 0.11\\n0.17 0.11\\n0.17 0.11\\n0.17 0.11\\n0.15 0.1\\n0.15 0.1\\n0.15 0.1\\n0.15 0.09\\n0.15 0.09\\n0.15 0.09\\n0.15 0.09\\n0.16 0.2\\n0.16 0.2\\n0.16 0.2\\n0.13 0.07\\n0.13 0.07\\n0.13 0.07\\n0.14 0.05\\n0.14 0.05\\n0.14 0.05\\n0.18 0.07\\n0.18 0.07\\n0.18 0.07\\n0.18 0.07\\n0.13 0.08\\n0.13 0.08\\n0.13 0.08\\n0.13 0.08\\n0.0 0.0\\n0.13 -0.02\\n0.13 -0.02\\n0.15 -0.05\\n0.15 -0.05\\n0.15 -0.05\\n0.15 -0.05\\n0.14 0.15\\n0.14 0.15\\n0.14 0.15\\n0.14 0.15\\n0.14 0.15\\n-0.15 0.3\\n0.2 -0.35\\n0.2 -0.35\\n0.2 -0.35\\n0.2 -0.35\\n0.23 -0.2\\n0.23 -0.2\\n0.23 -0.2\\n0.23 -0.2\\n0.14 -0.07\\n0.14 -0.07\\n0.14 -0.07\\n0.22 -0.1\\n0.22 -0.1\\n0.22 -0.1\\n0.25 -0.32\\n0.25 -0.32\\n0.25 -0.32\\n0.25 -0.32\\n0.25 -0.4\\n0.25 -0.4\\n0.25 -0.4\\n0.25 -0.35\\n0.25 -0.35\\n0.25 -0.35\\n0.25 -0.35\\n0.25 -0.38\\n0.25 -0.38\\n0.25 -0.38\\n0.25 -0.39\\n0.25 -0.39\\n0.25 -0.39\\n0.25 -0.4\\n0.25 -0.4\\n0.25 -0.4\\n0.25 -0.4\\n0.25 -0.4\\n0.25 -0.4\\n0.25 -0.4\\n0.25 -0.4\\n0.25 -0.39\\n0.25 -0.39\\n0.25 -0.39\\n0.25 -0.39\\n0.25 -0.45\\n0.25 -0.45\\n0.25 -0.45\\n0.25 -0.45\\n0.25 -0.45\\n0.25 -0.45\\n0.25 -0.45\\n0.25 -0.5\\n0.25 -0.5\\n0.25 -0.5\\n0.23 -0.48\\n0.23 -0.48\\n0.23 -0.48\\n0.23 -0.48\\n0.25 -0.46\\n0.25 -0.46\\n0.25 -0.46\\n0.25 -0.46\\n0.25 -0.46\\n0.25 -0.39\\n0.25 -0.39\\n0.25 -0.35\\n0.25 -0.35\\n0.25 -0.35\\n0.25 -0.37\\n0.25 -0.37\\n0.25 -0.37\\n0.25 -0.37\\n0.25 -0.29\\n0.25 -0.29\\n0.25 -0.29\\n0.25 -0.29\\n0.25 -0.28\\n0.25 -0.28\\n0.25 -0.28\\n0.25 -0.28\\n0.25 -0.24\\n0.25 -0.24\\n0.25 -0.24\\n0.25 -0.24\\n0.25 -0.24\\n0.25 -0.24\\n0.25 -0.24\\n0.25 -0.24\\n0.25 -0.24\\n0.25 -0.2\\n0.25 -0.2\\n0.25 -0.2\\n0.25 -0.2\\n0.25 -0.26\\n0.25 -0.26\\n0.25 -0.26\\n0.25 -0.26\\n0.25 -0.16\\n0.25 -0.16\\n0.25 -0.16\\n0.25 -0.16\\n0.25 -0.09\\n0.25 -0.09\\n0.25 -0.09\\n0.25 -0.09\\n0.25 -0.06\\n0.25 -0.06\\n0.25 -0.06\\n0.25 -0.06\\n0.25 -0.06\\n0.25 -0.03\\n0.25 -0.03\\n0.25 -0.03\\n0.25 -0.08\\n0.25 -0.08\\n0.25 -0.08\\n0.25 -0.05\\n0.25 -0.05\\n0.25 -0.05\\n0.25 -0.05\\n0.25 -0.05\\n0.25 -0.01\\n0.25 -0.01\\n0.25 -0.01\\n0.25 -0.01\\n0.25 -0.01\\n0.25 -0.07\\n0.25 -0.07\\n0.25 -0.07\\n0.25 -0.07\\n0.25 -0.0\\n0.25 -0.0\\n0.25 -0.0\\n0.25 -0.0\\n0.25 0.05\\n0.25 0.05\\n0.25 0.05\\n0.25 0.05\\n0.25 0.06\\n0.25 0.06\\n0.25 0.06\\n0.25 0.06\\n0.25 -0.01\\n0.25 -0.01\\n0.25 -0.01\\n0.25 -0.01\\n0.25 0.04\\n0.25 0.04\\n0.25 0.04\\n0.25 0.08\\n0.25 0.08\\n0.25 0.08\\n0.25 0.08\\n0.25 0.08\\n0.25 0.09\\n0.25 0.09\\n0.25 0.09\\n0.25 0.01\\n0.25 0.01\\n0.25 0.04\\n0.25 0.04\\n0.25 0.04\\n0.25 0.04\\n0.25 0.08\\n0.25 0.08\\n0.25 0.08\\n0.25 0.04\\n0.25 0.04\\n0.25 0.04\\n0.25 0.03\\n0.25 0.03\\n0.25 0.03\\n0.25 0.03\\n0.25 0.05\\n0.25 0.05\\n0.25 0.05\\n0.25 0.01\\n0.25 0.01\\n0.25 0.01\\n0.25 0.01\\n0.25 0.02\\n0.25 0.02\\n0.25 0.02\\n0.25 0.02\\n0.25 0.02\\n0.25 0.06\\n0.25 0.06\\n0.25 0.01\\n0.25 0.01\\n0.25 0.01\\n0.25 0.03\\n0.25 0.03\\n0.25 0.03\\n0.25 0.03\\n0.25 0.04\\n0.25 0.04\\n0.25 0.04\\n0.25 0.04\\n0.25 -0.02\\n0.25 -0.02\\n0.25 -0.02\\n0.25 -0.07\\n0.25 -0.07\\n0.25 -0.07\\n0.25 -0.01\\n0.25 -0.01\\n0.25 -0.01\\n0.25 -0.01\\n0.25 -0.06\\n0.25 -0.06\\n0.25 -0.06\\n0.25 -0.05\\n0.25 -0.05\\n0.25 -0.05\\n0.25 -0.05\\n0.25 -0.06\\n0.25 -0.06\\n0.25 -0.06\\n0.25 -0.12\\n0.25 -0.12\\n0.25 -0.12\\n0.25 -0.11\\n0.25 -0.11\\n0.25 -0.11\\n0.25 -0.11\\n0.25 -0.07\\n0.25 -0.07\\n0.25 -0.11\\n0.25 -0.11\\n0.25 -0.11\\n0.25 -0.11\\n0.25 -0.13\\n0.25 -0.13\\n0.25 -0.13\\n0.25 -0.13\\n0.25 -0.04\\n0.25 -0.04\\n0.25 -0.04\\n0.25 -0.04\\n0.25 -0.04\\n0.25 -0.1\\n0.25 -0.1\\n0.25 -0.1\\n0.25 -0.1\\n0.25 -0.1\\n0.25 -0.01\\n0.25 -0.01\\n0.25 -0.01\\n0.25 -0.06\\n0.25 -0.06\\n0.25 -0.06\\n0.25 -0.06\\n0.25 -0.1\\n0.25 -0.1\\n0.25 -0.1\\n0.25 -0.02\\n0.25 -0.02\\n0.25 -0.02\\n0.25 -0.02\\n0.25 -0.05\\n0.25 -0.05\\n0.25 -0.05\\n0.25 -0.06\\n0.25 -0.06\\n0.25 -0.06\\n0.25 -0.06\\n0.25 -0.14\\n0.25 -0.14\\n0.25 -0.14\\n0.25 -0.2\\n0.25 -0.2\\n0.25 -0.2\\n0.25 -0.19\\n0.25 -0.19\\n0.25 -0.19\\n0.25 -0.19\\n0.25 -0.19\\n0.23 -0.21\\n0.23 -0.21\\n0.23 -0.21\\n0.23 -0.21\\n0.23 -0.21\\n0.25 -0.13\\n0.25 -0.13\\n0.25 -0.13\\n0.25 -0.13\\n0.25 -0.15\\n0.25 -0.15\\n0.25 -0.15\\n0.25 -0.15\\n0.23 -0.14\\n0.23 -0.14\\n0.23 -0.14\\n0.22 -0.13\\n0.22 -0.13\\n0.22 -0.13\\n0.21 -0.11\\n0.21 -0.11\\n0.21 -0.11\\n0.21 -0.11\\n0.21 -0.11\\n0.2 -0.13\\n0.2 -0.13\\n0.2 -0.13\\n0.2 -0.13\\n0.19 -0.09\\n0.19 -0.09\\n0.19 -0.09\\n0.19 -0.09\\n0.18 -0.11\\n0.18 -0.11\\n0.18 -0.11\\n0.18 -0.11\\n0.18 -0.11\\n0.17 -0.1\\n0.17 -0.1\\n0.17 -0.1\\n0.17 -0.05\\n0.17 -0.05\\n0.17 -0.05\\n0.17 -0.05\\n0.17 -0.02\\n0.17 -0.02\\n0.17 -0.02\\n0.15 -0.03\\n0.15 -0.03\\n0.15 -0.03\\n0.15 -0.03\\n0.15 -0.04\\n0.15 -0.04\\n0.15 -0.04\\n0.15 -0.04\\n0.15 -0.04\\n0.15 -0.02\\n0.15 -0.02\\n0.15 -0.02\\n0.14 -0.06\\n0.14 -0.06\\n0.14 -0.06\\n0.14 -0.06\\n0.14 -0.07\\n0.14 -0.07\\n0.14 -0.07\\n0.14 -0.07\\n0.14 -0.05\\n0.14 -0.05\\n0.14 -0.05\\n0.14 -0.07\\n0.14 -0.07\\n0.14 -0.07\\n0.14 -0.08\\n0.14 -0.08\\n0.14 -0.08\\n0.14 -0.08\\n0.14 0.02\\n0.14 0.02\\n0.14 0.02\\n0.15 -0.02\\n0.15 -0.02\\n0.15 -0.02\\n0.15 -0.05\\n0.15 -0.05\\n0.15 -0.05\\n0.15 -0.05\\n0.15 -0.05\\n0.15 -0.05\\n0.15 -0.05\\n0.15 0.06\\n0.15 0.06\\n0.15 0.06\\n0.14 0.0\\n0.14 0.0\\n0.14 0.0\\n0.14 0.0\\n0.14 -0.01\\n0.14 -0.01\\n0.14 -0.01\\n0.14 -0.01\\n0.14 0.01\\n0.14 0.01\\n0.14 0.01\\n0.0 0.0\\n0.0 0.9\\n0.0 0.9\\n0.0 0.9\\n0.0 0.9\\n0.0 0.9\\n0.0 0.9\\n0.0 0.9\\n0.0 1.1\\n0.0 1.1\\n0.0 1.1\\n0.0 1.15\\n0.0 1.15\\n0.0 1.15\\n0.0 1.46\\n0.0 1.46\\n0.0 1.46\\n0.0 1.46\\n0.0 1.46\\n0.0 1.46\\n0.0 1.46\\n0.0 1.46\\n0.0 1.46\\n0.0 1.31\\n0.0 1.31\\n0.0 1.31\\n0.0 1.31\\n0.0 1.18\\n0.0 1.18\\n0.0 1.18\\n0.0 1.18\\n0.0 1.06\\n0.0 1.06\\n0.0 0.94\\n0.0 0.94\\n0.0 0.94\\n0.0 0.9\\n0.0 0.9\\n0.0 0.9\\n0.0 0.9\\n0.0 0.9\\n0.0 0.9\\n0.0 0.9\\n0.0 0.9\\n0.0 0.9\\n0.0 0.9\\n0.0 0.9\\n0.0 0.9\\n0.0 0.9\\n0.0 0.9\\n0.0 0.9\\n0.0 0.9\\n0.0 0.9\\n0.0 0.9\\n0.0 0.9\\n0.0 0.9\\n0.0 0.9\\n0.0 0.9\\n0.0 0.9\\n0.0 0.9\\n0.0 0.9\\n0.0 0.9\\n0.0 0.9\\n0.0 0.9\\n0.0 0.9\\n0.0 0.9\\n0.0 0.9\\n0.16 1.18\\n0.16 1.18\\n0.16 1.18\\n0.16 1.14\\n0.16 1.14\\n0.16 1.14\\n0.16 1.14\\n0.2 1.17\\n0.2 1.17\\n0.19 1.12\\n0.19 1.12\\n0.19 1.12\\n0.19 1.12\\n0.17 1.08\\n0.17 1.08\\n0.17 1.08\\n0.17 1.01\\n0.17 1.01\\n0.17 1.01\\n0.17 1.01\\n0.11 0.9\\n0.11 0.9\\n0.11 0.9\\n0.25 1.12\\n0.25 1.12\\n0.25 1.12\\n0.25 1.12\\n0.24 1.04\\n0.24 1.04\\n0.24 1.04\\n0.24 1.04\\n0.23 0.98\\n0.23 0.98\\n0.23 0.98\\n0.23 0.96\\n0.23 0.96\\n0.23 0.96\\n0.23 0.96\\n0.21 0.88\\n0.21 0.88\\n0.21 0.88\\n0.21 0.88\\n0.2 0.82\\n0.2 0.82\\n0.2 0.79\\n0.2 0.79\\n0.2 0.79\\n0.2 0.79\\n0.18 0.73\\n0.18 0.73\\n0.18 0.73\\n0.18 0.73\\n0.19 0.6\\n0.19 0.6\\n0.19 0.6\\n0.16 0.65\\n0.16 0.65\\n0.16 0.65\\n0.16 0.65\\n0.15 0.62\\n0.15 0.62\\n0.15 0.62\\n0.15 0.59\\n0.15 0.59\\n0.15 0.59\\n0.15 0.59\\n0.14 0.57\\n0.14 0.57\\n0.14 0.57\\n0.14 0.54\\n0.14 0.54\\n0.14 0.54\\n0.14 0.51\\n0.14 0.51\\n0.14 0.51\\n0.14 0.51\\n0.14 0.5\\n0.14 0.5\\n0.14 0.5\\n0.14 0.5\\n0.14 0.5\\n0.14 0.5\\n0.14 0.5\\n0.14 0.45\\n0.14 0.45\\n0.14 0.45\\n0.14 0.65\\n0.14 0.65\\n0.14 0.65\\n0.14 0.65\\n0.14 0.61\\n0.14 0.61\\n0.14 0.61\\n0.14 0.61\\n0.14 0.55\\n0.14 0.55\\n0.14 0.55\\n0.14 0.52\\n0.14 0.52\\n0.14 0.52\\n0.14 0.53\\n0.14 0.53\\n0.14 0.53\\n0.14 0.53\\n0.14 0.53\\n0.14 0.53\\n0.14 0.53\\n0.25 0.33\\n0.25 0.33\\n0.25 0.33\\n0.25 0.33\\n0.25 0.33\\n0.25 0.32\\n0.25 0.32\\n0.25 0.32\\n0.25 0.32\\n0.25 0.32\\n0.25 0.27\\n0.25 0.27\\n0.25 0.27\\n0.25 0.27\\n0.25 0.22\\n0.25 0.22\\n0.25 0.22\\n0.25 0.22\\n0.25 0.16\\n0.25 0.16\\n0.25 0.18\\n0.25 0.18\\n0.25 0.18\\n0.25 0.16\\n0.25 0.16\\n0.25 0.16\\n0.25 0.16\\n0.25 0.18\\n0.25 0.18\\n0.25 0.18\\n0.25 0.15\\n0.25 0.15\\n0.25 0.15\\n0.23 0.15\\n0.23 0.15\\n0.23 0.15\\n0.25 0.19\\n0.25 0.19\\n0.25 0.19\\n0.24 0.18\\n0.24 0.18\\n0.24 0.18\\n0.25 0.11\\n0.25 0.11\\n0.25 0.11\\n0.25 0.11\\n0.25 0.1\\n0.25 0.1\\n0.25 0.1\\n0.25 0.1\\n0.23 0.09\\n0.23 0.09\\n0.23 0.09\\n0.22 0.12\\n0.22 0.12\\n0.22 0.12\\n0.22 0.12\\n0.21 0.08\\n0.21 0.08\\n0.21 0.08\\n0.2 0.12\\n0.2 0.12\\n0.2 0.12\\n0.2 0.12\\n0.2 0.12\\n0.19 0.05\\n0.19 0.05\\n0.19 0.05\\n0.18 0.06\\n0.18 0.06\\n0.18 0.06\\n0.17 0.12\\n0.17 0.12\\n0.17 0.12\\n0.15 0.07\\n0.15 0.07\\n0.15 0.07\\n0.15 0.07\\n0.17 0.09\\n0.17 0.09\\n0.17 0.09\\n0.17 0.09\\n0.17 0.09\\n0.17 0.09\\n0.17 0.09\\n0.25 0.36\\n0.25 0.36\\n0.25 0.36\\n0.25 0.36\\n0.25 0.35\\n0.25 0.35\\n0.25 0.35\\n0.25 0.35\\n0.25 0.39\\n0.25 0.39\\n0.25 0.39\\n0.25 0.39\\n0.25 0.32\\n0.25 0.32\\n0.25 0.32\\n0.25 0.36\\n0.25 0.36\\n0.25 0.36\\n0.25 0.36\\n0.25 0.27\\n0.25 0.27\\n0.25 0.27\\n0.25 0.25\\n0.25 0.25\\n0.25 0.21\\n0.25 0.21\\n0.25 0.21\\n0.25 0.19\\n0.25 0.19\\n0.25 0.19\\n0.25 0.19\\n0.25 0.12\\n0.25 0.12\\n0.25 0.12\\n0.25 0.12\\n0.25 0.12\\n0.25 0.23\\n0.25 0.23\\n0.25 0.23\\n0.25 0.23\\n0.25 0.14\\n0.25 0.14\\n0.25 0.14\\n0.25 0.14\\n0.25 0.14\\n0.25 0.08\\n0.25 0.08\\n0.25 0.08\\n0.25 0.08\\n0.25 0.05\\n0.25 0.05\\n0.25 0.05\\n0.25 0.05\\n0.25 0.09\\n0.25 0.09\\n0.25 0.09\\n0.25 0.09\\n0.25 0.09\\n0.25 0.04\\n0.25 0.04\\n0.25 0.04\\n0.25 0.02\\n0.25 0.02\\n0.25 0.02\\n0.25 0.08\\n0.25 0.08\\n0.25 0.08\\n0.25 0.08\\n0.25 0.01\\n0.25 0.01\\n0.25 0.01\\n0.25 0.01\\n0.25 0.01\\n0.25 0.0\\n0.25 0.0\\n0.25 0.0\\n0.25 0.05\\n0.25 0.05\\n0.25 0.05\\n0.25 -0.0\\n0.25 -0.0\\n0.25 -0.0\\n0.25 -0.0\\n0.25 -0.0\\n0.25 -0.01\\n0.25 -0.01\\n0.25 -0.04\\n0.25 -0.04\\n0.25 -0.04\\n0.25 -0.04\\n0.25 -0.01\\n0.25 -0.01\\n0.25 -0.01\\n0.25 -0.01\\n0.25 -0.02\\n0.25 -0.02\\n0.25 -0.02\\n0.25 -0.02\\n0.25 0.03\\n0.25 0.03\\n0.25 0.03\\n0.25 0.03\\n0.25 0.03\\n0.25 0.03\\n0.25 0.03\\n0.25 0.03\\n0.25 0.03\\n0.25 -0.07\\n0.25 -0.07\\n0.25 -0.07\\n0.25 -0.07\\n0.25 -0.07\\n0.25 -0.07\\n0.25 -0.07\\n0.25 -0.07\\n0.23 -0.06\\n0.23 -0.06\\n0.23 -0.06\\n0.25 -0.07\\n0.25 -0.07\\n0.25 -0.07\\n0.25 -0.11\\n0.25 -0.11\\n0.25 -0.11\\n0.25 -0.11\\n0.25 -0.11\\n0.25 -0.11\\n0.25 -0.11\\n0.25 -0.11\\n0.25 -0.14\\n0.25 -0.14\\n0.25 -0.14\\n0.25 -0.14\\n0.25 -0.13\\n0.25 -0.13\\n0.25 -0.13\\n0.25 -0.13\\n0.23 -0.14\\n0.23 -0.14\\n0.23 -0.14\\n0.22 -0.15\\n0.22 -0.15\\n0.22 -0.15\\n0.22 -0.15\\n0.21 -0.11\\n0.21 -0.11\\n0.21 -0.11\\n0.21 -0.11\\n0.21 -0.11\\n0.21 -0.11\\n0.2 -0.12\\n0.2 -0.12\\n0.2 -0.12\\n0.2 -0.12\\n0.25 -0.34\\n0.25 -0.34\\n0.25 -0.34\\n0.25 -0.34\\n0.25 -0.34\\n0.2 -0.31\\n0.2 -0.31\\n0.2 -0.31\\n0.2 -0.31\\n0.25 -0.39\\n0.25 -0.39\\n0.25 -0.39\\n0.25 -0.39\\n0.25 -0.38\\n0.25 -0.38\\n0.25 -0.38\\n0.25 -0.38\\n0.25 -0.37\\n0.25 -0.37\\n0.25 -0.37\\n0.25 -0.36\\n0.25 -0.36\\n0.25 -0.36\\n0.25 -0.39\\n0.25 -0.39\\n0.25 -0.39\\n0.25 -0.39\\n0.25 -0.39\\n0.25 -0.38\\n0.25 -0.38\\n0.25 -0.38\\n0.25 -0.35\\n0.25 -0.35\\n0.25 -0.34\\n0.25 -0.34\\n0.25 -0.34\\n0.25 -0.35\\n0.25 -0.35\\n0.25 -0.35\\n0.25 -0.35\\n0.25 -0.35\\n0.25 -0.35\\n0.25 -0.35\\n0.25 -0.31\\n0.25 -0.31\\n0.25 -0.31\\n0.25 -0.31\\n0.25 -0.3\\n0.25 -0.3\\n0.25 -0.3\\n0.25 -0.31\\n0.25 -0.31\\n0.25 -0.31\\n0.25 -0.31\\n0.25 -0.24\\n0.25 -0.24\\n0.25 -0.24\\n0.25 -0.24\\n0.25 -0.22\\n0.25 -0.22\\n0.25 -0.22\\n0.25 -0.18\\n0.25 -0.18\\n0.25 -0.25\\n0.25 -0.25\\n0.25 -0.25\\n0.25 -0.19\\n0.25 -0.19\\n0.25 -0.19\\n0.25 -0.19\\n0.25 -0.22\\n0.25 -0.22\\n0.25 -0.22\\n0.25 -0.22\\n0.25 -0.22\\n0.25 -0.21\\n0.25 -0.21\\n0.25 -0.21\\n0.25 -0.21\\n0.25 -0.24\\n0.25 -0.24\\n0.25 -0.24\\n0.25 -0.24\\n0.25 -0.21\\n0.25 -0.21\\n0.25 -0.21\\n0.25 -0.21\\n0.25 -0.21\\n0.25 -0.2\\n0.25 -0.2\\n0.25 -0.2\\n0.25 -0.24\\n0.25 -0.24\\n0.25 -0.24\\n0.25 -0.24\\n0.25 -0.19\\n0.25 -0.19\\n0.25 -0.19\\n0.25 -0.19\\n0.25 -0.2\\n0.25 -0.2\\n0.25 -0.2\\n0.25 -0.25\\n0.25 -0.25\\n0.25 -0.25\\n0.25 -0.3\\n0.25 -0.3\\n0.25 -0.3\\n0.25 -0.34\\n0.25 -0.34\\n0.25 -0.34\\n0.25 -0.34\\n0.25 -0.42\\n0.25 -0.42\\n0.25 -0.42\\n0.25 -0.42\\n0.25 -0.34\\n0.25 -0.34\\n0.25 -0.34\\n0.25 -0.3\\n0.25 -0.3\\n0.25 -0.3\\n0.25 -0.44\\n0.25 -0.44\\n0.25 -0.44\\n0.25 -0.34\\n0.25 -0.34\\n0.25 -0.34\\n0.25 -0.34\\n0.25 -0.38\\n0.25 -0.38\\n0.25 -0.38\\n0.25 -0.38\\n0.25 -0.38\\n0.25 -0.37\\n0.25 -0.37\\n0.25 -0.37\\n0.25 -0.37\\n0.25 -0.37\\n0.25 -0.29\\n0.25 -0.29\\n0.25 -0.29\\n0.25 -0.29\\n0.25 -0.4\\n0.25 -0.4\\n0.25 -0.4\\n0.25 -0.37\\n0.25 -0.37\\n0.25 -0.37\\n0.25 -0.4\\n0.25 -0.4\\n0.25 -0.4\\n0.25 -0.4\\n0.25 -0.34\\n0.25 -0.34\\n0.25 -0.34\\n0.25 -0.31\\n0.25 -0.31\\n0.25 -0.31\\n0.25 -0.35\\n0.25 -0.35\\n0.25 -0.35\\n0.25 -0.35\\n0.25 -0.36\\n0.25 -0.36\\n0.25 -0.36\\n0.25 -0.38\\n0.25 -0.38\\n0.25 -0.38\\n0.25 -0.38\\n0.25 -0.35\\n0.25 -0.35\\n0.25 -0.35\\n0.25 -0.35\\n0.25 -0.39\\n0.25 -0.39\\n0.25 -0.39\\n0.25 -0.39\\n0.25 -0.41\\n0.25 -0.41\\n0.25 -0.41\\n0.25 -0.28\\n0.25 -0.28\\n0.25 -0.28\\n0.25 -0.28\\n0.25 -0.29\\n0.25 -0.29\\n0.25 -0.29\\n0.25 -0.29\\n0.25 -0.3\\n0.25 -0.3\\n0.25 -0.3\\n0.25 -0.3\\n0.25 -0.3\\n0.25 -0.3\\n0.25 -0.3\\n0.25 -0.3\\n0.25 -0.31\\n0.25 -0.31\\n0.25 -0.31\\n0.25 -0.31\\n0.25 -0.31\\n0.25 -0.31\\n0.25 -0.31\\n0.25 -0.31\\n0.25 -0.31\\n0.25 -0.38\\n0.25 -0.38\\n0.25 -0.38\\n0.25 -0.38\\n0.25 -0.35\\n0.25 -0.35\\n0.25 -0.35\\n0.25 -0.35\\n0.25 -0.35\\n0.25 -0.35\\n0.25 -0.35\\n0.25 -0.34\\n0.25 -0.34\\n0.25 -0.34\\n0.25 -0.33\\n0.25 -0.33\\n0.25 -0.33\\n0.25 -0.31\\n0.25 -0.31\\n0.25 -0.31\\n0.25 -0.3\\n0.25 -0.3\\n0.25 -0.28\\n0.25 -0.28\\n0.25 -0.28\\n0.25 -0.28\\n0.25 -0.27\\n0.25 -0.27\\n0.25 -0.26\\n0.25 -0.26\\n0.25 -0.26\\n0.25 -0.23\\n0.25 -0.23\\n0.25 -0.23\\n0.25 -0.17\\n0.25 -0.17\\n0.25 -0.17\\n0.25 -0.17\\n0.25 -0.15\\n0.25 -0.15\\n0.25 -0.15\\n0.25 -0.15\\n0.25 -0.15\\n0.25 -0.15\\n0.25 -0.14\\n0.25 -0.14\\n0.25 -0.14\\n0.25 -0.14\\n0.25 -0.13\\n0.25 -0.13\\n0.25 -0.13\\n0.25 -0.13\\n0.25 -0.13\\n0.25 -0.09\\n0.25 -0.09\\n0.25 -0.09\\n0.25 -0.08\\n0.25 -0.08\\n0.25 -0.08\\n0.25 -0.02\\n0.25 -0.02\\n0.25 -0.02\\n0.25 -0.02\\n0.25 -0.03\\n0.25 -0.03\\n0.25 -0.03\\n0.25 -0.03\\n0.25 -0.03\\n0.25 -0.04\\n0.25 -0.04\\n0.25 0.03\\n0.25 0.03\\n0.25 0.03\\n0.25 0.03\\n0.25 0.02\\n0.25 0.02\\n0.25 0.02\\n0.25 0.01\\n0.25 0.01\\n0.25 0.01\\n0.25 0.01\\n0.25 0.06\\n0.25 0.06\\n0.25 0.06\\n0.25 0.06\\n0.25 0.05\\n0.25 0.05\\n0.25 0.04\\n0.25 0.04\\n0.25 0.04\\n0.25 0.04\\n0.25 0.03\\n0.25 0.03\\n0.25 0.03\\n0.25 0.03\\n0.25 0.04\\n0.25 0.04\\n0.25 0.04\\n0.25 0.04\\n0.25 0.08\\n0.25 0.08\\n0.25 0.08\\n0.25 0.07\\n0.25 0.07\\n0.25 0.07\\n0.25 0.07\\n0.25 0.07\\n0.25 0.06\\n0.25 0.06\\n0.25 0.06\\n0.25 0.06\\n0.25 0.07\\n0.25 0.07\\n0.25 0.07\\n0.25 0.07\\n0.25 0.06\\n0.25 0.06\\n0.25 0.06\\n0.25 0.06\\n0.25 0.05\\n0.25 0.05\\n0.25 0.13\\n0.25 0.13\\n0.25 0.13\\n0.25 0.13\\n0.25 0.14\\n0.25 0.14\\n0.25 0.14\\n0.25 0.14\\n0.25 0.11\\n0.25 0.11\\n0.25 0.11\\n0.25 0.11\\n0.25 0.05\\n0.25 0.05\\n0.25 0.05\\n0.25 0.11\\n0.25 0.11\\n0.25 0.11\\n0.25 0.11\\n0.25 0.11\\n0.25 0.11\\n0.25 0.11\\n0.25 0.08\\n0.25 0.08\\n0.25 0.08\\n0.25 0.07\\n0.25 0.07\\n0.25 0.07\\n0.25 0.07\\n0.25 0.05\\n0.25 0.05\\n0.25 0.05\\n0.25 0.05\\n0.25 0.02\\n0.25 0.02\\n0.23 0.02\\n0.23 0.02\\n0.23 0.02\\n0.25 0.0\\n0.25 0.0\\n0.25 0.0\\n0.25 0.0\\n0.25 0.0\\n0.25 0.0\\n0.25 0.0\\n0.25 0.0\\n0.25 0.0\\n0.25 0.0\\n0.25 0.0\\n0.25 -0.04\\n0.25 -0.04\\n0.25 -0.04\\n0.25 -0.04\\n0.25 -0.06\\n0.25 -0.06\\n0.25 -0.06\\n0.25 -0.06\\n0.25 -0.06\\n0.25 -0.07\\n0.25 -0.07\\n0.25 -0.07\\n0.25 -0.06\\n0.25 -0.06\\n0.25 -0.06\\n0.25 -0.06\\n0.25 -0.06\\n0.25 -0.06\\n0.25 -0.06\\n0.25 -0.07\\n0.25 -0.07\\n0.25 -0.07\\n0.25 -0.07\\n0.25 -0.08\\n0.25 -0.08\\n0.25 -0.08\\n0.25 -0.07\\n0.25 -0.07\\n0.25 -0.07\\n0.25 -0.07\\n0.25 -0.08\\n0.25 -0.08\\n0.25 -0.08\\n0.25 -0.08\\n0.25 -0.07\\n0.25 -0.07\\n0.25 -0.06\\n0.25 -0.06\\n0.25 -0.06\\n0.25 -0.06\\n0.25 -0.06\\n0.25 -0.06\\n0.25 -0.06\\n0.14 -0.38\\n0.14 -0.38\\n0.14 -0.38\\n0.14 -0.38\\n0.14 -0.44\\n0.14 -0.44\\n0.14 -0.44\\n0.14 -0.44\\n0.14 -0.44\\n0.15 -0.62\\n0.15 -0.62\\n0.15 -0.62\\n0.15 -0.62\\n0.14 -0.6\\n0.14 -0.6\\n-0.09 -0.92\\n0.14 -0.56\\n0.14 -0.56\\n0.15 -0.54\\n0.15 -0.54\\n0.15 -0.54\\n0.15 -0.58\\n0.15 -0.58\\n0.15 -0.58\\n0.15 -0.62\\n0.15 -0.62\\n-0.04 -0.92\\n0.14 -0.64\\n0.14 -0.64\\n0.14 -0.64\\n0.14 -0.62\\n0.14 -0.62\\n0.14 -0.62\\n0.14 -0.62\\n0.14 -0.62\\n-0.05 -0.93\\n'"
      ]
     },
     "execution_count": 6,
     "metadata": {},
     "output_type": "execute_result"
    }
   ],
   "source": [
    "# 각 이미지에 대응하는 직진속도 및 회전속도가 저장된 txt파일 데이터를 load하는 코드\n",
    "# f = open(os.path.join('/','home','hyun','catkin_ws','src','knu_prj','label3.txt'),'r')\n",
    "f = open(os.path.join(os.getcwd(), 'label3.txt'),'r')\n",
    "labels = f.read()\n",
    "labels"
   ]
  },
  {
   "cell_type": "code",
   "execution_count": 7,
   "id": "d9debb2b",
   "metadata": {},
   "outputs": [],
   "source": [
    "# 읽어온 데이터를 parsing하기 위한 정규표현식 (re)\n",
    "# '[0-9]', '[a-z]', '[A-Z]' : 해당 구간 안에 있는 문자 하나, .은 모든 문자 하나를 의미합니다.\n",
    "# [0-9] 뒤에 붙이는 *, + 은 해당 문자의 개수를 의미합니다.\n",
    "# [0-9]+는 0~9 사이의 문자가 최소 하나는 있어야 한다는 규칙, [0-9]*는 없어도 되고 있어도 되고.\n",
    "comp = re.compile('[0-9]*.[0-9]* ')\n",
    "comp2 = re.compile('-*[0-9]*.[0-9]*\\n')"
   ]
  },
  {
   "cell_type": "code",
   "execution_count": 8,
   "id": "979b07fd",
   "metadata": {
    "scrolled": true
   },
   "outputs": [
    {
     "name": "stdout",
     "output_type": "stream",
     "text": [
      "['0.15 ', '0.15 ', '0.15 ', '0.15 ', '0.15 ']\n",
      "['-0.04\\n', '-0.04\\n', '-0.05\\n', '-0.05\\n', '-0.05\\n']\n"
     ]
    }
   ],
   "source": [
    "# compile한 규칙에 해당하는 모든 문자열을 찾습니다. comp : 직진속도, comp2 : 회전속도\n",
    "x_linear = comp.findall(labels)\n",
    "z_angular = comp2.findall(labels)\n",
    "print(x_linear[:5])\n",
    "print(z_angular[:5])"
   ]
  },
  {
   "cell_type": "code",
   "execution_count": 9,
   "id": "5960448b",
   "metadata": {
    "scrolled": true
   },
   "outputs": [
    {
     "data": {
      "text/plain": [
       "(11677, 224, 224)"
      ]
     },
     "execution_count": 9,
     "metadata": {},
     "output_type": "execute_result"
    }
   ],
   "source": [
    "drive_x.shape"
   ]
  },
  {
   "cell_type": "code",
   "execution_count": 10,
   "id": "924842b3",
   "metadata": {},
   "outputs": [],
   "source": [
    "drive_y = []\n",
    "for i in range(12000):\n",
    "    try:\n",
    "        # 문자열 EOF까지, 뒤에 공백이랑, \\n 제외하고 list로 연결한다.\n",
    "        drive_y.append([float(x_linear[i][:-1]), float(z_angular[i][:-2])])\n",
    "    except:\n",
    "        drive_y = np.array(drive_y)\n",
    "        break"
   ]
  },
  {
   "cell_type": "code",
   "execution_count": 11,
   "id": "205c5930",
   "metadata": {
    "scrolled": true
   },
   "outputs": [
    {
     "data": {
      "text/plain": [
       "(11677, 2)"
      ]
     },
     "execution_count": 11,
     "metadata": {},
     "output_type": "execute_result"
    }
   ],
   "source": [
    "drive_y.shape"
   ]
  },
  {
   "cell_type": "code",
   "execution_count": 12,
   "id": "ecc24b26",
   "metadata": {
    "scrolled": true
   },
   "outputs": [
    {
     "data": {
      "text/plain": [
       "array([[ 0.15, -0.  ],\n",
       "       [ 0.15, -0.  ],\n",
       "       [ 0.15, -0.  ],\n",
       "       [ 0.15, -0.  ],\n",
       "       [ 0.15, -0.  ]])"
      ]
     },
     "execution_count": 12,
     "metadata": {},
     "output_type": "execute_result"
    }
   ],
   "source": [
    "drive_y[:5]"
   ]
  },
  {
   "cell_type": "code",
   "execution_count": 13,
   "id": "c96a8b10",
   "metadata": {},
   "outputs": [],
   "source": [
    "# 속도 데이터로부터 labeling하는 부분.\n",
    "# 마음대로 조절하면 됩니다. Angular velocity가 양수 : 좌회전, 음수 : 우회전.\n",
    "# Label :\n",
    "# 0 = 좌회전, 1 = 직진, 2 = 우회전\n",
    "\n",
    "drive_y_labeled = []\n",
    "for y in drive_y:\n",
    "    # 직진속도기 일정 값 이상인 경우\n",
    "    if y[0] >= 0.1:\n",
    "        # 우회전\n",
    "        if y[1] <= -0.09:\n",
    "            drive_y_labeled.append(2)\n",
    "        # 좌회전\n",
    "        elif y[1] >= 0.09:\n",
    "            drive_y_labeled.append(0)\n",
    "        # 직진\n",
    "        else:\n",
    "            drive_y_labeled.append(1)\n",
    "    # 속도가 낮은 경우는 별도의 labeling\n",
    "    else:\n",
    "        drive_y_labeled.append(3)\n",
    "        "
   ]
  },
  {
   "cell_type": "code",
   "execution_count": 14,
   "id": "cd2df9b5",
   "metadata": {},
   "outputs": [
    {
     "name": "stdout",
     "output_type": "stream",
     "text": [
      "[ 0.15 -0.  ]\n",
      "1\n"
     ]
    }
   ],
   "source": [
    "print(drive_y[0])\n",
    "print(drive_y_labeled[0])"
   ]
  },
  {
   "cell_type": "code",
   "execution_count": 15,
   "id": "fb7f6e17",
   "metadata": {},
   "outputs": [
    {
     "data": {
      "text/plain": [
       "((11677, 224, 224), (11677,))"
      ]
     },
     "execution_count": 15,
     "metadata": {},
     "output_type": "execute_result"
    }
   ],
   "source": [
    "drive_y_labeled = np.array(drive_y_labeled)\n",
    "drive_x.shape, drive_y_labeled.shape"
   ]
  },
  {
   "cell_type": "code",
   "execution_count": 16,
   "id": "8058dcd0",
   "metadata": {
    "scrolled": true
   },
   "outputs": [
    {
     "data": {
      "text/plain": [
       "258"
      ]
     },
     "execution_count": 16,
     "metadata": {},
     "output_type": "execute_result"
    }
   ],
   "source": [
    "# label = 3 인 경우 몇 갠지 세보기 (258개)\n",
    "cnt=0\n",
    "for i in range(11677):\n",
    "    if drive_y_labeled[i] == 3:\n",
    "        cnt += 1\n",
    "cnt"
   ]
  },
  {
   "cell_type": "code",
   "execution_count": 17,
   "id": "fd0e5d21",
   "metadata": {},
   "outputs": [
    {
     "name": "stdout",
     "output_type": "stream",
     "text": [
      "100\n",
      "200\n",
      "300\n",
      "400\n",
      "500\n",
      "600\n",
      "700\n",
      "800\n",
      "900\n",
      "1000\n",
      "1100\n",
      "1200\n",
      "1300\n"
     ]
    },
    {
     "data": {
      "text/plain": [
       "(1198, 224, 224)"
      ]
     },
     "execution_count": 17,
     "metadata": {},
     "output_type": "execute_result"
    }
   ],
   "source": [
    "# 충돌 이미지 load (1198장)\n",
    "\n",
    "number = 1\n",
    "while number <= 1300:\n",
    "    try:\n",
    "        if number % 100==0:\n",
    "            print(number)\n",
    "        img_name = \"camera_image\" + str(number) + \".jpeg\"\n",
    "#         image2 = cv2.imread(os.path.join('/','home','hyun','catkin_ws','src','knu_prj','images_collision',img_name), cv2.IMREAD_ANYCOLOR)\n",
    "        col_image = cv2.imread(os.path.join(os.getcwd(),'images_collision',img_name), cv2.IMREAD_ANYCOLOR)\n",
    "        resized_image = np.array(cv2.resize(col_image, dsize=(224,224), interpolation=cv2.INTER_LINEAR))\n",
    "        if number == 1:\n",
    "            col_images = np.array(resized_image)\n",
    "        else:\n",
    "            col_images = np.vstack((col_images, resized_image))\n",
    "        number += 1\n",
    "    except:\n",
    "        number += 1\n",
    "\n",
    "col_x = np.reshape(col_images, [int(col_images.shape[0]/224), 224, 224])        \n",
    "col_x.shape"
   ]
  },
  {
   "cell_type": "code",
   "execution_count": 18,
   "id": "8bf0c38d",
   "metadata": {},
   "outputs": [
    {
     "data": {
      "text/plain": [
       "<matplotlib.image.AxesImage at 0x7fa9655711c0>"
      ]
     },
     "execution_count": 18,
     "metadata": {},
     "output_type": "execute_result"
    },
    {
     "data": {
      "image/png": "[encoded data removed]",
      "text/plain": [
       "<Figure size 432x288 with 1 Axes>"
      ]
     },
     "metadata": {
      "needs_background": "light"
     },
     "output_type": "display_data"
    }
   ],
   "source": [
    "# Collision image test\n",
    "plt.imshow(col_x[200], 'gray')"
   ]
  },
  {
   "cell_type": "code",
   "execution_count": 19,
   "id": "398ca676",
   "metadata": {},
   "outputs": [],
   "source": [
    "# number = 1\n",
    "\n",
    "# while number <= 10:\n",
    "#     try:\n",
    "#         print(number)\n",
    "#         img_name = \"camera_image\" + str(number) + \".jpeg\"\n",
    "#         image2 = cv2.imread(os.path.join('/','home','hyun','catkin_ws','src','knu_prj','images_collision_new',img_name), cv2.IMREAD_ANYCOLOR)\n",
    "#         resized_image = np.array(cv2.resize(image2, dsize=(224,224), interpolation=cv2.INTER_LINEAR))\n",
    "#         if number == 1:\n",
    "#             train_images3 = np.array(resized_image)\n",
    "#         else:\n",
    "#             train_images3 = np.vstack((train_images3, resized_image))\n",
    "#         number += 1\n",
    "#     except:\n",
    "#         number += 1"
   ]
  },
  {
   "cell_type": "code",
   "execution_count": 20,
   "id": "006d5800",
   "metadata": {
    "scrolled": true
   },
   "outputs": [
    {
     "data": {
      "text/plain": [
       "(11980, 224, 224)"
      ]
     },
     "execution_count": 20,
     "metadata": {},
     "output_type": "execute_result"
    }
   ],
   "source": [
    "# 1198개의 이미지를 10배 복제해서 이미지 개수 대충 맞춰주기\n",
    "col_x2 = [col_x for i in range(10)]\n",
    "col_x2 = np.array(col_x2).reshape(-1,224,224)\n",
    "col_x2.shape"
   ]
  },
  {
   "cell_type": "code",
   "execution_count": 21,
   "id": "03a6770c",
   "metadata": {},
   "outputs": [
    {
     "data": {
      "text/plain": [
       "array([[0.5, 0. , 0.5, 1. ],\n",
       "       [0.5, 0. , 0.5, 1. ],\n",
       "       [0.5, 0. , 0.5, 1. ],\n",
       "       [0.5, 0. , 0.5, 1. ],\n",
       "       [0.5, 0. , 0.5, 1. ]], dtype=float32)"
      ]
     },
     "execution_count": 21,
     "metadata": {},
     "output_type": "execute_result"
    }
   ],
   "source": [
    "# 충돌 이미지 Labeling : [좌회전 확률, 직진 확률, 우회전 확률, 충돌 확률] 각각 [0.5, 0, 0.5, 1.0]\n",
    "col_y = np.array([[0.5, 0., 0.5, 1.] for i in range(col_x2.shape[0])], 'float32')\n",
    "col_y[:5]"
   ]
  },
  {
   "cell_type": "code",
   "execution_count": 22,
   "id": "ee460dc6",
   "metadata": {},
   "outputs": [
    {
     "data": {
      "text/plain": [
       "array([1, 1, 1, ..., 2, 2, 3])"
      ]
     },
     "execution_count": 22,
     "metadata": {},
     "output_type": "execute_result"
    }
   ],
   "source": [
    "drive_y_labeled"
   ]
  },
  {
   "cell_type": "code",
   "execution_count": 23,
   "id": "da892518",
   "metadata": {},
   "outputs": [
    {
     "data": {
      "text/plain": [
       "array([[0., 1., 0., 0.],\n",
       "       [0., 1., 0., 0.],\n",
       "       [0., 1., 0., 0.],\n",
       "       [0., 1., 0., 0.],\n",
       "       [0., 1., 0., 0.]], dtype=float32)"
      ]
     },
     "execution_count": 23,
     "metadata": {},
     "output_type": "execute_result"
    }
   ],
   "source": [
    "# Classification을 위해 one-hot encoding하는 것.\n",
    "\n",
    "# 0 -> [1., 0., 0., 0.]\n",
    "# 1 -> [0., 1., 0., 0.]\n",
    "# 2 -> [0., 0., 1., 0.]\n",
    "# 3 -> [0., 0., 0., 1.]\n",
    "\n",
    "# 이렇게 하면 학습할 때 4개의 객체가 각각 값을 1, 0, 0, 0씩 갖고 있다고 생각하고 손실 함수 등을 계산할 수 있다.\n",
    "\n",
    "drive_y_labeled = tf.keras.utils.to_categorical(\n",
    "    drive_y_labeled, num_classes=4, dtype='float32'\n",
    ")\n",
    "drive_y_labeled[:5]"
   ]
  },
  {
   "cell_type": "code",
   "execution_count": 24,
   "id": "6b0c6c06",
   "metadata": {},
   "outputs": [],
   "source": [
    "# 속도가 안되서 Label이 3으로 분류된 267장에 대해, 좌,직,우 각각 0.25, 0.5, 0.25, 충돌확률 0.5로 분류주기.\n",
    "for i in range(len(drive_y_labeled)):\n",
    "    if drive_y_labeled[i][3] == 1:\n",
    "        drive_y_labeled[i] = [0.25, 0.5, 0.25, 0.5]"
   ]
  },
  {
   "cell_type": "code",
   "execution_count": 25,
   "id": "671bffcd",
   "metadata": {},
   "outputs": [
    {
     "data": {
      "text/plain": [
       "((11677, 224, 224), (11980, 224, 224))"
      ]
     },
     "execution_count": 25,
     "metadata": {},
     "output_type": "execute_result"
    }
   ],
   "source": [
    "drive_x.shape, col_x2.shape"
   ]
  },
  {
   "cell_type": "code",
   "execution_count": 26,
   "id": "dd91261a",
   "metadata": {
    "scrolled": true
   },
   "outputs": [
    {
     "data": {
      "text/plain": [
       "((11677, 4), (11980, 4))"
      ]
     },
     "execution_count": 26,
     "metadata": {},
     "output_type": "execute_result"
    }
   ],
   "source": [
    "drive_y_labeled.shape, col_y.shape"
   ]
  },
  {
   "cell_type": "code",
   "execution_count": 27,
   "id": "e279e86b",
   "metadata": {},
   "outputs": [],
   "source": [
    "# 주행 데이터와 충돌 데이터를 결합한다.\n",
    "data_x = np.append(drive_x, col_x2, axis=0)\n",
    "data_y = np.append(drive_y_labeled, col_y, axis=0)"
   ]
  },
  {
   "cell_type": "code",
   "execution_count": 28,
   "id": "7fa562a0",
   "metadata": {},
   "outputs": [
    {
     "data": {
      "text/plain": [
       "((23657, 224, 224), (23657, 4))"
      ]
     },
     "execution_count": 28,
     "metadata": {},
     "output_type": "execute_result"
    }
   ],
   "source": [
    "data_x.shape, data_y.shape"
   ]
  },
  {
   "cell_type": "code",
   "execution_count": 29,
   "id": "1d09af80",
   "metadata": {},
   "outputs": [],
   "source": [
    "# 해당 데이터를 함께 섞는다.\n",
    "\n",
    "from sklearn.utils import shuffle\n",
    "data_x, data_y = shuffle(data_x, data_y)"
   ]
  },
  {
   "cell_type": "code",
   "execution_count": 30,
   "id": "b85fa277",
   "metadata": {},
   "outputs": [
    {
     "data": {
      "text/plain": [
       "((23657, 224, 224, 1), (23657, 4))"
      ]
     },
     "execution_count": 30,
     "metadata": {},
     "output_type": "execute_result"
    }
   ],
   "source": [
    "# 학습을 위해 이미지 데이터에 채널 하나를 추가한다.\n",
    "\n",
    "data_x = data_x[...,np.newaxis]\n",
    "data_x.shape, data_y.shape"
   ]
  },
  {
   "cell_type": "code",
   "execution_count": 31,
   "id": "e51b80c5",
   "metadata": {},
   "outputs": [],
   "source": [
    "# train : test = 7 : 3으로 나눈다.\n",
    "ratio = 0.7\n",
    "pivot = int(data_x.shape[0]*ratio)\n",
    "train_x = data_x[:pivot]\n",
    "test_x = data_x[pivot:]\n",
    "train_y = data_y[:pivot]\n",
    "test_y = data_y[pivot:]"
   ]
  },
  {
   "cell_type": "code",
   "execution_count": 32,
   "id": "6961b873",
   "metadata": {},
   "outputs": [
    {
     "data": {
      "text/plain": [
       "<matplotlib.image.AxesImage at 0x7fa9594c34c0>"
      ]
     },
     "execution_count": 32,
     "metadata": {},
     "output_type": "execute_result"
    },
    {
     "data": {
      "image/png": "[encoded data removed]",
      "text/plain": [
       "<Figure size 432x288 with 1 Axes>"
      ]
     },
     "metadata": {
      "needs_background": "light"
     },
     "output_type": "display_data"
    }
   ],
   "source": [
    "plt.imshow(train_x[100,:,:,0], 'gray')"
   ]
  },
  {
   "cell_type": "code",
   "execution_count": 33,
   "id": "be409794",
   "metadata": {},
   "outputs": [
    {
     "data": {
      "text/plain": [
       "[2176, 2689, 3061, 183, 8450]"
      ]
     },
     "execution_count": 33,
     "metadata": {},
     "output_type": "execute_result"
    }
   ],
   "source": [
    "# 각 클래스 별로 학습 데이터 분포 확인\n",
    "\n",
    "cnt = [0, 0, 0, 0, 0]\n",
    "for i in range(len(train_y)):\n",
    "    # 좌회전\n",
    "    if train_y[i][0] == 1.:\n",
    "        cnt[0] += 1\n",
    "    # 직진\n",
    "    elif train_y[i][1] == 1.:\n",
    "        cnt[1] += 1\n",
    "    # 우회전\n",
    "    elif train_y[i][2] == 1.:\n",
    "        cnt[2] += 1\n",
    "    # 덜직진\n",
    "    elif train_y[i][1] == 0.5:\n",
    "        cnt[3] += 1\n",
    "    # 충돌하는 경우\n",
    "    else:\n",
    "        cnt[4] += 1\n",
    "\n",
    "# [좌회전, 직진, 우회전, 속도작음, 충돌] 학습 이미지 개수 (차이가 나서 학습에 편향이 생길 수 있음.)\n",
    "cnt"
   ]
  },
  {
   "cell_type": "code",
   "execution_count": 34,
   "id": "b7e73404",
   "metadata": {},
   "outputs": [
    {
     "data": {
      "text/plain": [
       "[2000, 2000, 2000, 183, 8450]"
      ]
     },
     "execution_count": 34,
     "metadata": {},
     "output_type": "execute_result"
    }
   ],
   "source": [
    "# 정답 이미지 개수를 맞춰준다.\n",
    "train_y_real = []\n",
    "train_x_real = []\n",
    "cnt = [0, 0, 0, 0, 0]\n",
    "for i in range(len(train_y)):\n",
    "    if train_y[i][0] == 1.:\n",
    "        if cnt[0]>= 2000:\n",
    "            pass\n",
    "        else:\n",
    "            train_x_real.append(train_x[i])\n",
    "            train_y_real.append(train_y[i])\n",
    "            cnt[0] += 1\n",
    "    elif train_y[i][1] == 1.:\n",
    "        if cnt[1] >= 2000:\n",
    "            pass\n",
    "        else:\n",
    "            train_x_real.append(train_x[i])\n",
    "            train_y_real.append(train_y[i])\n",
    "            cnt[1] += 1\n",
    "    elif train_y[i][2] == 1.:\n",
    "        if cnt[2] >= 2000:\n",
    "            pass\n",
    "        else:\n",
    "            train_x_real.append(train_x[i])\n",
    "            train_y_real.append(train_y[i])\n",
    "            cnt[2] += 1\n",
    "#         cnt[2] += 1\n",
    "    elif train_y[i][1] == 0.5:\n",
    "        cnt[3] += 1\n",
    "        train_x_real.append(train_x[i])\n",
    "        train_y_real.append(train_y[i])\n",
    "    else:\n",
    "        cnt[4] += 1\n",
    "        train_x_real.append(train_x[i])\n",
    "        train_y_real.append(train_y[i])\n",
    "\n",
    "train_x_real = np.array(train_x_real)\n",
    "train_y_real = np.array(train_y_real)\n",
    "# 좌, 직, 우회전 각각 2000장씩, 충돌 데이터 8446장.\n",
    "cnt"
   ]
  },
  {
   "cell_type": "code",
   "execution_count": 35,
   "id": "0c452e9e",
   "metadata": {},
   "outputs": [],
   "source": [
    "# 4개로 뭉쳐놨던 y 정답을 [분류 확률 3개, 충돌 확률 1개] 로 분리한다.\n",
    "train_y_class = train_y_real[:,:3]\n",
    "train_y_coll = train_y_real[:,3]\n",
    "test_y_class = test_y[:,:3]\n",
    "test_y_coll = test_y[:,3]"
   ]
  },
  {
   "cell_type": "code",
   "execution_count": 36,
   "id": "ab979d38",
   "metadata": {},
   "outputs": [
    {
     "name": "stderr",
     "output_type": "stream",
     "text": [
      "2022-02-07 03:54:00.698356: E tensorflow/stream_executor/cuda/cuda_driver.cc:271] failed call to cuInit: CUDA_ERROR_NO_DEVICE: no CUDA-capable device is detected\n",
      "2022-02-07 03:54:00.698394: I tensorflow/stream_executor/cuda/cuda_diagnostics.cc:156] kernel driver does not appear to be running on this host (hyun-750XDA): /proc/driver/nvidia/version does not exist\n",
      "2022-02-07 03:54:00.699029: I tensorflow/core/platform/cpu_feature_guard.cc:151] This TensorFlow binary is optimized with oneAPI Deep Neural Network Library (oneDNN) to use the following CPU instructions in performance-critical operations:  AVX2 AVX512F FMA\n",
      "To enable them in other operations, rebuild TensorFlow with the appropriate compiler flags.\n"
     ]
    },
    {
     "name": "stdout",
     "output_type": "stream",
     "text": [
      "WARNING:tensorflow:From /home/hyun/catkin_ws/src/knu_prj/official/vision/image_classification/resnet/custom_resnet_model_collision3.py:314: The name tf.keras.initializers.random_normal is deprecated. Please use tf.compat.v1.keras.initializers.random_normal instead.\n",
      "\n",
      "Model: \"resnet50\"\n",
      "__________________________________________________________________________________________________\n",
      " Layer (type)                   Output Shape         Param #     Connected to                     \n",
      "==================================================================================================\n",
      " input_1 (InputLayer)           [(None, 224, 224, 1  0           []                               \n",
      "                                )]                                                                \n",
      "                                                                                                  \n",
      " conv1_pad (ZeroPadding2D)      (None, 230, 230, 1)  0           ['input_1[0][0]']                \n",
      "                                                                                                  \n",
      " conv1 (Conv2D)                 (None, 112, 112, 64  3136        ['conv1_pad[0][0]']              \n",
      "                                )                                                                 \n",
      "                                                                                                  \n",
      " bn_conv1 (BatchNormalization)  (None, 112, 112, 64  256         ['conv1[0][0]']                  \n",
      "                                )                                                                 \n",
      "                                                                                                  \n",
      " activation (Activation)        (None, 112, 112, 64  0           ['bn_conv1[0][0]']               \n",
      "                                )                                                                 \n",
      "                                                                                                  \n",
      " max_pooling2d (MaxPooling2D)   (None, 56, 56, 64)   0           ['activation[0][0]']             \n",
      "                                                                                                  \n",
      " res2a_branch2a (Conv2D)        (None, 56, 56, 64)   4096        ['max_pooling2d[0][0]']          \n",
      "                                                                                                  \n",
      " bn2a_branch2a (BatchNormalizat  (None, 56, 56, 64)  256         ['res2a_branch2a[0][0]']         \n",
      " ion)                                                                                             \n",
      "                                                                                                  \n",
      " activation_1 (Activation)      (None, 56, 56, 64)   0           ['bn2a_branch2a[0][0]']          \n",
      "                                                                                                  \n",
      " res2a_branch2b (Conv2D)        (None, 56, 56, 64)   36864       ['activation_1[0][0]']           \n",
      "                                                                                                  \n",
      " bn2a_branch2b (BatchNormalizat  (None, 56, 56, 64)  256         ['res2a_branch2b[0][0]']         \n",
      " ion)                                                                                             \n",
      "                                                                                                  \n",
      " activation_2 (Activation)      (None, 56, 56, 64)   0           ['bn2a_branch2b[0][0]']          \n",
      "                                                                                                  \n",
      " res2a_branch2c (Conv2D)        (None, 56, 56, 256)  16384       ['activation_2[0][0]']           \n",
      "                                                                                                  \n",
      " res2a_branch1 (Conv2D)         (None, 56, 56, 256)  16384       ['max_pooling2d[0][0]']          \n",
      "                                                                                                  \n",
      " bn2a_branch2c (BatchNormalizat  (None, 56, 56, 256)  1024       ['res2a_branch2c[0][0]']         \n",
      " ion)                                                                                             \n",
      "                                                                                                  \n",
      " bn2a_branch1 (BatchNormalizati  (None, 56, 56, 256)  1024       ['res2a_branch1[0][0]']          \n",
      " on)                                                                                              \n",
      "                                                                                                  \n",
      " add (Add)                      (None, 56, 56, 256)  0           ['bn2a_branch2c[0][0]',          \n",
      "                                                                  'bn2a_branch1[0][0]']           \n",
      "                                                                                                  \n",
      " activation_3 (Activation)      (None, 56, 56, 256)  0           ['add[0][0]']                    \n",
      "                                                                                                  \n",
      " res2b_branch2a (Conv2D)        (None, 56, 56, 64)   16384       ['activation_3[0][0]']           \n",
      "                                                                                                  \n",
      " bn2b_branch2a (BatchNormalizat  (None, 56, 56, 64)  256         ['res2b_branch2a[0][0]']         \n",
      " ion)                                                                                             \n",
      "                                                                                                  \n",
      " activation_4 (Activation)      (None, 56, 56, 64)   0           ['bn2b_branch2a[0][0]']          \n",
      "                                                                                                  \n",
      " res2b_branch2b (Conv2D)        (None, 56, 56, 64)   36864       ['activation_4[0][0]']           \n",
      "                                                                                                  \n",
      " bn2b_branch2b (BatchNormalizat  (None, 56, 56, 64)  256         ['res2b_branch2b[0][0]']         \n",
      " ion)                                                                                             \n",
      "                                                                                                  \n",
      " activation_5 (Activation)      (None, 56, 56, 64)   0           ['bn2b_branch2b[0][0]']          \n",
      "                                                                                                  \n",
      " res2b_branch2c (Conv2D)        (None, 56, 56, 256)  16384       ['activation_5[0][0]']           \n",
      "                                                                                                  \n",
      " bn2b_branch2c (BatchNormalizat  (None, 56, 56, 256)  1024       ['res2b_branch2c[0][0]']         \n",
      " ion)                                                                                             \n",
      "                                                                                                  \n",
      " add_1 (Add)                    (None, 56, 56, 256)  0           ['bn2b_branch2c[0][0]',          \n",
      "                                                                  'activation_3[0][0]']           \n",
      "                                                                                                  \n",
      " activation_6 (Activation)      (None, 56, 56, 256)  0           ['add_1[0][0]']                  \n",
      "                                                                                                  \n",
      " res2c_branch2a (Conv2D)        (None, 56, 56, 64)   16384       ['activation_6[0][0]']           \n",
      "                                                                                                  \n",
      " bn2c_branch2a (BatchNormalizat  (None, 56, 56, 64)  256         ['res2c_branch2a[0][0]']         \n",
      " ion)                                                                                             \n",
      "                                                                                                  \n",
      " activation_7 (Activation)      (None, 56, 56, 64)   0           ['bn2c_branch2a[0][0]']          \n",
      "                                                                                                  \n",
      " res2c_branch2b (Conv2D)        (None, 56, 56, 64)   36864       ['activation_7[0][0]']           \n",
      "                                                                                                  \n",
      " bn2c_branch2b (BatchNormalizat  (None, 56, 56, 64)  256         ['res2c_branch2b[0][0]']         \n",
      " ion)                                                                                             \n",
      "                                                                                                  \n",
      " activation_8 (Activation)      (None, 56, 56, 64)   0           ['bn2c_branch2b[0][0]']          \n",
      "                                                                                                  \n",
      " res2c_branch2c (Conv2D)        (None, 56, 56, 256)  16384       ['activation_8[0][0]']           \n",
      "                                                                                                  \n",
      " bn2c_branch2c (BatchNormalizat  (None, 56, 56, 256)  1024       ['res2c_branch2c[0][0]']         \n",
      " ion)                                                                                             \n",
      "                                                                                                  \n",
      " add_2 (Add)                    (None, 56, 56, 256)  0           ['bn2c_branch2c[0][0]',          \n",
      "                                                                  'activation_6[0][0]']           \n",
      "                                                                                                  \n",
      " activation_9 (Activation)      (None, 56, 56, 256)  0           ['add_2[0][0]']                  \n",
      "                                                                                                  \n",
      " res3a_branch2a (Conv2D)        (None, 56, 56, 128)  32768       ['activation_9[0][0]']           \n",
      "                                                                                                  \n",
      " bn3a_branch2a (BatchNormalizat  (None, 56, 56, 128)  512        ['res3a_branch2a[0][0]']         \n",
      " ion)                                                                                             \n",
      "                                                                                                  \n",
      " activation_10 (Activation)     (None, 56, 56, 128)  0           ['bn3a_branch2a[0][0]']          \n",
      "                                                                                                  \n",
      " res3a_branch2b (Conv2D)        (None, 28, 28, 128)  147456      ['activation_10[0][0]']          \n",
      "                                                                                                  \n",
      " bn3a_branch2b (BatchNormalizat  (None, 28, 28, 128)  512        ['res3a_branch2b[0][0]']         \n",
      " ion)                                                                                             \n",
      "                                                                                                  \n",
      " activation_11 (Activation)     (None, 28, 28, 128)  0           ['bn3a_branch2b[0][0]']          \n",
      "                                                                                                  \n",
      " res3a_branch2c (Conv2D)        (None, 28, 28, 512)  65536       ['activation_11[0][0]']          \n",
      "                                                                                                  \n",
      " res3a_branch1 (Conv2D)         (None, 28, 28, 512)  131072      ['activation_9[0][0]']           \n",
      "                                                                                                  \n",
      " bn3a_branch2c (BatchNormalizat  (None, 28, 28, 512)  2048       ['res3a_branch2c[0][0]']         \n",
      " ion)                                                                                             \n",
      "                                                                                                  \n",
      " bn3a_branch1 (BatchNormalizati  (None, 28, 28, 512)  2048       ['res3a_branch1[0][0]']          \n",
      " on)                                                                                              \n",
      "                                                                                                  \n",
      " add_3 (Add)                    (None, 28, 28, 512)  0           ['bn3a_branch2c[0][0]',          \n",
      "                                                                  'bn3a_branch1[0][0]']           \n",
      "                                                                                                  \n",
      " activation_12 (Activation)     (None, 28, 28, 512)  0           ['add_3[0][0]']                  \n",
      "                                                                                                  \n",
      " res3b_branch2a (Conv2D)        (None, 28, 28, 128)  65536       ['activation_12[0][0]']          \n",
      "                                                                                                  \n",
      " bn3b_branch2a (BatchNormalizat  (None, 28, 28, 128)  512        ['res3b_branch2a[0][0]']         \n",
      " ion)                                                                                             \n",
      "                                                                                                  \n",
      " activation_13 (Activation)     (None, 28, 28, 128)  0           ['bn3b_branch2a[0][0]']          \n",
      "                                                                                                  \n",
      " res3b_branch2b (Conv2D)        (None, 28, 28, 128)  147456      ['activation_13[0][0]']          \n",
      "                                                                                                  \n",
      " bn3b_branch2b (BatchNormalizat  (None, 28, 28, 128)  512        ['res3b_branch2b[0][0]']         \n",
      " ion)                                                                                             \n",
      "                                                                                                  \n",
      " activation_14 (Activation)     (None, 28, 28, 128)  0           ['bn3b_branch2b[0][0]']          \n",
      "                                                                                                  \n",
      " res3b_branch2c (Conv2D)        (None, 28, 28, 512)  65536       ['activation_14[0][0]']          \n",
      "                                                                                                  \n",
      " bn3b_branch2c (BatchNormalizat  (None, 28, 28, 512)  2048       ['res3b_branch2c[0][0]']         \n",
      " ion)                                                                                             \n",
      "                                                                                                  \n",
      " add_4 (Add)                    (None, 28, 28, 512)  0           ['bn3b_branch2c[0][0]',          \n",
      "                                                                  'activation_12[0][0]']          \n",
      "                                                                                                  \n",
      " activation_15 (Activation)     (None, 28, 28, 512)  0           ['add_4[0][0]']                  \n",
      "                                                                                                  \n",
      " res3c_branch2a (Conv2D)        (None, 28, 28, 128)  65536       ['activation_15[0][0]']          \n",
      "                                                                                                  \n",
      " bn3c_branch2a (BatchNormalizat  (None, 28, 28, 128)  512        ['res3c_branch2a[0][0]']         \n",
      " ion)                                                                                             \n",
      "                                                                                                  \n",
      " activation_16 (Activation)     (None, 28, 28, 128)  0           ['bn3c_branch2a[0][0]']          \n",
      "                                                                                                  \n",
      " res3c_branch2b (Conv2D)        (None, 28, 28, 128)  147456      ['activation_16[0][0]']          \n",
      "                                                                                                  \n",
      " bn3c_branch2b (BatchNormalizat  (None, 28, 28, 128)  512        ['res3c_branch2b[0][0]']         \n",
      " ion)                                                                                             \n",
      "                                                                                                  \n",
      " activation_17 (Activation)     (None, 28, 28, 128)  0           ['bn3c_branch2b[0][0]']          \n",
      "                                                                                                  \n",
      " res3c_branch2c (Conv2D)        (None, 28, 28, 512)  65536       ['activation_17[0][0]']          \n",
      "                                                                                                  \n",
      " bn3c_branch2c (BatchNormalizat  (None, 28, 28, 512)  2048       ['res3c_branch2c[0][0]']         \n",
      " ion)                                                                                             \n",
      "                                                                                                  \n",
      " add_5 (Add)                    (None, 28, 28, 512)  0           ['bn3c_branch2c[0][0]',          \n",
      "                                                                  'activation_15[0][0]']          \n",
      "                                                                                                  \n",
      " activation_18 (Activation)     (None, 28, 28, 512)  0           ['add_5[0][0]']                  \n",
      "                                                                                                  \n",
      " res3d_branch2a (Conv2D)        (None, 28, 28, 128)  65536       ['activation_18[0][0]']          \n",
      "                                                                                                  \n",
      " bn3d_branch2a (BatchNormalizat  (None, 28, 28, 128)  512        ['res3d_branch2a[0][0]']         \n",
      " ion)                                                                                             \n",
      "                                                                                                  \n",
      " activation_19 (Activation)     (None, 28, 28, 128)  0           ['bn3d_branch2a[0][0]']          \n",
      "                                                                                                  \n",
      " res3d_branch2b (Conv2D)        (None, 28, 28, 128)  147456      ['activation_19[0][0]']          \n",
      "                                                                                                  \n",
      " bn3d_branch2b (BatchNormalizat  (None, 28, 28, 128)  512        ['res3d_branch2b[0][0]']         \n",
      " ion)                                                                                             \n",
      "                                                                                                  \n",
      " activation_20 (Activation)     (None, 28, 28, 128)  0           ['bn3d_branch2b[0][0]']          \n",
      "                                                                                                  \n",
      " res3d_branch2c (Conv2D)        (None, 28, 28, 512)  65536       ['activation_20[0][0]']          \n",
      "                                                                                                  \n",
      " bn3d_branch2c (BatchNormalizat  (None, 28, 28, 512)  2048       ['res3d_branch2c[0][0]']         \n",
      " ion)                                                                                             \n",
      "                                                                                                  \n",
      " add_6 (Add)                    (None, 28, 28, 512)  0           ['bn3d_branch2c[0][0]',          \n",
      "                                                                  'activation_18[0][0]']          \n",
      "                                                                                                  \n",
      " activation_21 (Activation)     (None, 28, 28, 512)  0           ['add_6[0][0]']                  \n",
      "                                                                                                  \n",
      " global_average_pooling2d (Glob  (None, 512)         0           ['activation_21[0][0]']          \n",
      " alAveragePooling2D)                                                                              \n",
      "                                                                                                  \n",
      " fc1000 (Dense)                 (None, 3)            1539        ['global_average_pooling2d[0][0]'\n",
      "                                                                 ]                                \n",
      "                                                                                                  \n",
      " coll (Dense)                   (None, 1)            513         ['global_average_pooling2d[0][0]'\n",
      "                                                                 ]                                \n",
      "                                                                                                  \n",
      " activation_22 (Activation)     (None, 3)            0           ['fc1000[0][0]']                 \n",
      "                                                                                                  \n",
      " activation_23 (Activation)     (None, 1)            0           ['coll[0][0]']                   \n",
      "                                                                                                  \n",
      "==================================================================================================\n",
      "Total params: 1,450,820\n",
      "Trainable params: 1,440,708\n",
      "Non-trainable params: 10,112\n",
      "__________________________________________________________________________________________________\n"
     ]
    }
   ],
   "source": [
    "# model 불러오기\n",
    "\n",
    "# 실제 모델은 ./official/vision/image_classification/resnet 파일 안에 있음.\n",
    "# github tensorflow models (https://github.com/tensorflow/models) 여기 ResNet 모델과 거의 동일함.\n",
    "\n",
    "# input과 output, layer수, output단에서 activation함수만 조금 변경한것임.\n",
    "\n",
    "from official.vision.image_classification.resnet import custom_resnet_model_collision3\n",
    "collision_model = custom_resnet_model_collision3.resnet50(3)\n",
    "collision_model.summary()"
   ]
  },
  {
   "cell_type": "code",
   "execution_count": 37,
   "id": "e779a111",
   "metadata": {},
   "outputs": [],
   "source": [
    "collision_model.compile(optimizer='adam', loss=['MSE','BCE'], metrics=['accuracy'])"
   ]
  },
  {
   "cell_type": "code",
   "execution_count": 39,
   "id": "623300b8",
   "metadata": {},
   "outputs": [
    {
     "data": {
      "text/plain": [
       "((14633, 224, 224, 1), (7098, 4), (14633, 3), (14633,))"
      ]
     },
     "execution_count": 39,
     "metadata": {},
     "output_type": "execute_result"
    }
   ],
   "source": [
    "train_x_real.shape, test_y.shape, train_y_class.shape, train_y_coll.shape"
   ]
  },
  {
   "cell_type": "code",
   "execution_count": 40,
   "id": "821b4bef",
   "metadata": {
    "scrolled": true
   },
   "outputs": [
    {
     "name": "stderr",
     "output_type": "stream",
     "text": [
      "2022-02-07 03:54:39.426517: W tensorflow/core/framework/cpu_allocator_impl.cc:82] Allocation of 734225408 exceeds 10% of free system memory.\n"
     ]
    },
    {
     "name": "stdout",
     "output_type": "stream",
     "text": [
      "Epoch 1/20\n",
      "  1/586 [..............................] - ETA: 41:42 - loss: 1.8185 - activation_22_loss: 0.1117 - activation_23_loss: 0.6971 - activation_22_accuracy: 0.5200 - activation_23_accuracy: 0.5600"
     ]
    },
    {
     "ename": "KeyboardInterrupt",
     "evalue": "",
     "output_type": "error",
     "traceback": [
      "\u001b[0;31m---------------------------------------------------------------------------\u001b[0m",
      "\u001b[0;31mKeyboardInterrupt\u001b[0m                         Traceback (most recent call last)",
      "\u001b[0;32m/tmp/ipykernel_12570/4019165813.py\u001b[0m in \u001b[0;36m<module>\u001b[0;34m\u001b[0m\n\u001b[1;32m      1\u001b[0m \u001b[0;31m# 220123\u001b[0m\u001b[0;34m\u001b[0m\u001b[0;34m\u001b[0m\u001b[0;34m\u001b[0m\u001b[0m\n\u001b[0;32m----> 2\u001b[0;31m collision_model.fit(x=train_x_real, y=[train_y_class, train_y_coll], batch_size=25, epochs=20,\n\u001b[0m\u001b[1;32m      3\u001b[0m                validation_data=(test_x,[test_y_class,test_y_coll]))\n",
      "\u001b[0;32m~/.local/lib/python3.8/site-packages/keras/utils/traceback_utils.py\u001b[0m in \u001b[0;36merror_handler\u001b[0;34m(*args, **kwargs)\u001b[0m\n\u001b[1;32m     62\u001b[0m     \u001b[0mfiltered_tb\u001b[0m \u001b[0;34m=\u001b[0m \u001b[0;32mNone\u001b[0m\u001b[0;34m\u001b[0m\u001b[0;34m\u001b[0m\u001b[0m\n\u001b[1;32m     63\u001b[0m     \u001b[0;32mtry\u001b[0m\u001b[0;34m:\u001b[0m\u001b[0;34m\u001b[0m\u001b[0;34m\u001b[0m\u001b[0m\n\u001b[0;32m---> 64\u001b[0;31m       \u001b[0;32mreturn\u001b[0m \u001b[0mfn\u001b[0m\u001b[0;34m(\u001b[0m\u001b[0;34m*\u001b[0m\u001b[0margs\u001b[0m\u001b[0;34m,\u001b[0m \u001b[0;34m**\u001b[0m\u001b[0mkwargs\u001b[0m\u001b[0;34m)\u001b[0m\u001b[0;34m\u001b[0m\u001b[0;34m\u001b[0m\u001b[0m\n\u001b[0m\u001b[1;32m     65\u001b[0m     \u001b[0;32mexcept\u001b[0m \u001b[0mException\u001b[0m \u001b[0;32mas\u001b[0m \u001b[0me\u001b[0m\u001b[0;34m:\u001b[0m  \u001b[0;31m# pylint: disable=broad-except\u001b[0m\u001b[0;34m\u001b[0m\u001b[0;34m\u001b[0m\u001b[0m\n\u001b[1;32m     66\u001b[0m       \u001b[0mfiltered_tb\u001b[0m \u001b[0;34m=\u001b[0m \u001b[0m_process_traceback_frames\u001b[0m\u001b[0;34m(\u001b[0m\u001b[0me\u001b[0m\u001b[0;34m.\u001b[0m\u001b[0m__traceback__\u001b[0m\u001b[0;34m)\u001b[0m\u001b[0;34m\u001b[0m\u001b[0;34m\u001b[0m\u001b[0m\n",
      "\u001b[0;32m~/.local/lib/python3.8/site-packages/keras/engine/training.py\u001b[0m in \u001b[0;36mfit\u001b[0;34m(self, x, y, batch_size, epochs, verbose, callbacks, validation_split, validation_data, shuffle, class_weight, sample_weight, initial_epoch, steps_per_epoch, validation_steps, validation_batch_size, validation_freq, max_queue_size, workers, use_multiprocessing)\u001b[0m\n\u001b[1;32m   1214\u001b[0m                 _r=1):\n\u001b[1;32m   1215\u001b[0m               \u001b[0mcallbacks\u001b[0m\u001b[0;34m.\u001b[0m\u001b[0mon_train_batch_begin\u001b[0m\u001b[0;34m(\u001b[0m\u001b[0mstep\u001b[0m\u001b[0;34m)\u001b[0m\u001b[0;34m\u001b[0m\u001b[0;34m\u001b[0m\u001b[0m\n\u001b[0;32m-> 1216\u001b[0;31m               \u001b[0mtmp_logs\u001b[0m \u001b[0;34m=\u001b[0m \u001b[0mself\u001b[0m\u001b[0;34m.\u001b[0m\u001b[0mtrain_function\u001b[0m\u001b[0;34m(\u001b[0m\u001b[0miterator\u001b[0m\u001b[0;34m)\u001b[0m\u001b[0;34m\u001b[0m\u001b[0;34m\u001b[0m\u001b[0m\n\u001b[0m\u001b[1;32m   1217\u001b[0m               \u001b[0;32mif\u001b[0m \u001b[0mdata_handler\u001b[0m\u001b[0;34m.\u001b[0m\u001b[0mshould_sync\u001b[0m\u001b[0;34m:\u001b[0m\u001b[0;34m\u001b[0m\u001b[0;34m\u001b[0m\u001b[0m\n\u001b[1;32m   1218\u001b[0m                 \u001b[0mcontext\u001b[0m\u001b[0;34m.\u001b[0m\u001b[0masync_wait\u001b[0m\u001b[0;34m(\u001b[0m\u001b[0;34m)\u001b[0m\u001b[0;34m\u001b[0m\u001b[0;34m\u001b[0m\u001b[0m\n",
      "\u001b[0;32m~/.local/lib/python3.8/site-packages/tensorflow/python/util/traceback_utils.py\u001b[0m in \u001b[0;36merror_handler\u001b[0;34m(*args, **kwargs)\u001b[0m\n\u001b[1;32m    148\u001b[0m     \u001b[0mfiltered_tb\u001b[0m \u001b[0;34m=\u001b[0m \u001b[0;32mNone\u001b[0m\u001b[0;34m\u001b[0m\u001b[0;34m\u001b[0m\u001b[0m\n\u001b[1;32m    149\u001b[0m     \u001b[0;32mtry\u001b[0m\u001b[0;34m:\u001b[0m\u001b[0;34m\u001b[0m\u001b[0;34m\u001b[0m\u001b[0m\n\u001b[0;32m--> 150\u001b[0;31m       \u001b[0;32mreturn\u001b[0m \u001b[0mfn\u001b[0m\u001b[0;34m(\u001b[0m\u001b[0;34m*\u001b[0m\u001b[0margs\u001b[0m\u001b[0;34m,\u001b[0m \u001b[0;34m**\u001b[0m\u001b[0mkwargs\u001b[0m\u001b[0;34m)\u001b[0m\u001b[0;34m\u001b[0m\u001b[0;34m\u001b[0m\u001b[0m\n\u001b[0m\u001b[1;32m    151\u001b[0m     \u001b[0;32mexcept\u001b[0m \u001b[0mException\u001b[0m \u001b[0;32mas\u001b[0m \u001b[0me\u001b[0m\u001b[0;34m:\u001b[0m\u001b[0;34m\u001b[0m\u001b[0;34m\u001b[0m\u001b[0m\n\u001b[1;32m    152\u001b[0m       \u001b[0mfiltered_tb\u001b[0m \u001b[0;34m=\u001b[0m \u001b[0m_process_traceback_frames\u001b[0m\u001b[0;34m(\u001b[0m\u001b[0me\u001b[0m\u001b[0;34m.\u001b[0m\u001b[0m__traceback__\u001b[0m\u001b[0;34m)\u001b[0m\u001b[0;34m\u001b[0m\u001b[0;34m\u001b[0m\u001b[0m\n",
      "\u001b[0;32m~/.local/lib/python3.8/site-packages/tensorflow/python/eager/def_function.py\u001b[0m in \u001b[0;36m__call__\u001b[0;34m(self, *args, **kwds)\u001b[0m\n\u001b[1;32m    908\u001b[0m \u001b[0;34m\u001b[0m\u001b[0m\n\u001b[1;32m    909\u001b[0m       \u001b[0;32mwith\u001b[0m \u001b[0mOptionalXlaContext\u001b[0m\u001b[0;34m(\u001b[0m\u001b[0mself\u001b[0m\u001b[0;34m.\u001b[0m\u001b[0m_jit_compile\u001b[0m\u001b[0;34m)\u001b[0m\u001b[0;34m:\u001b[0m\u001b[0;34m\u001b[0m\u001b[0;34m\u001b[0m\u001b[0m\n\u001b[0;32m--> 910\u001b[0;31m         \u001b[0mresult\u001b[0m \u001b[0;34m=\u001b[0m \u001b[0mself\u001b[0m\u001b[0;34m.\u001b[0m\u001b[0m_call\u001b[0m\u001b[0;34m(\u001b[0m\u001b[0;34m*\u001b[0m\u001b[0margs\u001b[0m\u001b[0;34m,\u001b[0m \u001b[0;34m**\u001b[0m\u001b[0mkwds\u001b[0m\u001b[0;34m)\u001b[0m\u001b[0;34m\u001b[0m\u001b[0;34m\u001b[0m\u001b[0m\n\u001b[0m\u001b[1;32m    911\u001b[0m \u001b[0;34m\u001b[0m\u001b[0m\n\u001b[1;32m    912\u001b[0m       \u001b[0mnew_tracing_count\u001b[0m \u001b[0;34m=\u001b[0m \u001b[0mself\u001b[0m\u001b[0;34m.\u001b[0m\u001b[0mexperimental_get_tracing_count\u001b[0m\u001b[0;34m(\u001b[0m\u001b[0;34m)\u001b[0m\u001b[0;34m\u001b[0m\u001b[0;34m\u001b[0m\u001b[0m\n",
      "\u001b[0;32m~/.local/lib/python3.8/site-packages/tensorflow/python/eager/def_function.py\u001b[0m in \u001b[0;36m_call\u001b[0;34m(self, *args, **kwds)\u001b[0m\n\u001b[1;32m    940\u001b[0m       \u001b[0;31m# In this case we have created variables on the first call, so we run the\u001b[0m\u001b[0;34m\u001b[0m\u001b[0;34m\u001b[0m\u001b[0;34m\u001b[0m\u001b[0m\n\u001b[1;32m    941\u001b[0m       \u001b[0;31m# defunned version which is guaranteed to never create variables.\u001b[0m\u001b[0;34m\u001b[0m\u001b[0;34m\u001b[0m\u001b[0;34m\u001b[0m\u001b[0m\n\u001b[0;32m--> 942\u001b[0;31m       \u001b[0;32mreturn\u001b[0m \u001b[0mself\u001b[0m\u001b[0;34m.\u001b[0m\u001b[0m_stateless_fn\u001b[0m\u001b[0;34m(\u001b[0m\u001b[0;34m*\u001b[0m\u001b[0margs\u001b[0m\u001b[0;34m,\u001b[0m \u001b[0;34m**\u001b[0m\u001b[0mkwds\u001b[0m\u001b[0;34m)\u001b[0m  \u001b[0;31m# pylint: disable=not-callable\u001b[0m\u001b[0;34m\u001b[0m\u001b[0;34m\u001b[0m\u001b[0m\n\u001b[0m\u001b[1;32m    943\u001b[0m     \u001b[0;32melif\u001b[0m \u001b[0mself\u001b[0m\u001b[0;34m.\u001b[0m\u001b[0m_stateful_fn\u001b[0m \u001b[0;32mis\u001b[0m \u001b[0;32mnot\u001b[0m \u001b[0;32mNone\u001b[0m\u001b[0;34m:\u001b[0m\u001b[0;34m\u001b[0m\u001b[0;34m\u001b[0m\u001b[0m\n\u001b[1;32m    944\u001b[0m       \u001b[0;31m# Release the lock early so that multiple threads can perform the call\u001b[0m\u001b[0;34m\u001b[0m\u001b[0;34m\u001b[0m\u001b[0;34m\u001b[0m\u001b[0m\n",
      "\u001b[0;32m~/.local/lib/python3.8/site-packages/tensorflow/python/eager/function.py\u001b[0m in \u001b[0;36m__call__\u001b[0;34m(self, *args, **kwargs)\u001b[0m\n\u001b[1;32m   3128\u001b[0m       (graph_function,\n\u001b[1;32m   3129\u001b[0m        filtered_flat_args) = self._maybe_define_function(args, kwargs)\n\u001b[0;32m-> 3130\u001b[0;31m     return graph_function._call_flat(\n\u001b[0m\u001b[1;32m   3131\u001b[0m         filtered_flat_args, captured_inputs=graph_function.captured_inputs)  # pylint: disable=protected-access\n\u001b[1;32m   3132\u001b[0m \u001b[0;34m\u001b[0m\u001b[0m\n",
      "\u001b[0;32m~/.local/lib/python3.8/site-packages/tensorflow/python/eager/function.py\u001b[0m in \u001b[0;36m_call_flat\u001b[0;34m(self, args, captured_inputs, cancellation_manager)\u001b[0m\n\u001b[1;32m   1957\u001b[0m         and executing_eagerly):\n\u001b[1;32m   1958\u001b[0m       \u001b[0;31m# No tape is watching; skip to running the function.\u001b[0m\u001b[0;34m\u001b[0m\u001b[0;34m\u001b[0m\u001b[0;34m\u001b[0m\u001b[0m\n\u001b[0;32m-> 1959\u001b[0;31m       return self._build_call_outputs(self._inference_function.call(\n\u001b[0m\u001b[1;32m   1960\u001b[0m           ctx, args, cancellation_manager=cancellation_manager))\n\u001b[1;32m   1961\u001b[0m     forward_backward = self._select_forward_and_backward_functions(\n",
      "\u001b[0;32m~/.local/lib/python3.8/site-packages/tensorflow/python/eager/function.py\u001b[0m in \u001b[0;36mcall\u001b[0;34m(self, ctx, args, cancellation_manager)\u001b[0m\n\u001b[1;32m    596\u001b[0m       \u001b[0;32mwith\u001b[0m \u001b[0m_InterpolateFunctionError\u001b[0m\u001b[0;34m(\u001b[0m\u001b[0mself\u001b[0m\u001b[0;34m)\u001b[0m\u001b[0;34m:\u001b[0m\u001b[0;34m\u001b[0m\u001b[0;34m\u001b[0m\u001b[0m\n\u001b[1;32m    597\u001b[0m         \u001b[0;32mif\u001b[0m \u001b[0mcancellation_manager\u001b[0m \u001b[0;32mis\u001b[0m \u001b[0;32mNone\u001b[0m\u001b[0;34m:\u001b[0m\u001b[0;34m\u001b[0m\u001b[0;34m\u001b[0m\u001b[0m\n\u001b[0;32m--> 598\u001b[0;31m           outputs = execute.execute(\n\u001b[0m\u001b[1;32m    599\u001b[0m               \u001b[0mstr\u001b[0m\u001b[0;34m(\u001b[0m\u001b[0mself\u001b[0m\u001b[0;34m.\u001b[0m\u001b[0msignature\u001b[0m\u001b[0;34m.\u001b[0m\u001b[0mname\u001b[0m\u001b[0;34m)\u001b[0m\u001b[0;34m,\u001b[0m\u001b[0;34m\u001b[0m\u001b[0;34m\u001b[0m\u001b[0m\n\u001b[1;32m    600\u001b[0m               \u001b[0mnum_outputs\u001b[0m\u001b[0;34m=\u001b[0m\u001b[0mself\u001b[0m\u001b[0;34m.\u001b[0m\u001b[0m_num_outputs\u001b[0m\u001b[0;34m,\u001b[0m\u001b[0;34m\u001b[0m\u001b[0;34m\u001b[0m\u001b[0m\n",
      "\u001b[0;32m~/.local/lib/python3.8/site-packages/tensorflow/python/eager/execute.py\u001b[0m in \u001b[0;36mquick_execute\u001b[0;34m(op_name, num_outputs, inputs, attrs, ctx, name)\u001b[0m\n\u001b[1;32m     56\u001b[0m   \u001b[0;32mtry\u001b[0m\u001b[0;34m:\u001b[0m\u001b[0;34m\u001b[0m\u001b[0;34m\u001b[0m\u001b[0m\n\u001b[1;32m     57\u001b[0m     \u001b[0mctx\u001b[0m\u001b[0;34m.\u001b[0m\u001b[0mensure_initialized\u001b[0m\u001b[0;34m(\u001b[0m\u001b[0;34m)\u001b[0m\u001b[0;34m\u001b[0m\u001b[0;34m\u001b[0m\u001b[0m\n\u001b[0;32m---> 58\u001b[0;31m     tensors = pywrap_tfe.TFE_Py_Execute(ctx._handle, device_name, op_name,\n\u001b[0m\u001b[1;32m     59\u001b[0m                                         inputs, attrs, num_outputs)\n\u001b[1;32m     60\u001b[0m   \u001b[0;32mexcept\u001b[0m \u001b[0mcore\u001b[0m\u001b[0;34m.\u001b[0m\u001b[0m_NotOkStatusException\u001b[0m \u001b[0;32mas\u001b[0m \u001b[0me\u001b[0m\u001b[0;34m:\u001b[0m\u001b[0;34m\u001b[0m\u001b[0;34m\u001b[0m\u001b[0m\n",
      "\u001b[0;31mKeyboardInterrupt\u001b[0m: "
     ]
    }
   ],
   "source": [
    "# 220123\n",
    "collision_model.fit(x=train_x_real, y=[train_y_class, train_y_coll], batch_size=25, epochs=20,\n",
    "               validation_data=(test_x,[test_y_class,test_y_coll]))"
   ]
  },
  {
   "cell_type": "code",
   "execution_count": null,
   "id": "2f8e1522",
   "metadata": {},
   "outputs": [],
   "source": [
    "########## collision_model.save('./remastered_model_220121')\n",
    "\n",
    "# collision_model.save('./your_model')"
   ]
  },
  {
   "cell_type": "code",
   "execution_count": 41,
   "id": "b0c3401c",
   "metadata": {},
   "outputs": [],
   "source": [
    "# 학습된 모델의 테스트. 학습하다가 중간중간 끊어서 테스트 한번씩 해보세요\n",
    "def test(model, image):\n",
    "    plt.subplot(1,1,1)\n",
    "    plt.imshow(image,'gray')\n",
    "    return model.predict(image.reshape(1,224,224,1))"
   ]
  },
  {
   "cell_type": "code",
   "execution_count": 42,
   "id": "566c1b8d",
   "metadata": {},
   "outputs": [
    {
     "data": {
      "text/plain": [
       "[array([[2.8137150e-05, 5.4437241e-09, 9.9997187e-01]], dtype=float32),\n",
       " array([[0.99978334]], dtype=float32)]"
      ]
     },
     "execution_count": 42,
     "metadata": {},
     "output_type": "execute_result"
    },
    {
     "data": {
      "image/png": "[encoded data removed]",
      "text/plain": [
       "<Figure size 432x288 with 1 Axes>"
      ]
     },
     "metadata": {
      "needs_background": "light"
     },
     "output_type": "display_data"
    }
   ],
   "source": [
    "# train_images1\n",
    "i = np.random.randint(len(drive_x)-1)\n",
    "test(collision_model, drive_x[i])"
   ]
  },
  {
   "cell_type": "code",
   "execution_count": 43,
   "id": "d305f208",
   "metadata": {
    "scrolled": true
   },
   "outputs": [
    {
     "data": {
      "text/plain": [
       "[array([[0.3282358 , 0.30247465, 0.36928952]], dtype=float32),\n",
       " array([[0.52062577]], dtype=float32)]"
      ]
     },
     "execution_count": 43,
     "metadata": {},
     "output_type": "execute_result"
    },
    {
     "data": {
      "image/png": "[encoded data removed]",
      "text/plain": [
       "<Figure size 432x288 with 1 Axes>"
      ]
     },
     "metadata": {
      "needs_background": "light"
     },
     "output_type": "display_data"
    }
   ],
   "source": [
    "# train_images2\n",
    "i = np.random.randint(len(col_x2)-1)\n",
    "test(collision_model, col_x2[i])"
   ]
  },
  {
   "cell_type": "code",
   "execution_count": null,
   "id": "9d20fe49",
   "metadata": {},
   "outputs": [],
   "source": []
  }
 ],
 "metadata": {
  "kernelspec": {
   "display_name": "Python 3 (ipykernel)",
   "language": "python",
   "name": "python3"
  },
  "language_info": {
   "codemirror_mode": {
    "name": "ipython",
    "version": 3
   },
   "file_extension": ".py",
   "mimetype": "text/x-python",
   "name": "python",
   "nbconvert_exporter": "python",
   "pygments_lexer": "ipython3",
   "version": "3.8.10"
  }
 },
 "nbformat": 4,
 "nbformat_minor": 5
}
