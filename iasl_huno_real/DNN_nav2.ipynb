{
 "cells": [
  {
   "cell_type": "code",
   "execution_count": 1,
   "id": "severe-proceeding",
   "metadata": {},
   "outputs": [],
   "source": [
    "import tensorflow as tf\n",
    "import numpy as np\n",
    "import matplotlib.pyplot as plt\n",
    "# from selenium import webdriver\n",
    "import os\n",
    "import requests\n",
    "import re\n",
    "import pandas as pd\n",
    "from tensorflow import keras\n",
    "from tensorflow.keras.models import Sequential\n",
    "from tensorflow.keras.layers import LSTM, Dropout, Dense, Activation\n",
    "from tensorflow.keras.layers import BatchNormalization\n",
    "import datetime"
   ]
  },
  {
   "cell_type": "code",
   "execution_count": 2,
   "id": "foreign-immigration",
   "metadata": {},
   "outputs": [],
   "source": [
    "import cv2"
   ]
  },
  {
   "cell_type": "code",
   "execution_count": 3,
   "id": "equal-oxygen",
   "metadata": {},
   "outputs": [
    {
     "name": "stdout",
     "output_type": "stream",
     "text": [
      "1\n",
      "2\n",
      "3\n",
      "4\n",
      "5\n",
      "6\n",
      "7\n",
      "8\n",
      "9\n",
      "10\n",
      "11\n",
      "12\n",
      "13\n",
      "14\n",
      "15\n",
      "16\n",
      "17\n",
      "18\n",
      "19\n",
      "20\n",
      "21\n",
      "22\n",
      "23\n",
      "24\n",
      "25\n",
      "26\n",
      "27\n",
      "28\n",
      "29\n",
      "30\n",
      "31\n",
      "32\n",
      "33\n",
      "34\n",
      "35\n",
      "36\n",
      "37\n",
      "38\n",
      "39\n",
      "40\n",
      "41\n",
      "42\n",
      "43\n",
      "44\n",
      "45\n",
      "46\n",
      "47\n",
      "48\n",
      "49\n",
      "50\n",
      "51\n",
      "52\n",
      "53\n",
      "54\n",
      "55\n",
      "56\n",
      "57\n",
      "58\n",
      "59\n",
      "60\n",
      "61\n",
      "62\n",
      "63\n",
      "64\n",
      "65\n",
      "66\n",
      "67\n",
      "68\n",
      "69\n",
      "70\n",
      "71\n",
      "72\n",
      "73\n",
      "74\n",
      "75\n",
      "76\n",
      "77\n",
      "78\n",
      "79\n",
      "80\n",
      "81\n",
      "82\n",
      "83\n",
      "84\n",
      "85\n",
      "86\n",
      "87\n",
      "88\n",
      "89\n",
      "90\n",
      "91\n",
      "92\n",
      "93\n",
      "94\n",
      "95\n",
      "96\n",
      "97\n",
      "98\n",
      "99\n",
      "100\n",
      "101\n",
      "102\n",
      "103\n",
      "104\n",
      "105\n",
      "106\n",
      "107\n",
      "108\n",
      "109\n",
      "110\n",
      "111\n",
      "112\n",
      "113\n",
      "114\n",
      "115\n",
      "116\n",
      "117\n",
      "118\n",
      "119\n",
      "120\n",
      "121\n",
      "122\n",
      "123\n",
      "124\n",
      "125\n",
      "126\n",
      "127\n",
      "128\n",
      "129\n",
      "130\n",
      "131\n",
      "132\n",
      "133\n",
      "134\n",
      "135\n",
      "136\n",
      "137\n",
      "138\n",
      "139\n",
      "140\n",
      "141\n",
      "142\n",
      "143\n",
      "144\n",
      "145\n",
      "146\n",
      "147\n",
      "148\n",
      "149\n",
      "150\n",
      "151\n",
      "152\n",
      "153\n",
      "154\n",
      "155\n",
      "156\n",
      "157\n",
      "158\n",
      "159\n",
      "160\n",
      "161\n",
      "162\n",
      "163\n",
      "164\n",
      "165\n",
      "166\n",
      "167\n",
      "168\n",
      "169\n",
      "170\n",
      "171\n",
      "172\n",
      "173\n",
      "174\n",
      "175\n",
      "176\n",
      "177\n",
      "178\n",
      "179\n",
      "180\n",
      "181\n",
      "182\n",
      "183\n",
      "184\n",
      "185\n",
      "186\n",
      "187\n",
      "188\n",
      "189\n",
      "190\n",
      "191\n",
      "192\n",
      "193\n",
      "194\n",
      "195\n",
      "196\n",
      "197\n",
      "198\n",
      "199\n",
      "200\n",
      "201\n",
      "202\n",
      "203\n",
      "204\n",
      "205\n",
      "206\n",
      "207\n",
      "208\n",
      "209\n",
      "210\n",
      "211\n",
      "212\n",
      "213\n",
      "214\n",
      "215\n",
      "216\n",
      "217\n",
      "218\n",
      "219\n",
      "220\n",
      "221\n",
      "222\n",
      "223\n",
      "224\n",
      "225\n",
      "226\n",
      "227\n",
      "228\n",
      "229\n",
      "230\n",
      "231\n",
      "232\n",
      "233\n",
      "234\n",
      "235\n",
      "236\n",
      "237\n",
      "238\n",
      "239\n",
      "240\n",
      "241\n",
      "242\n",
      "243\n",
      "244\n",
      "245\n",
      "246\n",
      "247\n",
      "248\n",
      "249\n",
      "250\n",
      "251\n",
      "252\n",
      "253\n",
      "254\n",
      "255\n",
      "256\n",
      "257\n",
      "258\n",
      "259\n",
      "260\n",
      "261\n",
      "262\n",
      "263\n",
      "264\n",
      "265\n",
      "266\n",
      "267\n",
      "268\n",
      "269\n",
      "270\n",
      "271\n",
      "272\n",
      "273\n",
      "274\n",
      "275\n",
      "276\n",
      "277\n",
      "278\n",
      "279\n",
      "280\n",
      "281\n",
      "282\n",
      "283\n",
      "284\n",
      "285\n",
      "286\n",
      "287\n",
      "288\n",
      "289\n",
      "290\n",
      "291\n",
      "292\n",
      "293\n",
      "294\n",
      "295\n",
      "296\n",
      "297\n",
      "298\n",
      "299\n",
      "300\n",
      "301\n",
      "302\n",
      "303\n",
      "304\n",
      "305\n",
      "306\n",
      "307\n",
      "308\n",
      "309\n",
      "310\n",
      "311\n",
      "312\n",
      "313\n",
      "314\n",
      "315\n",
      "316\n",
      "317\n",
      "318\n",
      "319\n",
      "320\n",
      "321\n",
      "322\n",
      "323\n",
      "324\n",
      "325\n",
      "326\n",
      "327\n",
      "328\n",
      "329\n",
      "330\n",
      "331\n",
      "332\n",
      "333\n",
      "334\n",
      "335\n",
      "336\n",
      "337\n",
      "338\n",
      "339\n",
      "340\n",
      "341\n",
      "342\n",
      "343\n",
      "344\n",
      "345\n",
      "346\n",
      "347\n",
      "348\n",
      "349\n",
      "350\n",
      "351\n",
      "352\n",
      "353\n",
      "354\n",
      "355\n",
      "356\n",
      "357\n",
      "358\n",
      "359\n",
      "360\n",
      "361\n",
      "362\n",
      "363\n",
      "364\n",
      "365\n",
      "366\n",
      "367\n",
      "368\n",
      "369\n",
      "370\n",
      "371\n",
      "372\n",
      "373\n",
      "374\n",
      "375\n",
      "376\n",
      "377\n",
      "378\n",
      "379\n",
      "380\n",
      "381\n",
      "382\n",
      "383\n",
      "384\n",
      "385\n",
      "386\n",
      "387\n",
      "388\n",
      "389\n",
      "390\n",
      "391\n",
      "392\n",
      "393\n",
      "394\n",
      "395\n",
      "396\n",
      "397\n",
      "398\n",
      "399\n",
      "400\n",
      "401\n",
      "402\n",
      "403\n",
      "404\n",
      "405\n",
      "406\n",
      "407\n",
      "408\n",
      "409\n",
      "410\n",
      "411\n",
      "412\n",
      "413\n",
      "414\n",
      "415\n",
      "416\n",
      "417\n",
      "418\n",
      "419\n",
      "420\n",
      "421\n",
      "422\n",
      "423\n",
      "424\n",
      "425\n",
      "426\n",
      "427\n",
      "428\n",
      "429\n",
      "430\n",
      "431\n",
      "432\n",
      "433\n",
      "434\n",
      "435\n",
      "436\n",
      "437\n",
      "438\n",
      "439\n",
      "440\n",
      "441\n",
      "442\n",
      "443\n",
      "444\n",
      "445\n",
      "446\n",
      "447\n",
      "448\n",
      "449\n",
      "450\n",
      "451\n",
      "452\n",
      "453\n",
      "454\n",
      "455\n",
      "456\n",
      "457\n",
      "458\n",
      "459\n",
      "460\n",
      "461\n",
      "462\n",
      "463\n",
      "464\n",
      "465\n",
      "466\n",
      "467\n",
      "468\n",
      "469\n",
      "470\n",
      "471\n",
      "472\n",
      "473\n",
      "474\n",
      "475\n",
      "476\n",
      "477\n",
      "478\n",
      "479\n",
      "480\n",
      "481\n",
      "482\n",
      "483\n",
      "484\n",
      "485\n",
      "486\n",
      "487\n",
      "488\n",
      "489\n",
      "490\n",
      "491\n",
      "492\n",
      "493\n",
      "494\n",
      "495\n",
      "496\n",
      "497\n",
      "498\n",
      "499\n",
      "500\n",
      "501\n"
     ]
    }
   ],
   "source": [
    "# train_images = np.array()\n",
    "import time\n",
    "number = 1\n",
    "while True:\n",
    "    try:\n",
    "        print(number)\n",
    "        img_name = \"image/camera_image\" + str(number) + \".jpeg\"\n",
    "        image = cv2.imread(img_name, cv2.IMREAD_ANYCOLOR)\n",
    "        image_resized = cv2.resize(image, dsize=(640, 480), interpolation=cv2.INTER_LINEAR)\n",
    "        if number == 1:\n",
    "            train_images = np.array(image_resized)\n",
    "        else:\n",
    "            train_images = np.vstack((train_images, image_resized))\n",
    "        number += 1\n",
    "#         print(train_images.shape)\n",
    "    except:\n",
    "        break\n",
    "train_set = np.reshape(train_images, [500,int(train_images.shape[0]/500), train_images.shape[1]])"
   ]
  },
  {
   "cell_type": "code",
   "execution_count": 4,
   "id": "7b569ae3",
   "metadata": {},
   "outputs": [
    {
     "data": {
      "text/plain": [
       "(240000, 640)"
      ]
     },
     "execution_count": 4,
     "metadata": {},
     "output_type": "execute_result"
    }
   ],
   "source": [
    "train_images.shape"
   ]
  },
  {
   "cell_type": "code",
   "execution_count": 5,
   "id": "through-duplicate",
   "metadata": {},
   "outputs": [
    {
     "data": {
      "text/plain": [
       "(500, 480, 640)"
      ]
     },
     "execution_count": 5,
     "metadata": {},
     "output_type": "execute_result"
    }
   ],
   "source": [
    "train_set.shape"
   ]
  },
  {
   "cell_type": "code",
   "execution_count": 6,
   "id": "suspected-rebate",
   "metadata": {},
   "outputs": [],
   "source": [
    "txt = ''\n",
    "with open('label.txt', 'r') as f:\n",
    "    txt = f.read()"
   ]
  },
  {
   "cell_type": "code",
   "execution_count": 7,
   "id": "welsh-stage",
   "metadata": {},
   "outputs": [
    {
     "data": {
      "text/plain": [
       "'2 2 2 3 3 1 1 1 0 0 1 1 0 0 0 0 0 0 0 0 0 0 0 0 2 2 2 2 2 2 2 2 0 0 0 0 0 1 1 1 1 2 2 1 1 2 2 2 2 1 2 1 1 1 1 1 2 2 2 2 2 2 2 2 2 2 2 2 1 2 2 2 2 2 2 2 2 2 2 2 2 2 2 3 3 3 2 1 1 2 2 2 2 2 2 2 2 2 2 2 2 2 2 2 3 3 3 3 2 2 2 2 2 2 2 2 2 2 3 2 2 2 3 3 2 2 2 2 2 0 0 0 0 0 0 3 0 0 0 0 0 0 0 0 0 0 3 3 3 2 2 2 2 2 2 2 2 2 2 2 2 2 2 2 2 3 3 3 3 3 3 3 3 2 2 2 2 2 2 2 1 1 1 0 0 0 0 0 0 2 2 2 2 2 2 2 0 0 0 0 0 0 3 2 2 2 2 2 2 2 2 2 2 2 2 2 2 0 0 0 0 0 0 0 0 0 3 3 3 3 3 2 2 2 2 2 2 2 2 2 2 2 2 1 1 1 2 1 1 1 1 1 1 1 1 1 0 0 0 2 2 2 2 2 2 2 2 2 2 2 2 2 2 2 2 2 2 2 2 2 2 2 0 0 0 3 2 2 2 2 2 2 2 1 0 0 0 0 0 0 0 3 3 3 3 3 2 2 3 3 3 3 2 0 0 0 0 0 0 0 0 0 0 0 0 0 0 0 0 0 0 0 0 0 0 0 0 0 0 0 0 0 0 0 0 0 0 0 0 0 0 0 0 0 0 0 0 0 1 1 1 1 2 2 2 2 2 3 3 1 1 0 2 2 2 2 2 2 2 2 2 2 2 2 2 2 2 2 2 2 2 1 0 0 3 1 1 3 3 3 3 3 3 2 2 2 2 2 2 2 2 2 2 2 2 2 2 2 2 2 2 2 2 2 2 2 2 2 1 1 1 1 1 1 0 0 0 0 0 0 0 0 0 0 0 0 0 0 0 0 0 0 0 3 3 3 3 3 3 3 3 3 3 3 3 2 0 0 0 0 0 0 0 0 0 0 0 0 0 0 0 0 0 0 0 0 0 0 0 0 3 3 0 0 0 0 0 0 0 0 \\n'"
      ]
     },
     "execution_count": 7,
     "metadata": {},
     "output_type": "execute_result"
    }
   ],
   "source": [
    "txt"
   ]
  },
  {
   "cell_type": "code",
   "execution_count": 8,
   "id": "handmade-qatar",
   "metadata": {},
   "outputs": [],
   "source": [
    "import re\n",
    "a = re.compile('[0-9]+')\n",
    "train_y = a.findall(txt)"
   ]
  },
  {
   "cell_type": "code",
   "execution_count": 9,
   "id": "prompt-publication",
   "metadata": {},
   "outputs": [],
   "source": [
    "train_y = np.array(train_y)"
   ]
  },
  {
   "cell_type": "code",
   "execution_count": 10,
   "id": "shared-dress",
   "metadata": {},
   "outputs": [
    {
     "data": {
      "text/plain": [
       "(500,)"
      ]
     },
     "execution_count": 10,
     "metadata": {},
     "output_type": "execute_result"
    }
   ],
   "source": [
    "train_y.shape"
   ]
  },
  {
   "cell_type": "code",
   "execution_count": 11,
   "id": "6477cfd5",
   "metadata": {},
   "outputs": [],
   "source": [
    "train_set_y = keras.utils.to_categorical(train_y)"
   ]
  },
  {
   "cell_type": "code",
   "execution_count": 12,
   "id": "b44a2e81",
   "metadata": {},
   "outputs": [
    {
     "data": {
      "text/plain": [
       "(500, 480, 640)"
      ]
     },
     "execution_count": 12,
     "metadata": {},
     "output_type": "execute_result"
    }
   ],
   "source": [
    "train_set.shape"
   ]
  },
  {
   "cell_type": "code",
   "execution_count": 13,
   "id": "737da266",
   "metadata": {},
   "outputs": [],
   "source": [
    "train_set = train_set[...,np.newaxis]"
   ]
  },
  {
   "cell_type": "code",
   "execution_count": 14,
   "id": "f768cb3d",
   "metadata": {},
   "outputs": [
    {
     "data": {
      "text/plain": [
       "(500, 480, 640, 1)"
      ]
     },
     "execution_count": 14,
     "metadata": {},
     "output_type": "execute_result"
    }
   ],
   "source": [
    "train_set.shape"
   ]
  },
  {
   "cell_type": "code",
   "execution_count": 15,
   "id": "9e30535e",
   "metadata": {},
   "outputs": [],
   "source": [
    "from sklearn.utils import shuffle\n",
    "\n",
    "train_set_s, train_set_y_s = shuffle(train_set, train_set_y)"
   ]
  },
  {
   "cell_type": "code",
   "execution_count": 16,
   "id": "5f097eac",
   "metadata": {},
   "outputs": [],
   "source": [
    "train_x = train_set[:300]\n",
    "test_x = train_set[300:]\n",
    "train_y = train_set_y[:300]\n",
    "test_y = train_set_y[300:]                      "
   ]
  },
  {
   "cell_type": "code",
   "execution_count": 17,
   "id": "6bf4ff49",
   "metadata": {},
   "outputs": [],
   "source": [
    "train_x = train_set_s[:300]\n",
    "test_x = train_set_s[300:]\n",
    "train_y = train_set_y_s[:300]\n",
    "test_y = train_set_y_s[300:]                      "
   ]
  },
  {
   "cell_type": "code",
   "execution_count": 18,
   "id": "df94b081",
   "metadata": {},
   "outputs": [
    {
     "data": {
      "text/plain": [
       "((300, 480, 640, 1), (200, 480, 640, 1))"
      ]
     },
     "execution_count": 18,
     "metadata": {},
     "output_type": "execute_result"
    }
   ],
   "source": [
    "train_x.shape, test_x.shape"
   ]
  },
  {
   "cell_type": "code",
   "execution_count": 19,
   "id": "b1ee46e8",
   "metadata": {
    "scrolled": true
   },
   "outputs": [
    {
     "data": {
      "text/plain": [
       "((300, 4), (200, 4))"
      ]
     },
     "execution_count": 19,
     "metadata": {},
     "output_type": "execute_result"
    }
   ],
   "source": [
    "train_y.shape, test_y.shape"
   ]
  },
  {
   "cell_type": "code",
   "execution_count": 20,
   "id": "374209f7",
   "metadata": {},
   "outputs": [],
   "source": [
    "batch_size = 32"
   ]
  },
  {
   "cell_type": "code",
   "execution_count": 21,
   "id": "3a8e24ba",
   "metadata": {},
   "outputs": [
    {
     "data": {
      "text/plain": [
       "(480, 640, 1)"
      ]
     },
     "execution_count": 21,
     "metadata": {},
     "output_type": "execute_result"
    }
   ],
   "source": [
    "input_shape = (train_x.shape[1:])\n",
    "input_shape"
   ]
  },
  {
   "cell_type": "code",
   "execution_count": 22,
   "id": "metallic-tissue",
   "metadata": {},
   "outputs": [],
   "source": [
    "model = keras.models.Sequential()\n",
    "model.add(keras.layers.Conv2D(filters=5, activation='relu', input_shape=input_shape, kernel_size=5))\n",
    "model.add(keras.layers.MaxPooling2D(3))\n",
    "# model.add(keras.layers.Flatten(input_shape=[train_set.shape[1], train_set.shape[2]]))\n",
    "model.add(keras.layers.Conv2D(filters=5, activation='relu', input_shape=input_shape, kernel_size=5))\n",
    "model.add(keras.layers.MaxPooling2D(3))\n",
    "model.add(keras.layers.Dropout(0.3))\n",
    "model.add(keras.layers.Flatten())\n",
    "model.add(keras.layers.Dense(300, activation=\"relu\"))\n",
    "model.add(keras.layers.Dropout(0.3))\n",
    "model.add(keras.layers.Dense(100, activation=\"relu\"))\n",
    "model.add(keras.layers.Dense(4, activation=\"softmax\"))"
   ]
  },
  {
   "cell_type": "code",
   "execution_count": 23,
   "id": "exempt-translation",
   "metadata": {
    "scrolled": true
   },
   "outputs": [
    {
     "name": "stdout",
     "output_type": "stream",
     "text": [
      "Model: \"sequential\"\n",
      "_________________________________________________________________\n",
      "Layer (type)                 Output Shape              Param #   \n",
      "=================================================================\n",
      "conv2d (Conv2D)              (None, 476, 636, 5)       130       \n",
      "_________________________________________________________________\n",
      "max_pooling2d (MaxPooling2D) (None, 158, 212, 5)       0         \n",
      "_________________________________________________________________\n",
      "conv2d_1 (Conv2D)            (None, 154, 208, 5)       630       \n",
      "_________________________________________________________________\n",
      "max_pooling2d_1 (MaxPooling2 (None, 51, 69, 5)         0         \n",
      "_________________________________________________________________\n",
      "dropout (Dropout)            (None, 51, 69, 5)         0         \n",
      "_________________________________________________________________\n",
      "flatten (Flatten)            (None, 17595)             0         \n",
      "_________________________________________________________________\n",
      "dense (Dense)                (None, 300)               5278800   \n",
      "_________________________________________________________________\n",
      "dropout_1 (Dropout)          (None, 300)               0         \n",
      "_________________________________________________________________\n",
      "dense_1 (Dense)              (None, 100)               30100     \n",
      "_________________________________________________________________\n",
      "dense_2 (Dense)              (None, 4)                 404       \n",
      "=================================================================\n",
      "Total params: 5,310,064\n",
      "Trainable params: 5,310,064\n",
      "Non-trainable params: 0\n",
      "_________________________________________________________________\n"
     ]
    }
   ],
   "source": [
    "model.summary()"
   ]
  },
  {
   "cell_type": "code",
   "execution_count": 24,
   "id": "intimate-arena",
   "metadata": {},
   "outputs": [],
   "source": [
    "model.compile(loss=\"categorical_crossentropy\",\n",
    "              optimizer=\"RMSprop\",\n",
    "              metrics=[\"accuracy\"])"
   ]
  },
  {
   "cell_type": "code",
   "execution_count": 25,
   "id": "flexible-sewing",
   "metadata": {
    "scrolled": true
   },
   "outputs": [
    {
     "name": "stdout",
     "output_type": "stream",
     "text": [
      "Epoch 1/20\n",
      "10/10 [==============================] - 23s 2s/step - loss: 25.3039 - accuracy: 0.5600 - val_loss: 2.1113 - val_accuracy: 0.6500\n",
      "Epoch 2/20\n",
      "10/10 [==============================] - 22s 2s/step - loss: 0.9049 - accuracy: 0.8917 - val_loss: 2.2358 - val_accuracy: 0.7200\n",
      "Epoch 3/20\n",
      "10/10 [==============================] - 22s 2s/step - loss: 1.0059 - accuracy: 0.8694 - val_loss: 2.0538 - val_accuracy: 0.7700\n",
      "Epoch 4/20\n",
      "10/10 [==============================] - 23s 2s/step - loss: 0.4740 - accuracy: 0.9516 - val_loss: 1.8080 - val_accuracy: 0.7950\n",
      "Epoch 5/20\n",
      "10/10 [==============================] - 22s 2s/step - loss: 0.3516 - accuracy: 0.9657 - val_loss: 1.7653 - val_accuracy: 0.7950\n",
      "Epoch 6/20\n",
      "10/10 [==============================] - 23s 2s/step - loss: 0.2926 - accuracy: 0.9881 - val_loss: 2.1026 - val_accuracy: 0.7800\n",
      "Epoch 7/20\n",
      "10/10 [==============================] - 22s 2s/step - loss: 0.4086 - accuracy: 0.9537 - val_loss: 2.2381 - val_accuracy: 0.7550\n",
      "Epoch 8/20\n",
      "10/10 [==============================] - 22s 2s/step - loss: 0.1287 - accuracy: 0.9588 - val_loss: 2.3722 - val_accuracy: 0.7650\n",
      "Epoch 9/20\n",
      "10/10 [==============================] - 22s 2s/step - loss: 0.0823 - accuracy: 0.9739 - val_loss: 2.7931 - val_accuracy: 0.7900\n",
      "Epoch 10/20\n",
      "10/10 [==============================] - 22s 2s/step - loss: 0.0955 - accuracy: 0.9765 - val_loss: 2.2377 - val_accuracy: 0.7950\n",
      "Epoch 11/20\n",
      "10/10 [==============================] - 21s 2s/step - loss: 0.0460 - accuracy: 0.9702 - val_loss: 3.0357 - val_accuracy: 0.7900\n",
      "Epoch 12/20\n",
      "10/10 [==============================] - 21s 2s/step - loss: 0.0630 - accuracy: 0.9863 - val_loss: 2.7440 - val_accuracy: 0.7750\n",
      "Epoch 13/20\n",
      "10/10 [==============================] - 21s 2s/step - loss: 0.0774 - accuracy: 0.9896 - val_loss: 3.2205 - val_accuracy: 0.8150\n",
      "Epoch 14/20\n",
      "10/10 [==============================] - 22s 2s/step - loss: 0.0252 - accuracy: 0.9956 - val_loss: 2.9196 - val_accuracy: 0.8100\n",
      "Epoch 15/20\n",
      "10/10 [==============================] - 21s 2s/step - loss: 0.0369 - accuracy: 0.9833 - val_loss: 3.8538 - val_accuracy: 0.7850\n",
      "Epoch 16/20\n",
      "10/10 [==============================] - 21s 2s/step - loss: 0.0432 - accuracy: 0.9874 - val_loss: 3.9660 - val_accuracy: 0.8050\n",
      "Epoch 17/20\n",
      "10/10 [==============================] - 21s 2s/step - loss: 0.0809 - accuracy: 0.9848 - val_loss: 3.6367 - val_accuracy: 0.7800\n",
      "Epoch 18/20\n",
      "10/10 [==============================] - 21s 2s/step - loss: 0.0170 - accuracy: 0.9923 - val_loss: 4.3858 - val_accuracy: 0.8050\n",
      "Epoch 19/20\n",
      "10/10 [==============================] - 21s 2s/step - loss: 0.0042 - accuracy: 1.0000 - val_loss: 4.4012 - val_accuracy: 0.7800\n",
      "Epoch 20/20\n",
      "10/10 [==============================] - 22s 2s/step - loss: 0.0032 - accuracy: 1.0000 - val_loss: 4.3926 - val_accuracy: 0.7650\n"
     ]
    }
   ],
   "source": [
    "history = model.fit(train_x, train_y, epochs=20,\n",
    "                    validation_data=(test_x, test_y),batch_size=batch_size)"
   ]
  },
  {
   "cell_type": "code",
   "execution_count": 26,
   "id": "6b7bf7b3",
   "metadata": {},
   "outputs": [
    {
     "data": {
      "text/plain": [
       "array([[1.0000000e+00, 6.4744538e-12, 9.8461710e-15, 2.7431757e-13]],\n",
       "      dtype=float32)"
      ]
     },
     "execution_count": 26,
     "metadata": {},
     "output_type": "execute_result"
    }
   ],
   "source": [
    "model.predict(train_x[3].reshape((1,480,640,1)))"
   ]
  },
  {
   "cell_type": "code",
   "execution_count": 27,
   "id": "99470fea",
   "metadata": {},
   "outputs": [
    {
     "data": {
      "text/plain": [
       "0"
      ]
     },
     "execution_count": 27,
     "metadata": {},
     "output_type": "execute_result"
    },
    {
     "data": {
      "image/png": "[encoded data removed]",
      "text/plain": [
       "<Figure size 432x288 with 1 Axes>"
      ]
     },
     "metadata": {
      "needs_background": "light"
     },
     "output_type": "display_data"
    }
   ],
   "source": [
    "plt.imshow(train_x[3].reshape((480,640)), 'gray')\n",
    "np.argmax(model.predict(train_x[3].reshape((1,480,640,1))))"
   ]
  },
  {
   "cell_type": "code",
   "execution_count": 28,
   "id": "8e0bae7b",
   "metadata": {},
   "outputs": [
    {
     "data": {
      "text/plain": [
       "0"
      ]
     },
     "execution_count": 28,
     "metadata": {},
     "output_type": "execute_result"
    },
    {
     "data": {
      "image/png": "[encoded data removed]",
      "text/plain": [
       "<Figure size 432x288 with 1 Axes>"
      ]
     },
     "metadata": {
      "needs_background": "light"
     },
     "output_type": "display_data"
    }
   ],
   "source": [
    "plt.imshow(train_x[10].reshape((480,640)), 'gray')\n",
    "np.argmax(model.predict(train_x[10].reshape((1,480,640,1))))"
   ]
  },
  {
   "cell_type": "code",
   "execution_count": 29,
   "id": "9078d8ca",
   "metadata": {},
   "outputs": [
    {
     "data": {
      "text/plain": [
       "(480, 640, 1)"
      ]
     },
     "execution_count": 29,
     "metadata": {},
     "output_type": "execute_result"
    }
   ],
   "source": [
    "train_x[0].shape"
   ]
  },
  {
   "cell_type": "code",
   "execution_count": 46,
   "id": "84ca4538",
   "metadata": {},
   "outputs": [
    {
     "data": {
      "text/plain": [
       "(480, 640, 1)"
      ]
     },
     "execution_count": 46,
     "metadata": {},
     "output_type": "execute_result"
    }
   ],
   "source": [
    "train_x[0].shape"
   ]
  },
  {
   "cell_type": "code",
   "execution_count": 30,
   "id": "fdae2a24",
   "metadata": {},
   "outputs": [
    {
     "name": "stdout",
     "output_type": "stream",
     "text": [
      "INFO:tensorflow:Assets written to: DNN_model/assets\n"
     ]
    }
   ],
   "source": [
    "model.save(\"DNN_model\")"
   ]
  }
 ],
 "metadata": {
  "kernelspec": {
   "display_name": "Python 3",
   "language": "python",
   "name": "python3"
  },
  "language_info": {
   "codemirror_mode": {
    "name": "ipython",
    "version": 3
   },
   "file_extension": ".py",
   "mimetype": "text/x-python",
   "name": "python",
   "nbconvert_exporter": "python",
   "pygments_lexer": "ipython3",
   "version": "3.7.10"
  }
 },
 "nbformat": 4,
 "nbformat_minor": 5
}
